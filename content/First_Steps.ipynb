{
 "cells": [
  {
   "cell_type": "markdown",
   "metadata": {
    "id": "hCUrj2a0uFl0"
   },
   "source": [
    "# First steps\n",
    "\n",
    "In this notebook, we'll start by seeing how Python can be used to perform arithmetic operation. essentially like a very flexible calculator. We'll then go beyond numbers to explore different data types, ways to obtain input from the users, and operations on text *strings*."
   ]
  },
  {
   "cell_type": "code",
   "execution_count": null,
   "metadata": {},
   "outputs": [],
   "source": [
    "# run this cell before you proceed, to enable video playback in the notebook\n",
    "import micropip\n",
    "await micropip.install(\"ipywidgets\")"
   ]
  },
  {
   "cell_type": "markdown",
   "metadata": {
    "id": "8Y1mtgPouFl1"
   },
   "source": [
    "# Arithmetic operations\n",
    "\n",
    "As we have seen, we can use Python to perform standard arithmetic operations:\n",
    "\n",
    "| **Operator** | **Description**   |\n",
    "|--------------|-------------------|\n",
    "|      +       | Addition          |\n",
    "|      -       | Subtraction       |\n",
    "|      *       | Multiplication    |\n",
    "|      /       | Division          |\n",
    "|      //      | Integer division  |\n",
    "|      \\*\\*    | Exponentiation    |\n",
    "|      %       | Modulo (remainder) |\n",
    "\n",
    "You can try out these operations by editing and running the cell below:"
   ]
  },
  {
   "cell_type": "code",
   "execution_count": null,
   "metadata": {
    "id": "dnZw9QyQuFl1"
   },
   "outputs": [],
   "source": [
    "1+1"
   ]
  },
  {
   "cell_type": "markdown",
   "metadata": {
    "id": "e8vAwytjuFl1"
   },
   "source": [
    "* Note the difference between integer operations and floating point operations:\n",
    "    * try 3/2\n",
    "    * now try 3//2\n",
    "* Precedence follows the standard arithmetic conventions:\n",
    "    * try 1+3\\*2\n",
    "* Exponentiation has highest precedence, followed by multiplication and division, and then addition and subtraction\n",
    "* Parentheses can be used as needed:\n",
    "    * try (1+3)\\*2\n",
    "* A handy reference can be found [here](http://www.tutorialspoint.com/python/python_basic_operators.htm)"
   ]
  },
  {
   "cell_type": "code",
   "execution_count": null,
   "metadata": {
    "colab": {
     "base_uri": "https://localhost:8080/",
     "height": 380,
     "referenced_widgets": [
      "97bec9a76873474eaed10f3f1f63247b",
      "f6d46d0870914787a1b13b630bae1e9d",
      "eac8d24c11a14d088e5d9fe62bbf1807",
      "f1bbb5a7c86d460b97036acdc2b68dfa",
      "f0a6c34e5cf9476ca720a07c9ccbb6d8",
      "8fda2fdf8a0d4f2a96169626aa25d22d",
      "b8c5c5c6db674a968869b9630d4ceae0"
     ]
    },
    "executionInfo": {
     "elapsed": 32,
     "status": "ok",
     "timestamp": 1695402227996,
     "user": {
      "displayName": "Patchy Python",
      "userId": "03971971519308571913"
     },
     "user_tz": -60
    },
    "id": "S4RJFT04uFl2",
    "outputId": "08ded102-59e4-407a-dbe6-7b4d139be0ff"
   },
   "outputs": [],
   "source": [
    "# run this cell to show a video, use slider to resize it, type Esc-o to hide it\n",
    "from IPython.display import YouTubeVideo; from ipywidgets import interactive, IntSlider\n",
    "def _play(resize): display(YouTubeVideo('BhlpH_M3HrU',width=resize, height=600*resize//1100, rel=0, loop=1))\n",
    "interactive(_play, resize=IntSlider(min=300, max=1100, step=50, value=600, continuous_update=False, readout=False))"
   ]
  },
  {
   "cell_type": "markdown",
   "metadata": {
    "id": "SIiZHm3buFl2"
   },
   "source": [
    "# Variables"
   ]
  },
  {
   "cell_type": "markdown",
   "metadata": {
    "id": "PWjAIwZfuFl2"
   },
   "source": [
    "We can assign values to symbols using the assignment operator '=':"
   ]
  },
  {
   "cell_type": "code",
   "execution_count": null,
   "metadata": {
    "id": "a2jpHcWAuFl2"
   },
   "outputs": [],
   "source": [
    "a=2\n",
    "b=3\n",
    "print(a+b)"
   ]
  },
  {
   "cell_type": "markdown",
   "metadata": {
    "id": "T6l35Uu-uFl3"
   },
   "source": [
    "*a* and *b* in the example above are **variables**.\n",
    "Note that **=** is an **assignment**, so that the following makes perfect sense:"
   ]
  },
  {
   "cell_type": "code",
   "execution_count": null,
   "metadata": {
    "id": "0yAdFx1CuFl3"
   },
   "outputs": [],
   "source": [
    "a=3\n",
    "print(a)\n",
    "# this does not mean that a is equal to a+1, it means\n",
    "# a is /assigned/ the value a+1\n",
    "a=a+1\n",
    "print(a)"
   ]
  },
  {
   "cell_type": "markdown",
   "metadata": {
    "id": "aOhsfxAmuFl4"
   },
   "source": [
    "*a=a+1* is called an **increment** operation. It is so common that a special notation exists for it:"
   ]
  },
  {
   "cell_type": "code",
   "execution_count": null,
   "metadata": {
    "id": "BNU8i8L_uFl4"
   },
   "outputs": [],
   "source": [
    "a=3\n",
    "a+=1\n",
    "print(a)"
   ]
  },
  {
   "cell_type": "markdown",
   "metadata": {
    "id": "oS4Me2uruFl5"
   },
   "source": [
    "(just guess what *a-=1* does)."
   ]
  },
  {
   "cell_type": "markdown",
   "metadata": {
    "id": "LGmUKzanuFl5"
   },
   "source": [
    "It makes a lot of sense to use meaningful variable names:"
   ]
  },
  {
   "cell_type": "code",
   "execution_count": null,
   "metadata": {
    "id": "_T3YM1BuuFl6"
   },
   "outputs": [],
   "source": [
    "mass=70 # in Kg\n",
    "height=1.80 # in metres\n",
    "bmi=mass/height**2\n",
    "print(bmi)"
   ]
  },
  {
   "cell_type": "markdown",
   "metadata": {
    "id": "qK4KI1CXuFl6"
   },
   "source": [
    "Note that the two strings\n",
    "```\n",
    "# in Kg\n",
    "```\n",
    "and\n",
    "```\n",
    "# in metres\n",
    "```\n",
    "above are there for your benefit, not for the interpreter. They are **comments**. Python ignores them.\n",
    "They can come after instructions or on a line of their own. Use liberally."
   ]
  },
  {
   "cell_type": "code",
   "execution_count": null,
   "metadata": {
    "colab": {
     "base_uri": "https://localhost:8080/",
     "height": 249,
     "referenced_widgets": [
      "5cda256d243b4f75998b22aead05b271",
      "105fc0cd5c2448ca8e346f92388fa89d",
      "affa3a69966f427dab5c8b708282da95",
      "6e207b6e11d24280a06e79f3e964e674",
      "d83cc6f20a5e49cbad293d89cb47561a",
      "26766669eed443949f2bc8f0fbb87132",
      "6b6f9511c6044950b7c23048de107dcc"
     ]
    },
    "executionInfo": {
     "elapsed": 649,
     "status": "ok",
     "timestamp": 1695143514060,
     "user": {
      "displayName": "Patchy Python",
      "userId": "03971971519308571913"
     },
     "user_tz": -60
    },
    "id": "yLLgprsQuFl6",
    "outputId": "66502ac8-310a-4bc1-92a4-bfd37434412e"
   },
   "outputs": [],
   "source": [
    "# run this cell to show a video, use slider to resize it, type Esc-o to hide it\n",
    "from IPython.display import YouTubeVideo; from ipywidgets import interactive, IntSlider\n",
    "def _play(resize): display(YouTubeVideo('E-cfVOzkVIY',width=resize, height=360*resize//1100, rel=0, loop=1))\n",
    "interactive(_play, resize=IntSlider(min=300, max=1100, step=50, value=600, continuous_update=False, readout=False))"
   ]
  },
  {
   "cell_type": "markdown",
   "metadata": {
    "id": "ZRQ4aWCFuFl7"
   },
   "source": [
    "# Data types"
   ]
  },
  {
   "cell_type": "markdown",
   "metadata": {
    "id": "x1a3flbZuFl7"
   },
   "source": [
    "* Integers such as 2 and decimal numbers such as 3.5, that are called *floats*, represent two different **data types**. That means that the bit patterns involved at the level of the memory are interpreted in different ways, and that in general they support different operations (rather more detail than necessary on the term *float* can be found [here](https://en.wikipedia.org/wiki/Floating-point_arithmetic), if you are interested).\n",
    "* Another basic data type is a **character string**:\n",
    "    * ```\"Hello World!\"``` was a string\n",
    "    * ```'This is another Python string'```\n",
    "    * When three delimiters are used, strings can span multiple lines:\n",
    "        ```\n",
    "        \"\"\"This is a Python string\n",
    "        on multiple lines\"\"\"\n",
    "        ```\n",
    "    * Strings spanning multiple lines can be used anywhere as a comment\n",
    "* Strings can be assigned to variables:"
   ]
  },
  {
   "cell_type": "code",
   "execution_count": null,
   "metadata": {
    "id": "_ERBHwx3uFl8"
   },
   "outputs": [],
   "source": [
    "greeting=\"Hello World!\"\n",
    "print(greeting)"
   ]
  },
  {
   "cell_type": "markdown",
   "metadata": {
    "id": "596l6F9cuFl8"
   },
   "source": [
    "Operators work in different ways on different types of data (obviously, not all operators apply to all data types):"
   ]
  },
  {
   "cell_type": "code",
   "execution_count": null,
   "metadata": {
    "id": "D1Dqh4P8uFl9"
   },
   "outputs": [],
   "source": [
    "print(2+2)\n",
    "print(\"Hello \"+\"World\")\n",
    "print(2*3)\n",
    "print(\"Ho! \" *3)"
   ]
  },
  {
   "cell_type": "markdown",
   "metadata": {
    "id": "KFoK7q_XuFl9"
   },
   "source": [
    "There is more to this than meets the eye:"
   ]
  },
  {
   "cell_type": "code",
   "execution_count": null,
   "metadata": {
    "id": "rMPa-ao5uFl9"
   },
   "outputs": [],
   "source": [
    "a=2\n",
    "b=3\n",
    "print(a+b)\n",
    "a=\"Sp\"\n",
    "b=\"am\"\n",
    "print(a+b)"
   ]
  },
  {
   "cell_type": "markdown",
   "metadata": {
    "id": "-bGj_YGOuFl-"
   },
   "source": [
    "So how does the interpreter know what operator should be applied in each case?\n",
    "* Python is implicilty typed, but strongly typed\n",
    "* Implicitly typed means you do not have to write\n",
    "```\n",
    "int num=3;\n",
    "String name=\"John\";\n",
    "```\n",
    "as you would in Java\n",
    "* however, each variable knows its type:"
   ]
  },
  {
   "cell_type": "code",
   "execution_count": null,
   "metadata": {
    "id": "wcbdwbpmuFl-"
   },
   "outputs": [],
   "source": [
    "a=2\n",
    "print(type(a))\n",
    "a=2.0\n",
    "print(type(a))\n",
    "a=\"Monty\"\n",
    "print(type(a))"
   ]
  },
  {
   "cell_type": "markdown",
   "metadata": {
    "id": "Xn8YikWluFl-"
   },
   "source": [
    "You can generally trust Python to do the right thing with your data. There are a few pitfalls, that will become apparent later on."
   ]
  },
  {
   "cell_type": "code",
   "execution_count": null,
   "metadata": {
    "colab": {
     "base_uri": "https://localhost:8080/",
     "height": 282,
     "referenced_widgets": [
      "887a22d90d3145f4815da5b693cde686",
      "7e525b63da1948bca14166d50657bd8f",
      "29785a4cb33f48759b4c4e6c81b1b2cc",
      "24ed497964f84d3c9d353e80cca16c5d",
      "89188fe16cd945dda8e0ca30c0ec9421",
      "7f49f4719dc643cfb4d6d40efcaacbfe",
      "1240a408e8964775b343167da7a0aa6e"
     ]
    },
    "executionInfo": {
     "elapsed": 358,
     "status": "ok",
     "timestamp": 1695143521962,
     "user": {
      "displayName": "Patchy Python",
      "userId": "03971971519308571913"
     },
     "user_tz": -60
    },
    "id": "x801ocDruFl_",
    "outputId": "d986c7c3-54d3-4174-e460-aea09edce35c"
   },
   "outputs": [],
   "source": [
    "# run this cell to show a video, use slider to resize it, type Esc-o to hide it\n",
    "from IPython.display import YouTubeVideo; from ipywidgets import interactive, IntSlider\n",
    "def _play(resize): display(YouTubeVideo('4trr-wfLDMo',width=resize, height=420*resize//1100, rel=0, loop=1))\n",
    "interactive(_play, resize=IntSlider(min=300, max=1100, step=50, value=600, continuous_update=False, readout=False))"
   ]
  },
  {
   "cell_type": "markdown",
   "metadata": {
    "id": "CVcbNS1quFl_"
   },
   "source": [
    "Strings are not, with a few exceptions, processed by Python - and the interpreter does not care if a string actually contains a number. If you declare it as a string, it means that you want it processed as a string! After all, you may have good reasons for that:"
   ]
  },
  {
   "cell_type": "code",
   "execution_count": null,
   "metadata": {
    "id": "XygeYG__uFl_"
   },
   "outputs": [],
   "source": [
    "numbersum= +44 + (207) + 8825000 # a number\n",
    "stringsum= \"+44\" + \"(207)\"+ \"8825000\" # a string\n",
    "print(\"numbersum = \", numbersum) # not quite what I want\n",
    "print(\"stringsum = \", stringsum) # much better"
   ]
  },
  {
   "cell_type": "markdown",
   "metadata": {
    "id": "Zgh98jnTuFmA"
   },
   "source": [
    "# Obtaining user input"
   ]
  },
  {
   "cell_type": "markdown",
   "metadata": {
    "id": "WBiX32TeuFmA"
   },
   "source": [
    "A string of data from the user can be obtained via the ```input()``` function:"
   ]
  },
  {
   "cell_type": "code",
   "execution_count": null,
   "metadata": {
    "id": "K4znd414uFmB"
   },
   "outputs": [],
   "source": [
    "name=input(\"What's your name? \")\n",
    "print(\"Hello \" + name)"
   ]
  },
  {
   "cell_type": "markdown",
   "metadata": {
    "id": "NvFGayDTuFmB"
   },
   "source": [
    "Note that ```input``` returns a string:"
   ]
  },
  {
   "cell_type": "code",
   "execution_count": null,
   "metadata": {
    "id": "9RuBC8O0uFmB"
   },
   "outputs": [],
   "source": [
    "age=input(\"What's your age? \")\n",
    "size=input(\"What's your shoe size? \")\n",
    "ratio=float(age)/float(size)\n",
    "print(\"Your age to shoe size ratio is: \", ratio)"
   ]
  },
  {
   "cell_type": "code",
   "execution_count": null,
   "metadata": {
    "colab": {
     "base_uri": "https://localhost:8080/",
     "height": 284,
     "referenced_widgets": [
      "ce51c21c1ed241cc801ef2a159ad382b",
      "13d5768bad4440bcb6138d1c24347561",
      "059b1561dbf84041801141f461e7a019",
      "f6e01bb4cdef44bca74c471de31c2612",
      "b8e47a8355bd4275a93de6020464c551",
      "f4c74b0ee432424f9207497a3867cd5c",
      "d87e834ca68147b7b3f88b59af2c3ad1"
     ]
    },
    "executionInfo": {
     "elapsed": 359,
     "status": "ok",
     "timestamp": 1695143599587,
     "user": {
      "displayName": "Patchy Python",
      "userId": "03971971519308571913"
     },
     "user_tz": -60
    },
    "id": "V2yNgar4uFmC",
    "outputId": "d0f2df1f-2793-4251-e9d8-8a7f677c3118"
   },
   "outputs": [],
   "source": [
    "# run this cell to show a video, use slider to resize it, type Esc-o to hide it\n",
    "from IPython.display import YouTubeVideo; from ipywidgets import interactive, IntSlider\n",
    "def _play(resize): display(YouTubeVideo('ifoXxfxCbe4',width=resize, height=425*resize//1100, rel=0, loop=1))\n",
    "interactive(_play, resize=IntSlider(min=300, max=1100, step=50, value=600, continuous_update=False, readout=False))"
   ]
  },
  {
   "cell_type": "markdown",
   "metadata": {
    "id": "XfhoL2lpuFmC"
   },
   "source": [
    "### The Body Mass Index example revisited:"
   ]
  },
  {
   "cell_type": "code",
   "execution_count": null,
   "metadata": {
    "id": "boriAKdiuFmD"
   },
   "outputs": [],
   "source": [
    "# try rewriting the Body Mass Index example using input to ask the users\n",
    "# for their weight and height\n"
   ]
  },
  {
   "cell_type": "markdown",
   "metadata": {
    "id": "vzhn5tDQuFmD"
   },
   "source": [
    "See the video below for help if you get stuck:"
   ]
  },
  {
   "cell_type": "code",
   "execution_count": null,
   "metadata": {
    "colab": {
     "base_uri": "https://localhost:8080/",
     "height": 212,
     "referenced_widgets": [
      "498a750b5c89462fb63f0f198e2f1a5f",
      "39108b9f09734260a950c5bb043aa8c1",
      "f62cb64802fd45ca99068b7344fbf8e2",
      "4e06f7addbe747c29db6439a05e72f4f",
      "976bf39aeeda408ab7e72c8937153bfb",
      "5b1e842231a8429b81ff1957ffe66c1d",
      "30f33fb35ee34252873db0e591442a24"
     ]
    },
    "executionInfo": {
     "elapsed": 435,
     "status": "ok",
     "timestamp": 1695143578123,
     "user": {
      "displayName": "Patchy Python",
      "userId": "03971971519308571913"
     },
     "user_tz": -60
    },
    "id": "5DVf_eFAuFmD",
    "outputId": "4a40867b-0c2f-4429-c866-aafb15b3eab6"
   },
   "outputs": [],
   "source": [
    "# run this cell to show a video, use slider to resize it, type Esc-o to hide it\n",
    "from IPython.display import YouTubeVideo; from ipywidgets import interactive, IntSlider\n",
    "def _play(resize): display(YouTubeVideo('LhAIzP5wWqY',width=resize, height=292*resize//1100, rel=0, loop=1))\n",
    "interactive(_play, resize=IntSlider(min=300, max=1100, step=50, value=600, continuous_update=False, readout=False))"
   ]
  },
  {
   "cell_type": "markdown",
   "metadata": {
    "id": "8eutlKAQuFmE"
   },
   "source": [
    "# Advanced operations on strings"
   ]
  },
  {
   "cell_type": "markdown",
   "metadata": {
    "id": "UfGu79h9uFmE"
   },
   "source": [
    "Here are a few useful string manipulation operations. The syntax of some of these may look funny - these are actually **methods**. They are appended to the string variable name (or to the string itself) using a dot. Wait until the notebook on Objects for this to make sense completely, but use them freely in the meanwhile"
   ]
  },
  {
   "cell_type": "markdown",
   "metadata": {
    "id": "TaRTHHZzuFmE"
   },
   "source": [
    "##### Length of a string"
   ]
  },
  {
   "cell_type": "code",
   "execution_count": null,
   "metadata": {
    "id": "-i5KhQNuuFmE"
   },
   "outputs": [],
   "source": [
    "a=\"ACTG\"\n",
    "print(len(a))"
   ]
  },
  {
   "cell_type": "markdown",
   "metadata": {
    "id": "MS7rayx3uFmF"
   },
   "source": [
    "It's worth remembering the ```len``` function, it is very common and is also used to find the length of lists, tuples, dictionaries and sets (all things we will learn in the future)"
   ]
  },
  {
   "cell_type": "markdown",
   "metadata": {
    "id": "WAmId9H_uFmF"
   },
   "source": [
    "##### To uppercase/lowercase"
   ]
  },
  {
   "cell_type": "code",
   "execution_count": null,
   "metadata": {
    "id": "BdQ9IvLEuFmF"
   },
   "outputs": [],
   "source": [
    "a=\"AcTg\"\n",
    "print(a.upper())\n",
    "print(a.lower())\n",
    "print(a) # the original string is unchanged!\n",
    "print(\"ACG\".lower()) # also ok"
   ]
  },
  {
   "cell_type": "markdown",
   "metadata": {
    "id": "frI-xOfcuFmG"
   },
   "source": [
    "##### Replacing a substring"
   ]
  },
  {
   "cell_type": "markdown",
   "metadata": {
    "id": "xbWAMN7vuFmH"
   },
   "source": [
    "Use the method **replace**:"
   ]
  },
  {
   "cell_type": "code",
   "execution_count": null,
   "metadata": {
    "id": "h4xXT9bxuFmH"
   },
   "outputs": [],
   "source": [
    "# displays the documentation for the method\n",
    "help(str.replace)"
   ]
  },
  {
   "cell_type": "code",
   "execution_count": null,
   "metadata": {
    "id": "0dX7pp4HuFmH"
   },
   "outputs": [],
   "source": [
    "# This example is for the bioinformatician that's in you. DNAseq is a DNA sequence,\n",
    "# and the corresponding mRNA would read the same, except all Ts are changed into Us\n",
    "DNAseq=\"TCGATTCAG\"\n",
    "# again, DNAseq remains unchanged, so if we are intersted in processing the result\n",
    "# rather than simply printing it, we'd better assign it to a new variable\n",
    "mRNAseq=DNAseq.replace('T','U')\n",
    "print(mRNAseq)"
   ]
  },
  {
   "cell_type": "markdown",
   "metadata": {
    "id": "mWtFPwLauFmI"
   },
   "source": [
    "##### Other operations:"
   ]
  },
  {
   "cell_type": "markdown",
   "metadata": {
    "id": "fmRhKidxuFmI"
   },
   "source": [
    "Here are a few more useful methods that I encourage you to experiment with:"
   ]
  },
  {
   "cell_type": "code",
   "execution_count": null,
   "metadata": {
    "id": "x-kpY93IuFmI"
   },
   "outputs": [],
   "source": [
    "# You may want to \"uncomment\" (remove the leading # from) one line at a time,\n",
    "# or all together, as you prefer\n",
    "help(str.count)\n",
    "# help(str.find)\n",
    "# help(str.index)\n",
    "# help(str.split) # produces a list, will make sense after the next set of Notebooks\n",
    "# help(str.join)  # uses a list, will make sense after the next set of Notebooks"
   ]
  },
  {
   "cell_type": "code",
   "execution_count": null,
   "metadata": {
    "id": "A4H57uaIuFmJ"
   },
   "outputs": [],
   "source": [
    "# go ahead and experiment!\n",
    "pease='''\n",
    "    Pease porridge hot\n",
    "    Pease porridge cold\n",
    "    Pease porridge in the pot\n",
    "    Nine days old\n",
    "'''\n",
    "# the above is a multiple line string delimited by 3 single quotes\n",
    "\n",
    "print(pease.count(\"porridge\"))\n",
    "# try the other methods here\n"
   ]
  },
  {
   "cell_type": "markdown",
   "metadata": {
    "id": "tH3ohR1muFmJ"
   },
   "source": [
    "For the low-down on strings, including more methods you can play with, check out the [documentation](https://docs.python.org/3/library/stdtypes.html#textseq)."
   ]
  },
  {
   "cell_type": "markdown",
   "metadata": {
    "id": "jd5-fHcWuFmJ"
   },
   "source": [
    "**(C) 2014,2025 Fabrizio Smeraldi** ([info@patchypython.com](mailto:info@patchypython.com)), all rights reserved."
   ]
  }
 ],
 "metadata": {
  "colab": {
   "provenance": []
  },
  "kernelspec": {
   "display_name": "Python 3 (ipykernel)",
   "language": "python",
   "name": "python3"
  },
  "language_info": {
   "codemirror_mode": {
    "name": "ipython",
    "version": 3
   },
   "file_extension": ".py",
   "mimetype": "text/x-python",
   "name": "python",
   "nbconvert_exporter": "python",
   "pygments_lexer": "ipython3",
   "version": "3.12.3"
  },
  "widgets": {
   "application/vnd.jupyter.widget-state+json": {
    "059b1561dbf84041801141f461e7a019": {
     "model_module": "@jupyter-widgets/output",
     "model_module_version": "1.0.0",
     "model_name": "OutputModel",
     "state": {
      "_dom_classes": [],
      "_model_module": "@jupyter-widgets/output",
      "_model_module_version": "1.0.0",
      "_model_name": "OutputModel",
      "_view_count": null,
      "_view_module": "@jupyter-widgets/output",
      "_view_module_version": "1.0.0",
      "_view_name": "OutputView",
      "layout": "IPY_MODEL_d87e834ca68147b7b3f88b59af2c3ad1",
      "msg_id": "",
      "outputs": [
       {
        "data": {
         "image/jpeg": "/9j/4AAQSkZJRgABAQAAAQABAAD/2wCEAAUDBAgICAgICAgICAgICAgICAgICAgICAgICAgICAgICAgIChALCAgOCggIDRUODhESExMTCAsWGBYSGBASExIBBQUFBwcIDgkJDxcTEhIYFhUSEhUXFxUVFRcSFRYVEhUVFxITEhIVEhUTEhUXFRUVFRUSEhISEhUSEhIVFhUVEv/AABEIAWgB4AMBIgACEQEDEQH/xAAdAAEAAgMBAQEBAAAAAAAAAAAABggEBQcDAQIJ/8QAWxAAAQQBAgMDBwcIBQYLBQkAAQACAwQFBhESEyEHMZQUGCJBUVXVCBUyUlRhkRcjQnGBodHSM1OSsdMkYnKytOEWJTU2Q3N0dZPB1DRjgrXDRGWDhJWio8LF/8QAHAEBAAIDAQEBAAAAAAAAAAAAAAQFAgMGAQcI/8QAOBEBAAECAgYIAwgCAwEAAAAAAAECAwQRBRIhMVGRExVBUmFxofAigdEGFDJCkrHB4RZTIzPxQ//aAAwDAQACEQMRAD8ApkiIgIiICIiAiIgIiICIiAiIgIiICIiAiIgIiICIiAiIgIiICIiAiIgIiICIiAiIgIiICIiAiIgIiICIiAiIgIiICIiAiIgIiICIiAiIgIiICIiAiIgIiICIiAiIgIiICIiAiIgIiICIiAiIgIiICIiAiIgIiICIiAiIgIiICIiAiIgIiICIiAiIgIiICIiAiIgIiICIiAisz5lWqvt+n/FZH4cnmVaq+36f8VkfhyCsyKzPmVaq+36f8VkfhyeZVqr7fp/xWR+HIKzIrM+ZVqr7fp/xWR+HJ5lWqvt+n/FZH4cgrMisz5lWqvt+n/FZH4cnmVaq+36f8VkfhyCsyKzPmVaq+36f8VkfhyeZVqr7fp/xWR+HIKzIrM+ZVqr7fp/xWR+HJ5lWqvt+n/FZH4cgrMisz5lWqvt+n/FZH4cnmVaq+36f8VkfhyCsyKzPmVaq+36f8VkfhyeZVqr7fp/xWR+HIKzIrM+ZVqr7fp/xWR+HJ5lWqvt+n/FZH4cgrMisz5lWqvt+n/FZH4cnmVaq+36f8VkfhyCsyKzPmVaq+36f8VkfhyeZVqr7fp/xWR+HIKzIrM+ZVqr7fp/xWR+HJ5lWqvt+n/FZH4cgrMisz5lWqvt+n/FZH4cnmVaq+36f8VkfhyCsyKzPmVaq+36f8VkfhyeZVqr7fp/xWR+HIKzIrM+ZVqr7fp/xWR+HJ5lWqvt+n/FZH4cgrMisz5lWqvt+n/FZH4cnmVaq+36f8VkfhyCsyKzPmVaq+36f8VkfhyeZVqr7fp/xWR+HIKzIrM+ZVqr7fp/xWR+HJ5lWqvt+n/FZH4cgrMisz5lWqvt+n/FZH4cnmVaq+36f8VkfhyCsyKzPmVaq+36f8VkfhyeZVqr7fp/xWR+HIKzIrM+ZVqr7fp/xWR+HJ5lWqvt+n/FZH4cgrMisz5lWqvt+n/FZH4cnmVaq+36f8VkfhyCsyKzPmVaq+36f8VkfhyeZVqr7fp/xWR+HIKzIrM+ZVqr7fp/xWR+HJ5lWqvt+n/FZH4cgrMisz5lWqvt+n/FZH4cnmVaq+36f8VkfhyCsyKzPmVaq+36f8VkfhyeZVqr7fp/xWR+HIKzIrM+ZVqr7fp/xWR+HJ5lWqvt+n/FZH4cgrMisz5lWqvt+n/FZH4cnmVaq+36f8VkfhyCsyKzPmVaq+36f8VkfhyeZVqr7fp/xWR+HIKzIrM+ZVqr7fp/xWR+HJ5lWqvt+n/FZH4cgv+iIgIiICIiAiIgIiICIiAiIgIiICIiAiIgIiICIiAiIgIiICIiAiIgIiICIiAiIgIiICIiAiIgIiICIiAiIgIiICIiAiIgIiICIiAiIgIiICIiAiIgIiICIiAiIgIiICIiAiIgIiICIiAiIgIiICIiAiIgIiICIiAiIgIiICIiAiIgIiICIiAiIgIiICIiAiIgIiICIiAiIgIiICIiAiIgIiICIiAiIgIiivanr2hpzHSZHIOfwNc2KGCJvHYt2JN+VWrx7+lK7Y9+wAa4kgAoJUvzI8NBc4hrWgkkkAADqSSe4KoZ+UNrCWXnx08FVgdIHNoTtuzTNh3G7JrscgbztuL0mx7d3T1KPdq+t8pqjlw5Ex08dGQ84ujPM+K1KDuJLtl7GOna09WxhjQCATxEAqZRgL9Ux8OXmh146xTE/Fn5LtVbUUrBJFJHJG76Mkb2vYfV0c07FQuHte0y/JDEMzdB2QdMK7YGzbh1gu4BXbMByXWC/0OWHcXF6O2/RU40661jIblbF5C5jamQ4fLKtR8TY5S0FvFHJJG6WpI5p4XOgcwkBo36DbCjwlRsLa7YGNiYQ5gbu1zHt7pGytIe2UHrxg8X3qTTom7OecxHDx9+4R6tLWoyyiZ4+Hv3K82uu0HC4IRHL5KrRM2/JZNJ+dlDSA50cTAXuaC4AkDYbhbjEZqpbqR3qtmGenLHzo7McjXQui67v5gOwA2O+/dwnfbZUJlpRyTOsTcdmy4BrrNuWW5Zc0DYNNi098haB6t9lgNvwY6avXc21axU0zpchp6tcuxQWouHrbZSrythL43Ma4seBHLw8J68JWnE6Ou2bU3PxTH5Y3z4RnlGc/JssaRt3bkUZTGfbP85LoVO3HSEszq7NRYrmNJaS+0yKEkHb0LEu0Lx7C1xB9S1OtvlD6XxcghFuTKSiPnTNw0YyLa1cDd09iaJ3JjjA6kcRcBsdtiFr8BjcNboVX06mPmx8kLH1QypAYOU4bt4YyzZhHUEEbggg9d1uaFCCuzl14IYI+v5uGKOKPr3+hGAOq+bXPttTTnHQznE9tWX8Z5ump0VM7db0/tONNapx+SpV8jStwzU7UYkgnDw1rgeha4P2dHI127XMcA5rmkEAghbgOB2IIIPUbesfcq6ZHsQ0pYlkmlw0BfK90j+XNcgZxO+kWxQTtjj327mtAXyDs2u16rsXR1PmqOEduBj4jWfPBGT1r1cpLGbVet024ATsN+vU7z7P2x0fX+LWp84z+XwzP8NNWjL0bsp9+KxjXA9xB2JHQ79R0I/WvqrPovS1jRmWluYWrcv4K/V5V3DwWY32YcgxzTDkYTkJmtka5ocx45gI5pOzg1oZ1bsr7WKWfs3qLaeRxuQx3LdZpZOCOGXlSkhk0RikeySIkbb7jvBG4IJvMDpLDYyiKrVUT4fmjzjsRbtiu1OVUfPsdCREU9pEREBFrNTYWrfgMNuFs8TXc0McXAB7WuDXbsIO4Dj+K5n2AX5qdLEUbUj5Ycri62Sxs0ri5wsPrRzZLHFx6kte42Y9+pZLMO6FB19FzDUGj8a3UGI4arR5SzLWpwHy7STwmlLFI4ce27XyPI9XpFT3Umdq46A2bcnLjDmxtAa+SWWWQ7RwwQxgyTzuPQMYCT7EGyRQp2vpIxzbOCzlWoOrrckFKZsbB3yS1qdyW3HHt1P5rcD6QbsVKY8lFJWFuA+VQuh8oiNYtl8ojLOYzkEHhkLxtw9djuEGYi5VhNZvGay7zi809r6uJDYBVYXwlvzhxOfGZ9mNfxDYjv5bvYp5pzPG4ZAaOQp8sNO92BsIk4uLpHwyO4iOHr3d4QblFh5vKV6VeW1alZBXhbxSSvPotG4AGw6ucXENDQCSXAAEkBRb/h5ORzG6ez7qveLHk9Frizv4xSfdF3h2/R5PH/moJpI8NBc4gNaCSSQAAOpJJ7hstVpvUuOybHyY69UvMjLQ99SxFYYwuBLQ50TiASASvfT+ZrZCvHaqStmgk4uF4DmkOY4sex7HAOjla5rmuY4BzS0ggEKEw52vjsvnDKJHvmdioq1atEZrNmXyOVxZBCzq4hoLi47NaAS4tA3QdFRQyPX7InxtyWMyeIjmeyKK1ebSfUMkh4Y45Z6FuZtVznEAGbgaS4AEk7KZOcACT0A6knoAPafuQfUUKHaCJ9343E5bK1gSBdqMoxVZeEkE1n5C3A60zcHZ8Qcw7dHFb3S2pKuRZIYDIyWB/KtVbEboLVWXhDhHPA/0mEtIcHdWuBBaXDqg3CLT6p1JVxzI3WDI6SeTlVq0Ebp7VqbhLuXXgjBdI4NBcT9FoBLi0AlaF3aDyPzmRxGWxdXcb3bbKMtaIEgB1l2PtzPqs6jd8jWsb+k4IJhftxV4pJ55I4YYY3yzTSvbHFFFG0ufJI9xDWMa0EknoACsPT2fo5GJ01C5WuwskMTpas8diNsoax5jc+JxAeGyMdt37Pb7VsGkOAI2LSNwR1BB7j7CNlB+zd/BY1U4NJDNQPdwMA4jtg8KeFo6AuP/AJoJ0iieiddwZc71qeRZCTKBanrNjqudC7ge1kokIkPFuAW7glruvRSxARQvHdp+InzD8HHNIbzHyxbGJwhfNAx0k0LJfXIxscm/QD824AkhTRAREQEREBERAREQEREBERAREQEREBERBA/lA6znwGnMllKsQltQMijrMc0uYJ7M8VaOR7R9JrDLx7evg29ap9et5C6+OfLZK3lLMZc9jrLwIIHyDaR1WrGBDASOnEG8W3TcDoumfKe7Q7d/MW9LwtZBjcYcdYyT3AOnvWZI4shUgjO/5qowmB7jtxOfBtvwk78yc7YEnfoCTsNz069AO8q70Xhoym5VHl8t8qTSeJnOLdM+fz3QOcANyQAO8k7AftWNcyVeF8ccs0Ub5TtG172tLz3dAfv6frIC6z2AdjDsyamfzfkk+IlrifG4cEWW2DM1pjtZMg8ouY0u/wAn2dwuPpEFhDuz6e7DdK0G5BlbEQhmTiNe02WSew3yclx5MAsSO8lj4nF20XD1DPqN2yu6XiJmKIz8XlrRMzETXOXgqUvim3aN2JZLTNWe9BeGVw1YF8gsN5eUo1gQOMuYOVeijbu5x/NuDQSGnbhUKVjhsVRfpzp+cK/E4auxVlV8pfF+Jw7hcY+DmcJDC8Et368Idw9eHf2L9rytw8xjmcb4+Lb04nBr27EH0XEHbu27u4lb53I8b3Sfks37Ebsti55GSMidWyUHLY6NkflzrEdmJkb3uLWc2sH9/fM89N13FV6+TVLVp2M9bt5CKNjTQosdetV45ByY5rMzjx8G0W9uIA+stf16LtmE1ZirzzFSyeOuSAbmOpeq2ZAPaWQyOIC/Ov2uw+Wk7826Z1c4znLZnlGe3dv3+L6loi5nhbetO3L/AMblEUY7RNcUsJAyWyXSTzlzKdKHZ1m3K0AubE0nZrGggukds1gIJPUA83YsXL9cW7cTNU7IiN8rGuumimaqpyiN7dZ3L1aFeW3cnjrVoG8cs0ruFjG9w+9zidgGgEkkAAkrgOL7YWYjUN/UdbEzuxd+rWr5MTGGLISCpxshvUouPaNvAYw6KYhzgxp9AjpFM/qK/nbbpss0sbVlElKgzd2PrhwPLma/uuWwOJpkeAWnfhawEb635ki8mkqhz+S53FG1/DI2HZzXsjY17S18LXsB4HhwIJad29B9l+y/2MrwdE378/8AJMTGrE7KfCeM5x5R6uL0np+m5XFu3+GJjOePlt4c39BsRfjtV4LUJJiswxTxFwLSY5mNkYS09WnhcOiylzb5NWq8jmtO1L+TEZsvksxNnii5DLcNed8EVoQjpGXhh6N2adtwACAOkq0bRERB+LH0Hf6Lv7iua6KwJyGj8DFHJyLUWKxVqjZ23Na7BVifBLsOro992Pb+lHJI3ucugZyrNNA+KvZNSV3DwziKOcsAcC4cuUcLt27jr3brSdn2l7GKrxVH5F9yrWrQ1asL60EJhjgaGMJkiHFKeBrR6Xs3QRvGZ4ZHKaendHybDK+er3axO7qt2AY+OzAT+k0PBLXdzmOY4dHBbfMNa/U2MbP1ZFislYptcPQNzn0YZpW7/wDTsrylrfXw2Jvv2zHaKgGaZmo5ZI5ORJFNWaByJpXtjjFp3rbPyoooyR9JsUYP0Qs/VunIcjFG2R8sE9eUT1LlZwjs1Jw1zObC8gtO7XOa5jg5j2uc1wIKDdKF9lLWsbmIYf8A2SDOXo6gH0GNLYJbUcfqDGXpLrdh0aWkepfH6dz0o5M+oIm1z6Ln0sS2rkHMPeBbktywxPI3BeyAHru3hICk+BxNejWhqVYxFBAzgjYCXHbclznOcS58jnFznOcSXOc4kkklBHdO/wDOHO/9iwf/APqKYKLag0zadcOQxl9tC3JBHWsNnq+W07UUL5HwGWuJopGzRmaYB7JG9JCCHbDb5isBlDNFNkM06cROLxVoUo8fVkOxA5/HJPYlaN9+EStaSBuD3INP2uCw63p5sIrFpycrmi4ZRVNyOjZfS5piBdxBzZXM/wDeMj9YC2YOpvq4L+3kP5FvdSYSvka0lS0wvik4T6LnRyRyRuEkU0MrCHwzxva17XtILXNBHco63A6gj2jiz9Z8A2DX3MMJ73CPrWILsMD37fpGH1dQUHtoPB3qtnJ2LhpNF+WvYENHn8tthkJgsTu5zRs+RkdbfbvMRJ6nrrdLV6x1VqCU7G2yniI277cTK8kc7n8s+x8kbOLb+qj39W8l03gpKjZjJfuXbFgh0li09hDS1pDG160TWwV4xxE8LGAnf0i49VG4OzqUTz335Wc5WQxcrIR1q0Lo44o+W6tJA1vLs1ZAGF0bh3sa4FrmtcAmOoataepZhuBjqkkEzLIk24OQ6Nwl49+gbw79VzPIWrL9DUH23PEk9HBMyL3Etk8isWKEWTkkPQtPkclguPq9I+pSGxo7I3wIczlorVHcGSlQx5x0dwA78q7JJbnklrnpxRsMYdts7iaS0zO1VilifBJGx8MkbopIntDo3xvaWOjcw9CwtJG3sKD9wRNY1rGNaxjGhrGMAa1rWgBrWtHQNAAAAUOyrWM1NjXQ9Jp8Tkm3Gt/Tq156Lqsku3rZNNK1hP2iYD1rzr6Uy9Nor4zNRx02DhhhyeOdkpq0f6MUNqO5A98TR0bzhI4AAFx2W40npdlF89mWea7ft8As3rHAJHsj35UEMcYEdaqzieWxsAG73OJc5xcQ1WNax+p75m6zV8PjhSa7uZXsWb5uSRb/AKT5YK7XkeqGHf1bzOaNr2uY9ocxwLXNcA5rmuGxa5p6EEEjYrQ6s0uy86CxHPNSv1OPyW9X4DJG2TbmwSxyAx2Kr+FnFG8Ebsa4cLmtcNPY0rmLjTXyWbjfTeOGaLGY52NnsRn6UUtt9yd8cbh0dyRG7YnZw3QevYo8nC12gl0MVjIwU3E78WPr5K3DjiCfpM8kjg4T628J9agNrHZCxa1EY2eVYmHUIkyWNrufHfyTDhsSJYo5OjTBGwQvMAINj85GXNGzZOy+QCOr5NVLajWQcmuY42FtcNZwRFkRHAWs2bs09PR2Wp0Ppp+ObeMtt92e/eN6eZ8McH5w1alQNbHF6IaGVGH9big2Omr9S1Urz0XxvqPjbyDE3gY1jRwCMR7AxFnDwlhALS0ggEbLYqEY3RFqtkbV2tl5YYblltixQZTq+TvIfu7bpuyZ7NmOlbs5/C0u3IBU3QR+ppLEx5GTJR06zck8EvsBo53pt4HP4d9mvc3oXgAkEgk7lSBcvw3ZE2tqabUfzjM/mPsSCoYtncViF0Jjls8082swO3bHwDbgi6+h16ggIiICIiAiIgIiICIiAiIgIiICIiAiIgpT245mrkNXZWel6cVSvUxdmYAcEt+o+w6w1h73coSsiJ7t2HboNzFpX8LXO2J4QXbNG7jsN9mj1notrr7G1qeo9R1aUhkrNyZsddvzVq5BFau1muH0mxzSO29nFw/o7nWLqsBGVinL3tcvj5/56s/exYr5EdB8OmeY67WssvX7F+GtVnE7MXFZbEfIHn/o5mvbI9zNhs6V3r3J7mqL9lmonabzXztBXlsQWa0tXJUq8kcTrG+0layxsz2wunjlYAS4g8E0mx33DunWPlQ2ZK19jNOXKl3kSjFvdYrXaz7JaWxG7wujNeMOIcdi4ENI3B23oL+DvUVzGUz4xC9sYu1XRE5xHhMtx8s7VtyvWxuCrRAQ591uO/acC7l06QglmrR7dGyTtk4eM9zQ4Abu3bwVel/NZfIuhsZvJSZK1DG6OImKCvBXbK5r5WwwVo2M43FrQZHDicI2DoBsvJXmjsNVZt/Fvn3Cl0hiabtfw7o9yIiKer2tzeDr22Stkih5kkT4mzmGN8sfE0tDmucN9xvv3hfMtjY3QksrRvnjAdAWbQSMmG3BJHO3Z8LmnZ3E07jbpuVs0WuqzRVnnG/ZLbTerpyyncmWju2DK0a3k2TpOzEsbAK96rNBWfMQ0AMvRTkcDgd/zsfFxDqW8W+8EztvJ5C+MpcmhdYeBA+qAfJqtPjLmw038PMa8b8Ti7cSO3326EZKKkwP2Z0dg79WIs0ZVT47uOXDNYYjTOKv24t1zs/fzERFfqp2P5IWub/l1jS04FijSxzb2NsBu0lKuLDYDQsPHSVu8gMZPpBsbgS4bBtmlUz5JeVsw6nv0Y4Wy1L2JitWphGOZVmpzuhq7z7j8zI2eccsgnibxN2Ak3tmuRxVEUXaqY4uuwtc1WqZngIiKO3iIiAiIgItdYz1GOw2pJdqMtP4Qys+xC2w8v8AoBsLncbt/VsOq2KAiIgIiICIiAiIgIiICIiAiIgIiICIiAiIgIiICIiAiIgIiICIiAiIgIiICIiCjna1gY8VqzOVIHmSG4+LNniHpQWMk6R1mFz9/wA40yRl7e7Zr+HrtudKukdvfZ5qeXVWRyVLEPydG9Xx0VWStaqRGI1oOXLFYZYla5h5pldxbcPC9nXffbDb2F6xMLJeRg2vdsXVHZK0Z499vRdIykYXO79+FxHd1PqvsHjrNuzTTXO358VFjMFduXZqpjZ8uCBouq6V+TvnrAmfk8jQxvouFaClE/IvL9vRfZmmMTeWD+hG3cj9Jq0f5Bdac10IOn+AOO1x9m62N7N+h8mZCZGyEbdN9t9xvt1UjrTD5755NHVl/Ls5oMimtnsT1nC50fkOKtkbcNmvkjDA7f1uiswiVhA7x1+4nvXvY7ANZxhr2y6ds8Q9KJk9+ExOPdwySVyJWD1nZp+5e9Z4fj6e/wCWMaNv8PVA0XS8j8nPVDa1Z9bKYSW49rvLa9mK5DUgdt6HkliFj5ZwO48xjd+8bdyg/aroXL6UnqG892SxluKFsuThrtijp5CSR0bqro2dRAfzZY5/pHjd1JaQPKdJ2Kqoja9q0ZfpiZ2NYi+r4rBXiIiAi/Ie3iLdxxABxbuOINJIBI79twev3FeTLbDM+Dc8xkbJSCOhZI6RjSD6/Sjdv+xeZw9iJelPL5TH5DHWcHJO3Ky3a1WGrE53JyTHyEvp3Yh6MlYMdK/icPzZ3cC0+kP6ABUT7Psy/G6n05bjhbYdLf8Amp0JJD+VlQyvJYhOx2khDQ8+ot4gS3fiF7AuZ0n/AN87ODpdG/8ARG3iIiKAnob2v6Vs5fHiCrk58XJFMLDpYOZ+eZHFK0wSCKWN3AS9rvpbbxtOx26Vx7JtJZLPUbd92pbeOhpylkpnmtSsDGwMndK+U3I2xsa1/Xf6pO6t1f8A6KX/AKt/+qVSjs7wGft4HKS420xmNiDxfoh8vPtFtaN7xFEyu8SExcI242k8O36w3nalpLIYbF18pDqizk61qcQRyVp7TItnRTyCVs7bkjXjeEt2HrPf02VqX5SGjjm27sohhgqxPnlk4jwAMaCXAAuLtztsASSVDPk349zdLY2KzCQeK5KI5o+vC/IWZYX8Dx03aWOB9hBXQspQgtQyV7MUc8EzSyWKVofHIw97XNd0IQcOs5nRWT1BSyoy1t2SE9SKtCyvZZXfK1/Kga4SUtxxOkAJLwOvqXelWXtp0rjsVqHSjMfUiqNmvV3SiIEB7mZGkGF25PcHO/FWaQRjWuvsRhnRMyVxtd84c6JnKnme5rCA53DBG4tbudtztv19i18vaxp9tEZE5FgqvkkhjJinbNLJFw8xsVZ0Ymk4eNu5DdhxDchO2TTOPu4u9Yt1IZ56ePvSVpns/OQuFd7wWPHUDiY07d27QuI/Js7J6OVg+dsiTYijnfBBS9JsRdFwudJYcDvI3d/SMbN6Hi4t+EB3jQfaNiM2ZGY+0JJom8b4JI5IJwzcN5gjlaC+PdzQXN3ALgDsSFk6311isK1jsjcjgdICY4gHyzyAdC5kETXSFgPQu22G46rH092c4bH335KlSjrWXwmA8lz2QNY4tL+XXDuVG53AzctaPo/e7fjHbzonKN1AM3HjPnyg5kG9ThklEfJh5RglghPNMXHvMC0ObxPdxDbcODoVbt80y9rz5ZMwsY54bJTtAycI34YyIy0vPqBIJUwyetMZWx0OWntNioWI4JIZ3MlPMbZaHwhsTWGQuc078PDuNjvtsVWDU+ptP24m1clpebT85LTHbx8UbJmcJG5dWmhg58WxIc08RAO7fS2VlMBp/E3MHj6IbHksY2nUZXdO0P50cMTGwzOGw4JfRBOwaQSRsO5Bw7sq7U6NXP6ht5DJTCjdmkdSL2W5mOa21LyOCFkbnQ7QOaAC1vQAerZdt0j2m4PLWPJKF5s1jgdIIjBZhc5jNuItM8TQ4jcHYHfbr6lw/sZ0Zi7updS07VKGatTnstrQvDuCFrL8sTQzY79GNDevqC73prQWGxsxsUcdWrTlhj5rGfnAxxBc1rnEloOw3279kElREQEREBERAREQEREBERAREQEREBEXlbsMijfLI4MjjY6SR7js1jGAuc5x9QABP7EHqiqpqz5SGUksSfNkFWvTDiITYifNZkYDsJJDzGsjLhseANPDvtxO71pT8oTUn9bSH6qY/wDN6C4qKnB+UDqX+vqeDZ/MvnnAal+0VfBxfxQXIUK7Se1LCaedXjydsxz2+I160EE9qzI1n05BBXY5zYx19JwAOx232O1az2/6m+01h94pxbj7xv0UTo69ycd+zlHSx2Mlaa2OS7ZgilmZAwDhrV9gG1a244uXEGgk7nc9VqvTciiZtxEz2RM5Rzyn9mVOWe1Y/OdusdiHlabxeSy+QlAEQsUbeMx9fi23luXL0cYEbQSeFm5eQGgjfiGtwnaPrOiXtzOAp5VrwHwT6esiEQu23dBYgyMvG/qekjenTrvvuONntizv9dX8NGn5Yc5/XV/CxqmuV6amuJoptRHCZqnP5xEJMU4XLKZqz45R/buA7TtXSl0kOkakEQPoRXc/A21K3YHfatXkjiJO42c71LE1BqfWuV5bKNelpSNgJmnty1s1cnk3HDHBFADXir7cW7nnjJLdg3Y78a/LDnP66v4WNPyw5z+ur+FjUev/ACCqJiOijxjW2c845xLOPucd70Z/bTqvWInrYO1nIRDJWbdtWsXVfi7c0XOkhbAJ2yvPV8e7hHwDYgHiB2Wk01r7V+NiFetqSSaszpCzI0a9+eNvU8JtSkSyd+3pHYAAAALTar1Vcyk8Fm26N01aKaCN0cbYxyp3xPe14b9P0omEb93X2rW+XSe0f2Qur0XVRThqacZGdz8007vDLd2eCmxlF+bszYnKnsif/JSOxrPV8k7bbtVXhZjcHRsir14qAbv9CTHsAinG3T09/V3raau7TNXZNjYZM42hAWlsoxNIUp5en0vKnzySwu/6stHU9FCPLpPaP7ITy6T2j+yFY9LgO7Pv5ovR4/vR7+TYYq5m6LxNjtSZuvL3nn3HXq8jj3vlq2d45HH2kfgsq9qXVdiWO1NqzKeVwua6EwCKrSBad/z2PgAgsAjoQ8bHfY7jotL5dJ7R/ZCeXSe0f2QvZvYCZz1J9/N5FnHRGWtHv5JjqztC1Zk5I3y5+WgyFjOCHD1/IGOlb3zTudLJJPxethdwexrfXE9QPzeWuU7Obzc2Ujo7mvXfBHBEx4a4NkEUBEXOBIJk4S88DQT0G3l5dJ7R/ZCeXSe0f2QlN7ARMTFM7PfEqs46YmJqjb74Nsi1Pl0ntH9kJ5dJ7R/ZCmdbWPH380Pqq94e/k2y8L9tsLWucHvc+SOGKKJjpJZppXBkUMUbRu+RziAAFgeXSe0f2QvTG5SWvbrXWcBnpukfX5jA+NkkjDGZDGfRdIGk8JPVvEdlqv6Xpi3V0UZ1ZfDE7Iz7M9+xstaJr14152duW/8AZIcZ2caiu2G2IcYMf+ZMLpctZiiYWuka8f5LUMs73tLXbb8A9N3t6TLG9gcsjxNkM1K2Tl8ssxVWOsAzi4+HnWzM53pevhb3qO/lgzn9dX8LGvv5YM5/XV/Cxr5/jb32mxGeVyiiOFOf7zTMumsYbRtr8sz57f5TrsW0tisPrqTHubZt2Tg4shi7d6c2ZKzudbq5FsRIDYpJWGHq1o2bC8dA7Y2jVEMb2iZOvlX5tjq5yL6baHOfXY9sdVshl5cTO5hc87kjqVKPOB1L/X1PBx/xVzg6b1NmiL861cRGtO/OWq5qa06kZR2QuOiqbpr5R2YhnYb8NW3VJAlbFEYLAbv1dC8PLC4Dc8Lm7Hbbdu+4tTir0VqCGzA8SQWIo54ZB3PilYJI3j7i1wP7VJYIv2uvzooD/g/FBNbdM1szJjED5KY5Q8w86RkXN4+V9M7cPH69lwbs/wBNdoGChkr47GMjimlErxLPiJTxhjI9w51zcDhY3orVIg12mHXDSqnINibeMERttg35IscA5oj3J9Hi39Z/WVH+1qbPspRu09FBNb8obzmTGIO8n5cnEYefIyLmczlfSPdxbdVMSiCqeq9Ma/ylqjdt4tjp8dI2Wq5k+Ija17ZYpgXtFzZ444mdD7D7V03sxua6fkYm5upVhx3DJznl1Hmb8t3K5Pkdh7uPmcG/ENuEu9ey680gjcdQeoI7ivqDkPbhHrCaWSrhatexjLNJ0E2z6jJ+OYSRztebc7OEcDm8JYD691zvRGG7Q8NV8joYyNkHMfLtJNh5XccnDxHidc329EdFaJEGg7P35R2OruzLIY8iQ/yhlcgxj86/lA8LnN5nK5fFwkt4uLbouJal0prHH6hyuaw8DZ2WpWjYzVnts1uBhYySvNK135osDRsWuH6O4c5WMRBWjVMWvdSQfNtvFU6lZ8kb5ZeBldrTG8PY5z5rU0oAcB/Qt4iNx1BIPduzfTfzPiqWO5nONWItfLtwh8j3vllLW7+izjkdsD3DZSFEFds9pPVGAzuRyuCqwZGvk3yyPbIGv4DNLz3Ryw86KXibIX8Lo3EcJ67HosiuO0bLzRCXkYKu17XPljbCwEA7n80ZZrEhH1CWsdvsT7LAogN7kREBERAREQEREBERAREQEREBERAWt1TjfLaN2nxcHldSxWD+/gM8L4uLYd+3Fv8AsWyRB/PDUOIs46zLTuxOr2YTwvjf036kB8ZPSSJ2xLXjo4dQsDjHtH4hf0WuUYZgBNDFKB3CWNkgG/ftxg7LDOnMf9gpeFg/kQfz14x7R+IX3iHtCvpqyLCYqjZyN6rRgqU4nTTymnE7hY31BrYy57ySAGjqS4Ad64/2fY2HIXMrnpMScfXy/kDaWPuRwGVlWnXLG2312AsqSzmXcxgkgQtJJ4lW6V0nbwFibte3sinPKZ8vLe34exVer1Y5q1cQ9oTiHtCuT8yUvsdTw0P8ifMlL7HU8ND/ACLlv85t/wCmf1f0sOqau96KbcQ9oTiHtCuT8yUvsdTw0P8AInzJS+x1PDQ/yJ/nNv8A0z+r+jqmrveim3EPaE4h7Qrk/MlL7HU8ND/InzJS+x1PDQ/yJ/nNv/TP6v6Oqau96Kbgj2orPdrGGqOwmZigr1W2nYq+6BscUDJ+YyrK5pj2AcCCB1Hcqz4zFtc2Kbyu3M1zY5Wh74msILQ4AthiZxNO/cV1v2cxvXFFdVFOrqzEZTOe/t7FPpKYwUxFU555+jxRb7lt+q38AnLb9Vv4BdP1PV3vRUdb0931aFFvuW36rfwCctv1W/gE6nq73odb0931aFFvuW36rfwCctv1W/gE6nq73odb0931aFFvuW36rfwCwL9sQ2K8b2xthmZODI8bbTRiN8bA4nYbs556/wBX+PlWiZpjOa/Ti9p0rFU5RT68PkwEJC2mncDczVthwsbpGcDoLN2RhGKhG4c2UzO2E9iMl2zIQ4u4tncIG4s1o/Q+PxtKCkyCOfkt9OxZjjlnnlcS+WaV7wTxOeXHYdGjYDYALjtPacwujKotxPSVdtNM7o4zO3b4L3AYe7iqdaY1Y8fcKocQ9oTiHtCuL8yUvsdTw0P8ifMlL7HU8ND/ACLnv84t/wCmf1f0seqau96Kdgr5xj2j8Qu4ds+nnZi/jdOYWnHDlOOHLS5JkbIIMXQimdCZ5CwDypz5AWiHruWA7dxFmW6bx/2Cl4WD+RdXo3HTjLFN7UmnPdE7dnH5q6/a6Ouac88lAcPj57k8dWpE+xYmcGxwxDie4n19PotHeXHYAAkkAK++gMK7HYrH0XuD5KlOvBI9v0XSRxtbIW79eDi4tvu2WzpUIINxDDFCD3iKNke/6+ADdZKntIuXay7d8BjJpK5ksXZonFkraMUcjY3tOzmGaaSOJzgQQQ1x2II7xsunTt3a4blu7SOJp2LdwRuD6iFUzTOlNQaamldXwWPz9WQtEdwV23uOOPiAdWdFIZa3F+k1zHDdvedtyHZdN9u2Cv2KVSDy1s92bkNZJXDRC8j82ZniQt4Xu9Acsv69+w6ry+UNr/H0KF7FSTStv3sdNyGRxSEBswkhYXygcLA5zJB379D9y5hprUGDuaixsmUwtnT2Rhnj5Ta/DDTsWHP2rG9WlrMliPM2DXs7yQHktHTsnb5hac+CylmapWmsVqFh1eeWCKSaAhpIMMrml0Z36+iQg5l2I9seGxODqUL0tkWIHWeIMrySsayS1NLE1r29Ngx7enq7l2zQOtMfnK8lnHyPkjimMEgkifE9koYyThLXjr6MjDuNx1/WuafJx0biLmnadi3i8danfLdD5rFKvNK4MuzsYHSSMLiA1rQNz0AC7BhsTVpRcmnWgqwhxdyq0McEfEdt3cEbQNzsOv3BBg6y1Zj8PX8pyNlleMnhYCHOklftvwQxMBfK7brs0dB1Ow6rm1P5SGnnzcpzMjCzfbyiStE6Lb28MM75tv8A4Fy3tryUlrWcsNihYy0GPEEUGMrmVr5YzSitv/oY3v4TLKXuLW9WMaCdhut/ktYixXNWXs3scgt4Q2OpZiLBttvE+PGB0Tx6nNIIQd/fqegMe/KizHJj4677LrMW8rOTG1znkBgLnOHC4cIHFuNtt+ig9Dt601KZB5XNEI4nSl01aVgcGua3gjGxdJKS8bMaCSA49wKhHyUqeQhflsfdoXoMdPGyeKLIVJmRcTnOhmj3niayVz4nRBwA2PJB2G5UcxuksXZ1/cx08EMdGJzpIaUbWw15ZY6laRtflsAHB6UspaPpcs77gkEOkY/5RunpZuU8ZCBm+wsTVmGE/wCdwwTPmDf1sC61jrsNmKOevIyaGVjZIpYnB8cjHDdrmOadiCo5qTQODtVJK9jH0o4RG7aSOCGu+uA0/nYpmNBhLR13B26ddxuFzH5G1+V1HJ1S8yVq1uN1Z5323nY8ytYD9FpMbJOH2zOPrQS/XXbbgsRPJWkknt2YncM0NKNkpieOhY+WWRkQeD0LQ7cEbEArAwvygMDbkqwsF5k1u1DVbHJWYDE6d3AyWV7JXR8rjLWngc5wLweHbcjlNbR2dwGRt26eIo6iqzyycq0+Jl88PNkcTG2OUS17W7tnnhc0kdN9t19bqTDXMzjXZzA2dPW69qGVstUCvDO9srHQ/OFaasyTycSMH5xhJAJ3PDuQFrkREBERAREQEREBERAREQEREBERAREQcC+Uv2lZXD5CnUxtptcPpmxMDBXmLi+Z8cfWeN3CAIX923euU/l01T7yb4Kh/gLa/K5l4tRgf1eNqMH/AItqT/6hXIEHScj2pXMri89S1DkGvoSYS6Y2CtUje/INfB83NiEUbXSS+UGPZm+x6k7AEjGb2xZk06VflSULtWPk25nirbivhscLIrMbzFtHKXxzufGGjh5jO8EBvO72INmtbmE0MJxkAyg554Y5zVsV2Crxk7MfIZg1p67u4R+luNlk3hzYngEBzS4A9CA4NIBHqPVY3dF4XF25uXqdabc50xO74tk5x2/XJrnF3bVymijZFWec9uzbCVflYz/21vhKf+Cn5WM/9tb4Sn/gqDooPVGA/wBNH6Y+iV95vd6eacflYz/21vhKf+CtlpbtPzc96lBLca6Ka3Wikb5NVbxRyTMY9vE2IFu7Seo6rmq/cTpWuaYJXQTAgwzNALoZQd45Wg/pNds4fqWFehsFXTNNNqiJnZHwxvnd2PYxVynbNU81je2TtDgxsLqlW4xuXeY3xwsY2w+GISNdJJYaWuZXY6MODTJtxFw4d1xbUGv8zei5E+QsMjP0vJSKT3fc6WmGSFv3cWx3O+6idWk0cZmqcu1E4vdba50jbRmO0kpsOPMle4jdzZdyDwnrsCvVYYP7M4bR1FNFURXV+KappjPPdlGcZxEZfyxnSVeJzqjOI3ZZ/TzYbsXBxcYZy5d3HnxPfFZPHG6KQOsxuEr2uY97SC4ghx33WyisvY1rGkNa1oa1oa0BrWjYADboAAvFFdUXa6NtM5eSNVaoq/FET5sny2X637m/wW0Y48APr4Af28O60a3Uf9GP+rH+qrfRl2uua9aZnZxVOkrVFEUasRG1rPLZfrfub/BffLZfrfub/BYyKr+9Xu9PNZ/dbPdjkyfLZfrfub/BPLZPrfub/BYyJ96vd6eZ92s92OTb0rG7QXuG5J23IG+3sC0sNSKOZ0r4orT+Nzv8tjbdi33OxFe1xxNAB2ADdgO5etuOqYo3WanlWz3tYBUNpzN9iegYSwHhHXoOgX4YGAARxmJm3oRlnLMbfUwx/obD1epTcdVNdiiKtu7Pbt3dqFg6Ipv15R6bN/Ym0PannGNaxluNjGgNaxlOm1rQO4Na2HZo+4L9/lXz321vhan+EoOi5udE4Gf/AJUfpj6Lr7zd70803/KvnvtrfC1P8JdJ7CtX5DKS3m3pxMIY67owIYYuEyOmDj+aY3ffgb3+xV/XU+wLNVcezM3Ls8darBBTdLNKdmtBkna0e1z3OIaGjckuAAJKp9PaLw1OBuTatUxVsyypjPbVEbMozSsHiLk3Y1qpy2758Gv1tr+1Bqi5fx3FStY6J+CErgyUzQse21M50ErSxrHSyDh3BJbExwPpbD3/AC6ap95N8FQ/wFDNa5Hy7JXck2lapV8jLHYqC3E6GW1Xjrw1G3RG7q2OR9aTb/R/WtQrvR1nosLboyyypjOOE5bfVEvVa1dU+MrLfJw7UMxlsvLTyVps8XkE00TRXrQlssc1du/FDG0n0JH9CrDqmnyWZ+DU1Rv9bXuR/hA6X/6SuWprU1Wr8a+5j79SJ4jktU7NeN7t+Fj54Hxtc7h68ILgeir5pXRuv9PwiDHGpPXeTIazZ68sUUjvpcPlgicwk9SIzwkknv3VmEQV4xXZjqbN5OnkNTTwww0pI3sgjMDpXNjlbMIWNrDlxxuc0cT3Pc7boB3Edy1fhWZGhcoSPMbLlaauZGjd0fNYWh4afpFpIO3r2W1RBW3T+nO0DBQnHY5lSzTY+R0MjX03NbzHF7izyl7JGbuJcWuBALjsSpv2U6S1RHkTlM9l3PaYXxDHRSl8Di/bhdJFG1laFzCNwY2ucem7gNwetog5H20dlM+StQ5jD2RSy9cNHEXOjZOI9+W4SsBMUzQS3cghzSGnYDdRjndp/DyeVW3HTyn/AIp4j/nf0nD/APs/YrBog5z2O6e1HUdZnz+UbcM7YxFVYeY2BzXOLpOYI2NY4ggcDG8PTfc7BcYzmjznNc5umy1JSmjj8rr2YwXGOeCHHNYSGua7b847q1wIIaQemxs7qSrYnp2oaljyW1LXljr2eAP5Ez2FscvAfpcLiD+xV7r9h+qo7cl+PO1mXZmlstts9xs8jSGAtfIIdyNo4+n+Y32IMy72R6xvN8kv6jjdQOzX7T25nSM/97ByoxP6jwvkI3Heuu6M0NVw+KfjKRcONkpksP25stiWPgdPJw7dejQAO4MaB3LaaLoW6tCrXv2vLbcUfDPa4eHmv3J327zsCG7nqeHc9StugrFpHQWvNOxGPGOpywyuL5Ksc8EsQkADOZw3GR8Di1jesbuoDd+7pny9meqtR3KsupZoK1Os4kRRmu6Xge5hlZAyru0OkEbQXyPJbsCAdtlY5EABERAREQEREBERAREQEREBERAREQEREHBu2zsXyecyz79WzRjidXgiDLD7DZA6IO4jtHC5ux4vaoR5tOb+2Yr/AMW3/wClXTe2vtjs6eyMVKPHxWmS047IlfYfEeJ808To+BsbhsOS077/AKf3KDec9b9z1vGS/wCAg5T219ldnBx45t67jpZbmQriClXfPJPPHBI2SzIWSQtaK8cfVzidtywetau/XMnDsQNt+/f17ewfctn2o6zkz2Yhy8sDa7oMa3HR1myuljG1maw+wHOaNpHc1rCNu6MdT3DSfOJ+qPx/3KzwlzDxaqouTv8A4VmLt4iq7TXbjd/L8/Nz/a38T/BPm5/tb+J/gvSG+XOaOEdSB3+3osq3LwNLtt+o6frKlUYbBV0zXGeUb96NXicZRVFE5ZzuYDse/Y9Wn7tz1+7qF+WY+VzQeLlOLe8cLnxkjvHRzHOaf1jcetevzkfqD8f9yfOR+oPx/wBy0xGj4nPOfX6N0zj5jLKPT6sy3EXsLR3nbv8AuIPqWD83P9rfxP8ABfr5yP1B+P8AuT5yP1B+P+5br97BXqtaqZ9WmxZxtmnVoiPT6vz83P8Aa38T/BPm5/tb+J/gtiX+jxf5vFt+zdYHzkfqD8f9yXsNgrWWvnt3byzicZdz1ctm/c/Pzc/2t/E/wWwazZgb6w0D7u7Zam1dmeyRrHtic4EMkDOIx7/pbOds9wHt6b+r1LEuskDiKlq1BCYms5dmSK/I2QN2fK2w+Jj93H0uE7gEn1bba7WKwliZ1Imc9/uWdzDYu9Ea8xs3e4bH5uf7W/if4J83P9rfxP8ABYORZ0iFGW1T2riKxzrJyHlE477g8oYDXmduSWxkM6DZreu9guzjsWwmodOU7MQv4q+DNEb8GRs2pppIJHROltMsuMM4kczjLQxobuWtLQok14TuzzS9TF96OThfzc/2t/f/AAT5uf7W/v8A4LY18fVxGRyFbLwO1I6pZnqReU2ZcfTHIe+F03kNTcPkdtv6b3cPTbqOJRl8VjZzI7liOIGQwtHJkljDnbxMknmjc6djB06hpdt1IXsXMHntpq5vJoxeWyqnk3bubDD+bi58nF0YJGxj0j3l7+5o7zsCfYCtxoDQ93NttyRSVYH1LDYJ2TSSn85JBFZDonRxHjj4ZgNyGndp6KH1pLrGkG2JemwdJWj4h945ZaCf1g963Wi9UZXDi4KVxn+XOikmfZqxTyNmjhZDxxcBYxo4W9Gua4AcI67EmLpq/cu4WKMHOVcZZa27Lt4znkz0fh5t3prv5TE555b8/wBsk8/IflPtOP8A/Es/+nX38h+U+04//wASz/6dZ3ZHHrDURvMq6lirNreTcx9vFUrErW2ROOODkRRt4mmBx2eNvTHXp103blishgr8dOtqPUctt1SGzLclyX+TvdM6aORjMYyIQwsHK3bwu3bxesjdctRY07Oetdtxwypmf4hdTXhOymrm1OrNDMxQPzhm8JVeGF4hktyCw9oG/wCbr8nmPJ6bbD1hTjsE7HL2QOCz9izFXxfOhy7aJa6S1ZfAJPm8zAjlRR7yulBDnnZzegPVsY7P+0DG4eqIGaaoXZ3njtZHITi1fuzEkulsTy1i49SSGj0W7nYdSTPW/KctgADDVQANgBckAAHQAAQdArvDWrtNP/LXrT5REfKESuqmZ+GMvVL+3nsgyOfyUN2pYpRRR0YqxbZfO2QvZPZlLgIoXjg2mb699wei595tOb+2Yr/xbf8A6VbTznrfuet4yX/ATznrfuet4yX/AAFJYNx2Q9h+Vw+Zp5GzZx8kNfyjjZBJYdK7nVZoG8Ikga3o6RpO5HQFWEXFexvtps5/J+QPx0NZgrTWHSssvlcBE6NgHA6No6ulb13XakBERAREQEREBERAREQEREBERAREQEREBERAREQEREBERAREQEREBERBWD5aNbhu4ibYfnatuMH1nkTQOIP6vKB/aK4Cre/Kn0hcyuPpOoVn2rNa71jj4ePkTxPY9w4iOgkbX39g3J6AkV5/JJqX3Pa/tV/8VBCEUl1NoLM4ys63fx81Wsx8UbppHQlofPKyGJuzJC4l0j2N6D1+zcrQ+SSfUP7lnTbrq/DEz5MKrlFP4piPN+av9Iz/AEm/3rZZP+jP6x/esKvWkD2EtIAcCe72rPyDC5hAG53HT9qt8JbrjD3ImJ9wqcXconEW5iY9y0yL38lk+of3J5LJ9Q/uVV0F3uzyladPa70c4eCL38lk+of3L55LJ9Q/uToLvdnlJ09rvRzhtj/Rn/q//wCq0a3haeDb18G2338K1Pksn1D+5Wuk7ddWpqxM7OCr0Zcop185iNrxRe/ksn1D+5PJZPqH9yqugu92eUrTp7XejnDwXUOzXtlzWFo/N9XHYy1WYZnV5Z7VmvMyWV7pHusNZE9ssYe/o1nAdh379VzbyWT6h/ctlQYWsAI2O56ftUvB4ObleVyJiMvJExmMi3RnbmJnPzYGXv2Ldie1b5XlVmaSezyA5sPPmeZJeSH+kIuNztt+u226xVlWK0he4hpILiR3e1fjyWT6h/co1eHuRVMRTPKUmjEW5piZqjnDwRe/ksn1D+5PJZPqH9yx6C73Z5Sy6e13o5wm/Y/2m29Nm66ri4smLgriRr7/AJCYTXM/AWk15RIHc9+49HbgHfv01nanraxn74v2aLMdIK0VYV2W/LAWRPleJDNyY9iTK4cPD04Ad+vTT4uJzePiBG/Dt+zf+K88jA9z92tJHCB0/aptWByw8VxE63Dn2ZIdONzvzRMxq8eXawEXv5LJ9Q/uTyWT6h/coXQXe7PKUzp7XejnDwRSHSeistlq/leNoy3K4lkhMkTodmzRHhkie17w9jwdujgOhB7iCtt+STUvue1/ar/4q1NroPyMqHHk8lZ26QUY4d/YbU4eOvt2qOVpVx75LOjbmJoXnZCs+rZs3GgRyFhca8EDOW/0HEDeSWwNvu+9dhQEXxxA6kgD2novzzmfXb/aCD9ovwJWnoHNJ9m4X7QEREBFoodX41944xtphvAvBr8MgdvGzmP2cW8J2b16Fb1AREQEREBEWizWr8bSsw07VpkNmwYRDE5shMhnl5EIDmtLQXSeiNz3oN6iIgItFjtX42xdkx8Npj7sQlMkHDI1zRA9scp3c0NcGue0HYn6QW9QEREBEWu1DnKuPh8ouTCCHjbHxlr3Djdvwt2jaT12Pq9SDYosTDZOC5XitVZGzV52B8Urd+F7D3OHEAduiy0BERAREQEREBERB8edgTsTsCdhtudvUN/WuLv+UlggSDVywIJBBr1QQR0II8q6EFdpVJPlDaZ+bNQXWtbwwXHeX1+/bhslxmb7Bw2BONh3N4Pag6trzWuH1tjb2Irm9Rs16z8vXt2YoGwQTYxzJmOl4J3cUZJ4SCPoucehAVeKOSD69adzS02IIpuFvUNMkbHlu523249v2Lo3yV6kVjOzQTMEkM+Jvwyxu+jJFI6uyRjvuLXEftXL8lRZSt5PHRSOlr4vMZLG1Xv35nk9SVrI45CQOJ7OsfFsAeX06bFTcJiarNNerwj9/pKFisNTdqoz4z+39M35xZ7HfgP4p84s9jvwH8Vq0WzrTEeHJh1ZY8ebafOLPY78B/Ffpl9hIGzupA7h6zt7VqV6V/ps/wBJv94WVGk781RGzkxr0bYimZ2825nlDGlx32G3d39Tssb5xZ7HfgP4r0yf9G79Y/1gtOpmPxt2zcimnhmiYDB2r1uaquLafOLPY78B/FPnFnsd+A/itWig9aYjw5JvVljx5tp84s9jvwH8VkRTNewPb1aQSP2dCOv3ghaNdl012K0vII7du9ftNfUNyOo18dSsx80RscLzVa2edrXPI2dJsfWComL+1NvARFWJz+LZTERvkjQfTbLWzLfnPY5cMiz2O/d/FfiPJDd3EwgB2zCDxFzeEHicCBwu4i4bDfoAd+uw1rD0H6gvql9aYjjHI6sw/CebYvyQ4m7MJad+Mk7Ob09HhaAQ/c+0jb71+/nFnsd+A/itWidaYjjHI6sw/CebewTB7eIbgb7dfu/UvCS8xpLSHbg7er+KYv8Ao/2u/vWut/0j/wDSP96sMRjLlFiiuN87+SBh8Jbrv10TujdzZ/ziz2O/AfxT5xZ7HfgP4rVoq/rTEeHJP6ssePNtPnFnsd+A/ivHJZZsVeeZrdzEziAeQ1pcTwt4nA+izcjc+obrBWRhsRZyt2rg6ZgZYzDpqzZ7XFyIIoq8s9h7mtBMknKY/gb63bdVlRpS9n8U7NvZ4bPVhXoy1EfDHDt8dvoshojUGP7P6ceJyTrN6/kC/N256EUT6YluuMIhrOmmY90MbKrGBzhu4N4vR4uBu6d8pbAgEmtldgNz+Yq+r/8ANLkPylMK3G3cNjmyPmbQ05jaTZpNhJK2rJbgEjwOnG4R7n7yVoOxDTPztnaNZzeKGOTyy0O8eT1S17g4fVfIYov/AMZVszMznKyiMoyheOnNzI45Cx8Zexr+XIAHs4mh3A8NJAeN9jsT1BXqiLx6w83iq16B9W5XhtV5OHmQTxtlifwOD28THgg7Oa0j72hcr7L+zvT89K1LZw+MldHls3EHy04HFsNfK24ombub0jZGxrQPUGhdgXI9BaOju1MhMbuUhfJmM+zl1sncrVgRlbrARBC8MG+wJ6dSST3oM2Ts/wAQ92CyWBxuNja2/VvOt1IYIS/HvqWCHska0GRjjLAeEd/Q+pSXWmvKeHlgZejtRwzkMbdbCH1Gylk0ggc8P4zMWwPIY1pJ3aBuTsvmnC3BYPFQZGSNrqlXE42Z8AlliNqTybHsEX5sPdE6xI0Bxa3YHchvXbC7VWNdY00HAOH/AAjgds4AjdmMyrmnY+sOaCPYQEH4/KdWhP8AxlRyOJbJE6Wo69DETc4C0ciCOrLK8XTxs2rvDZHcXRpIIGw0/rVti0ylZx9/GTzxST1G3mVwLcUXDzeU+tNI1kzA9jnRPLXgO326HbD7R2NdkdLBwDh89znYgEbtwWYe07H1hzWkewtB9S9Naf8ALOmf+2ZL/wCUW0GP2g3oa2XwFixIyGCAZiWaWRwZHHGyhu573Ho1oC9Dr6Zw50WAzs1PbiFlterG9zO/mMoz2W3XN267GIOO/RpWH2l0a9jN6VjshrmC3kJWsdtwvmgpGaEEHv2exrwPbGF0NBrtN5yrkazLdOUTQScQDgHNc17HFskUkbwHxSscC1zHAOaQQQFrdT6wr0Zo6jYrN6/Kzmx0KMQmscnct58pc5sVaDiHCHyvYCQQNyNlqNLRiHUmegh6QS0sPemY3YMZfndka8rwB0EkkFSq53t4Gn1kmO6MmzYt56alRxVl8matxTzXMnarWQ2sI4qcLoosfK1kLavJc0B/XnF2wLigkzO0JsL425TGZHDsle2OO1cbVlpcx5DWMmtUbErKpc4hoMvA0kgb7kKbKA5M6ktQy17GH0/LBPG+KaN+avFr45Glr2uHzR1BBKzcfDkcdpoxzObNkqOJlaHxvdMJJ61Z4gPMexrpHHgj3JaCTug/WS12wWJquPoX8vNWfy7RotrtrV5R1MMlu5NFC6wNxvGxznN39INUZ7QNUw3acFd0NmldizWnJJaN2NsVgRHO0AJoixzorMHF6PMie9oPQkHopl2ZUq9fDYyOtsYTSryh4O5mdNG2aSd7v05JHvdI53rLyVHe3alA+DETyAc+vqHCeTO7nbzZGuyaMHvLTHxPLe7eFp/RCDoNiZkbHySPbHHG1z3ve4NYxjQXOe9zujWgAkk92yhcHaE6wObQwuYv0/0bsUVSCKZv9ZWivWopp4j3hwZs4dW7ggr72yNElOlWlO1W5mcVVuDua+tLaZvA8/1csjYoXD1iYj1qbMAAAA2A6ADuAHcB9yDnNfO1shqHDzVnOIbi89FLFJG+GevOyxhC+CzBKBJBM0OaS1wB2c0jcEEzTU2eq42u6zcl5UQc1jdmukklleeGOCCGMGSed56NYwFx9QUOyVKBms8fOwAT2MFkm2NunE2C1jhA9wH6W0kreLvIjaO5o2xtfuvO1HiG1a9O0+HG5GzVhv25qcIn51OCexG6GrMZLMcMrWgFo2bZlIPVBtna9stHNfpzPNrbb84Q0ZJA3v4jSiuOtf8AwiMu/wA3fopTgMxWv147dOZk9eUEskZvseElrmuaQHMe1wc0tcAWlpBAIUY8v1V7rwP/AOt3/hCdnOGyVa1lZ7sFGrHfmr2o69G3PbY2zyjDcmcZqsPLMgjrO2aDu4PJ6k7htdV6trY98MDmWLVyyHGtQpRc+3M1mwfJwbhkMDS4AyyOawEgb7kBYFHXIEsUWRxuQxBsSMigluNqyVZJpCGxwmzSnljgme4hrWylnE4hrSSQFj9n8bZMpqOzJsbTcjDRBP0oqMGPpzVom/VjL7NiX73SuKlecowWa09ey1r680T45mu2DTG5pDiSfo7Drv6tt0EW7Cv+bmI/7I3/AFnKaqDdgR30zhSTuTRjO5GxPV3Uj1FTlAREQEREBERAREQFxv5V2kDfxLb8LOKxi3OlIA3c+nKGtstG31S2KX9UT/auyIgqH8kqJw1ESWuA+brfUtIH9JW9oXp8qfQFTFX4slSbLGM1NbmuxcXFXbeaYXuniaescs4lkc8bkEwbgDrvZjUutcTjJGw379epK9nMYyZ/C50fEW8TenUbtI/YoN2hal0RnqfkOVv0bVcSsnYOdNHLFPFvy5oJoeGSGQAuG7SNw9wO4cQUCnmybLe5A1oLuQrVZ3z0oLj48fYleXvnqFrHxl0hAMha5z2cTupEYJ3JJP2SQNG7jsPvVta0dbuUa8V+ezd57VVd0hXbr1Jo8tu/y2NDsv3XHps/0m/3hbbyuP64/enlcf1x+9ZU4CzExPSx6fVjVj7sxMdHPr9H5yX9G79bf9YLUbLc+Vx/XH708rj+uP3qRi8Pav163SRGzLs+qPhcRdsUavRzO3Pt+jTbL4Tt39FIOLpvv0233+72rUZ+8DFJCxsjnTQzNZKxrXMikLC1heOLjHUjq1p7vUo1zRtFuM5uen9pNvSVdycqbfr/AE8eU4jcNcQRuCGkgj7jt1VtMOP+JK4/+6Yf9iaoz2fdoeGjxOMifajpvhoVIXVJC4vruhgZEYiWt2PDwbAjvGy3f5R8H7yr/wD8n8i+O6exuMxs00fd6o1Kp25TOfZ3fDxdnhLVq1Ezrxtj32qqxwv2HoP7h+i7+C/XJf8AUf8A2XfwVqfyk4T3nB+Mn8q32Gy8FyFtirM2eFxc1sjCeElji1wG4B6EEKyu/a7E2o1rmGqpjjMzEetDRTo63VOUVxPvzU45L/qP/su/gvw8FvRwLf8AS6f3q2V3tAw8MkkMuRhZLE90cjCZN2PYS1zTs3vBBH7Fx/5QdvD5LyPIVLkNq5A+OnPW4TJHZx88pMnG2RuzXwPPNDh6jI3rxDay0Zp+9ib9Fu7Yqopq/PlMxGe78sbPHPYj4nCU27c1U1RMx2e5nagWL/o/2la+2Pzj/wDSP962UdiFoDWua1rQGtaBs1rQNgAANgAPUv15XH9cfvX0i7YtXLVNvpI+Ht2fVyNq9dt3arnRz8XZt+jTbJst5FM12/C7fbv2+9fJrLGb8TtthvsA4nb7g0bn9ijzou3Ea3SbOOX9pHWdeer0c58PcNJsu3fI/wBN1bWUs5GeIvnxkDPIZN3CON9znwWJAB6L5OXGWAnfhEsnrO4inYxpzS2QFu9qu51NrlY/Fy2rNeGOpA1o59iKsW8x8spceF7iOFjd+h2FmsV2l6UqwxVq2TxtevCxscMEO0UMUbRs1kcbGhrGAeoBVNcUxVMUzn4rWiapiJqjLwcN+WFG456sWtcR801xuGk//a73sC6D8kfSBqY6bKTMLZ8i7ghDhs5lOBzmtOx6t5kvG772siK6dpzXOIyUxgoZCtamDDIY4X8TxG0ta55G3RoL2jf2uHtUiWDMREQYOdbbNeQUX1o7Xo8p9uKWauDxN4uZHDLG9w4eIDZw6kd/coDpzTWqaEUkMF/T5ZJauW3c3G5Fzubdsy25g0tyLQIw+ZwaNtw0Dck7k9MRBzbOaa1LkI4q929gvJhboWpPJcdkIpz5Ddr3WtjklvyMbxOrtad2no493etj2jady9+xQko2sbBFj7DbsbLdS1PI642G1W9N8NqNprcq0fQADuJoPFt0U4RBEddafyFwYuanYpw3cbbNvitV55qsjn0LdKRvJimZIB/lbnD0+nCN9/X+tcYG/alxlqhYpw2cfPNKfK4Jp4JBPVkqvHLhmjeDwyuI9PvA71n5nVNepkMZjZGzGxlTbFZzGsMTfIoPKJec4vDm7s7tg7c9+3et6g55q3Q9/K5CCW3cqx0aT55aPkcE8OSgmkha2Kc2ZJ3wvljla142jDTts4OBIOaY9VNaYWvwUp+i2/I29E/buEkmOYC10m3Uhs7Wk7/RHRTZY2VvMrQS2JBIY4WOkeIYZbEpa0bnlwQMdJK7/Na0k+xBqtGabbjopeKaS3btTGzeuyhrZbNhzWs4uBnoxQsYxjGRt6Maxo6ncnXZ7TFplyTJ4izFVtzMjZcr2onTUMg2IcMT5mxObJBaYz0GzMJ9HYOa8Nbw7fSepamUilmqOlLYZ3VpWz1rFSWOZjI5HMfDajZI08MrD1H6S3CCFSR6pnHLL8Jjmno6eHyzJTAeswxTMgjY/wBhfxgetpUqw9N0FeGB881p8cbWPsWOWZp3AbOkl5bGs43HcnhaB16ALLRBAqWnMviS6LDy0bGNc974aGRdYgfQ43F7oqlyuyTiqcRJbE+PdgOwdwgNGv1RoTK5Rkdi5dpNvVLVO1joIoZ3Y2k+tahsPfIDI2a7YkbEYjITGGskcGtYXOc7pqINBNhJL+MfRzBrzyTxuZYfSZNWi34y6KSu2WWSSGVm0bg7jJD2cQ26AaarW1RWb5OybEZGNvoxXbht1LfAO42q9eN8ViUetzHRB3sapwiDmVjQWWjv18vWyNGXK+T2a12e9TsPrPimfWfFBTrV7TDWrw8iTha6R5JsSOcXOcSpfq/TbchHARNJVuVJBYpXYA0yVp+EsceB+7ZYHsc5j4ndHtcR0OxG+RBCmHVbRyy3T8pHTysyZCEO/wA80RG/hPr4RPt94W50pi70AlffyBvTzOYSI4GValdrGkcurAHPka0kkl0kj3HYdRtst4iCI6k0zbFw5TEWIq118TILcFqN0lHIQxEmEWBERJDYj43hkzCSA8hzXjYDGmw+ayQ5GTkx9Sg7pZr459mxYus/SrvtTsiFas8bh4Yxz3NJAezckzdEEN7K9PZPF1WUblihPVrRMiqeS1rEE4ALy82Hy2Hsk6Fu3Axm2xUyREBERAREQEREBERAREQc87eez8Z7GlsQaMhU4pqLzsOJxA5lZzvUyVrQOvQObG79Eg0omjcxzmPa5j2Ocx7Hgtex7HFr2PaerXBwIIPcQV/RpV2+VB2WGTmZ3HRbva3iyddg6vYwf+2xtH6bWjaQesAO72u4g4X2b04bGZxVexFHPBPkacU0MzGyRSxSTsa+OSN4LXsc0kEEbEEqW9q/YzktPi3ZhnqWNPtnaaokln+cqjbEgbFUc1zCyeKN7g0PL+LhA37tlGeyf/l7C/8AelD/AGmNWi+VX/zZtf8AaKP+1xLKmuqnPKd+yWNVFNWWcbtsKbIiLFkIi+Sdx/Uf7kGfRy9WxHIIZ43mJpbI0O2cw7lnpNdsQOIbb+vp7QsFXF1n2Y4DI4iK9cxVSa5SxXNr2AwxStfHU44+N0JbzmtcOINk4gDv06qnLe4fqUrE4qq9q5xuRsNhabOtlO99REUVJF2Dsy7WMFhsXDTyVx9WdjrEvC+pccySN87iDDKyEsn+kAQwkghwP0Ttx9XI+SuwHTNPcA7WbxG4B2PlcvUb9xVdpPRtrH2uiuzMRnns37M47Yni3WL9VmrWp9VS9W3GWMhesR8fLnt2Jo+ZG+J/BJK57eOKUB8btiN2uAI9YWrUl7VP+Xc1/wB63/8AapVGlOt0RRTFMdkRHJqqnOcxERZvEr7M9B5fP2n18Y+rWhhYJLt6018jYA7ibXjigY4GaaQiU9SGgQu3IJaHO1PRVnAXmUbV2K/K6rFZE8NZ1RoZJJNGIzE6WTdwMLjxAgHjA2G3XsHyKPp53/Rxn9+QUX+V/wD84Yv+6an+1X1nN2uadTPZwa4tURVrZbeLji+tBJAAJJIAABJJPQAAdSSfUvisP8l7stL3RZ7IRkMYePGQPH03eq89p/QH/R7959P1MJwbHSPk8dnnzHjuZYYBkrwZLa32JgYATDUBHT0A4l23e9zupDWrpyIgIiINdqG/NWgMsFKxfkDmtFas+rHK4OOxcHXJo4+Fo6n0t/YCtH2fayfmGc5uLvU6zmvMdmzJQLJHxymGSHlV7L5o5Wva8EPY3bgcD12Blqgunf8Ai3OXcefRq5Zr8vQ+q200siy1Zvs3ca9kD1mzOfUUHpqrXdihbjq/MeSs+UTCvTmgmxYZbl8ndYeImS3Wysa1kcu7pGsA5R69W7yyvZe6u2Z1eWOR0QkNVzoTMx5ZxGBzmSGEyA+juHlu/wClt1USwQ+cc5cvn0q2IY/E0vY65IY5stOPUeHhq1gfUYbI9ZU3QQCHVfNyOLiv6duUp7EtiChctuxE/IlFKxZmax9W3LLDxw1pGktGx6A9FP1Ce0D/AJW0r/3td/8AkGXU2QaTV+pq+MjjdK2WaaeTk1KlZnNt25y0v5VeLcAkNa5xc4ta0NJc4DqtI7WORgbzr2At16g6yTV7VS9NXZsSZJ6td3MLB6+TzSPYQCV8a1r9Vv52xdDgYnUQfUJr8zci+MfW/N45riOuxZ7es3QQbslsxzOzs0L2SxS52aSKSNweySN+PxrmPY5vRzSCCCPatlqTWDK1kUKlWxk8iY2yuq1eU0V4XEhk1yzO9sVaNxa4NBJe7hPC0gEjR9iENeNufZV4RA3UuSDAz6LXcqpzWNA6BrZeYAB0AA2Wo0SzNeVZ91J2IDznLYs+WMuOteiyEUxIYnhvL8i8l4Bt9E/rQSKbXVmmWvzGIsY6q5zWuvx2K96nXLiGtNt0JEtaMuIHMLCwbjic0dVOAdxuOoPUbKEW6uppo5Ipf+D0kUrHRyMdFkS17HtLXscDJ1aQSNvvWy0ti7ePwkFN8jZ7dOjyGSM4y174YyyDbmekTs2MbnqSCgxMhrV77M1TFY6xlZazzHamZLBVo1phsXV3253fnLADhuyJr+Hudwnov1idaHyqKjkqNjFWrHEKhmkhsVLjmtL3RVrcDi3nhrXO5cgY4hpLQ4A7OxhkI0/iDBsWvoV5ZHfpPsTMEtt8h7zK6w6Yu368Rdusftzaz5hvSHpNCIJqTh9NuQjsROoGI94lNnlNG3fx7etBNkXxu+w379uv6/WvqAiIgIiICIiAiIgIiICIiAiIgIiICIiAhCIgjNXs+wUMzLEWIxsU8cjZY5Y6cDHxytdxNkYWsHC4OG4IW4zeIq3oXV7leG1A4tc6GeNssTnMcHMJY8EEhwBH3hZyIIl+TLTvuPF+Br/yJ+TLTvuPF+Br/wAilqIIl+TLTvuPF+Br/wAi+Hsx077jxfga/wDIpciDwfUiMRgMbDCYzEYi0csxFvAY+Hu4OHpt7FGfyZad9x4vwNf+RS1EES/Jlp33Hi/A1/5E/Jlp33Hi/A1/5FLUQRL8mWnfceL8DX/kUgwmIq0YW16deGrA0uc2GCNsUbS9xc8hjAACXEk/eVmogi93s8wM8sk02Hxss0r3SSyyU4HPkke4ue97nN3c4kkkn2ry/Jlp33Hi/A1/5FLUQRL8mWnfceL8DX/kT8mWnfceL8DX/kUtRBqNO6Xx2OMhoUatLncHN8mgjh5nL4+Xx8sDi4eN+2/dxH2rwz+jMTkJRPextK3MGNiEtitFLII2uc5rA57SeEF7zt/nH2rfIgiJ7MdO+48X4Kv/ACKWsaGgNaAAAAABsAB0AAHcF9RAREQEREBRzXmm5MhHWdWstpXqNplqlcdB5SIX8L4Z2Pg5kfNikglmjLeMfTB68OykaINRo3BMxtGvSY8ymFn52ZzQ19ixI50tmy8AnaSWZ8kh6nq8rJz8FqWvIylYjqWXcPLsTVjbjj2c0u4q4lj5m7Q4fTG24PXbZZyIOaZTRGobM9KxLqGhzMfPJYrcOn3Bollqz03l4+dPTbyrMvTp1IPqUo0tjcxDK92RylW/EWbRx18WaDmScQPG6Q3ZuNvDuOHhHfvv02UjRBHtZaYbkORLHYkpXqb3SUr0Ia6SF0jeGWOSN/oWKsgDQ+J3R3C09HNa4ao4fUVhogtZahBAfRmmxuPnhvSs7iIZbNuSOm4j9MNeR+jwnZwmyIIPojRFnEWrHkt2u3EzzvsDGjHubNG91eGBoF82zxAchrjvFu4l253O6ztR6UlfaORxlz5uyDo2RTudCLNO7FHvymXanGwyPZu4NlY9j2hxG5b6KlSIIVLitS2Pzc2Wx1KIjZ78djZXWnA/1Ut61JFAfvMT/wDzUqw9EVq8NcSzzCGNsfNsyvnsScI245pn+lJIe8n7/UstEEIfpK/Rnmlwd2CtBYlfPPjb1Z9mk2eUl0s1N0M0ctNz3kvczd7C5ziGtJJP7p6SuWbMFvNXYrfkkonp0KdZ1WhDO0bMszNlmkluWGbksL3BrCdwziAcpoiAiIgIiICIiAiIgIiICIiAiIgIiICIiAiIgIiICIiAiIgIiICIiAiIgIiICIiAiIgIiICIiAiIgIiICIiAiIgIiICIiAiIgIiICIiAiIgIiICIiAiIgIiICIiAiIgIqAeerqr3fp/wuR+Ip56uqvd+n/C5H4igv+ioB56uqvd+n/C5H4innq6q936f8LkfiKC/6KgHnq6q936f8LkfiKeerqr3fp/wuR+IoL/oqAeerqr3fp/wuR+Ip56uqvd+n/C5H4igv+ioB56uqvd+n/C5H4innq6q936f8LkfiKC/6KgHnq6q936f8LkfiKeerqr3fp/wuR+IoL/oqAeerqr3fp/wuR+Ip56uqvd+n/C5H4igv+ioB56uqvd+n/C5H4innq6q936f8LkfiKC/6KgHnq6q936f8LkfiKeerqr3fp/wuR+IoL/oqAeerqr3fp/wuR+Ip56uqvd+n/C5H4igv+ioB56uqvd+n/C5H4innq6q936f8LkfiKC/6KgHnq6q936f8LkfiKeerqr3fp/wuR+IoL/oqAeerqr3fp/wuR+Ip56uqvd+n/C5H4igv+ioB56uqvd+n/C5H4innq6q936f8LkfiKC/6KgHnq6q936f8LkfiKeerqr3fp/wuR+IoL/oqAeerqr3fp/wuR+Ip56uqvd+n/C5H4igv+ioB56uqvd+n/C5H4innq6q936f8LkfiKC/6KgHnq6q936f8LkfiKeerqr3fp/wuR+IoL/oqAeerqr3fp/wuR+Ip56uqvd+n/C5H4igv+ioB56uqvd+n/C5H4innq6q936f8LkfiKC/6KgHnq6q936f8LkfiKeerqr3fp/wuR+IoL/oqAeerqr3fp/wuR+Ip56uqvd+n/C5H4igv+ioB56uqvd+n/C5H4innq6q936f8LkfiKC/6KgHnq6q936f8LkfiKeerqr3fp/wuR+IoL/oqAeerqr3fp/wuR+Ip56uqvd+n/C5H4igv+ioB56uqvd+n/C5H4innq6q936f8LkfiKC/6KgHnq6q936f8LkfiKeerqr3fp/wuR+IoL/oqAeerqr3fp/wuR+Ip56uqvd+n/C5H4igv+ioB56uqvd+n/C5H4innq6q936f8LkfiKC/6KgHnq6q936f8LkfiKeerqr3fp/wuR+IoKzIiICIiAiIgIiICIiAiIgIiICIiAiIgIiICIiAiIgIiICIiAiIgIiICIiAiIgIiICIiAiIgIiICIiAiIgIiICIiAiIgIiICIiAiIgIiICIiAiIgIiICIiAiIgIiICIiAiIgIiICIiAiIgIiICIiAiIgIiICIiAiIgIiICIiAiIgIiICIiAiIgIiICIiAiIgIiICIiAiIgIiICIiAiIgIiICIiAiIgIiICIiAiIgIiICIiAiIgIiICIiAiIgIiICIiAiIgIiICIiAiIgIiICIiAiIgIiICIiAiIgIiICIiAiIg//9k=\n",
         "text/html": "\n        <iframe\n            width=\"600\"\n            height=\"231\"\n            src=\"https://www.youtube.com/embed/ifoXxfxCbe4?rel=0&loop=1\"\n            frameborder=\"0\"\n            allowfullscreen\n            \n        ></iframe>\n        ",
         "text/plain": "<IPython.lib.display.YouTubeVideo at 0x7c272035d150>"
        },
        "metadata": {},
        "output_type": "display_data"
       }
      ]
     }
    },
    "0aa1479dcafc4406a94b01e74c7c2d7c": {
     "model_module": "@jupyter-widgets/base",
     "model_module_version": "1.2.0",
     "model_name": "LayoutModel",
     "state": {
      "_model_module": "@jupyter-widgets/base",
      "_model_module_version": "1.2.0",
      "_model_name": "LayoutModel",
      "_view_count": null,
      "_view_module": "@jupyter-widgets/base",
      "_view_module_version": "1.2.0",
      "_view_name": "LayoutView",
      "align_content": null,
      "align_items": null,
      "align_self": null,
      "border": null,
      "bottom": null,
      "display": null,
      "flex": null,
      "flex_flow": null,
      "grid_area": null,
      "grid_auto_columns": null,
      "grid_auto_flow": null,
      "grid_auto_rows": null,
      "grid_column": null,
      "grid_gap": null,
      "grid_row": null,
      "grid_template_areas": null,
      "grid_template_columns": null,
      "grid_template_rows": null,
      "height": null,
      "justify_content": null,
      "justify_items": null,
      "left": null,
      "margin": null,
      "max_height": null,
      "max_width": null,
      "min_height": null,
      "min_width": null,
      "object_fit": null,
      "object_position": null,
      "order": null,
      "overflow": null,
      "overflow_x": null,
      "overflow_y": null,
      "padding": null,
      "right": null,
      "top": null,
      "visibility": null,
      "width": null
     }
    },
    "105fc0cd5c2448ca8e346f92388fa89d": {
     "model_module": "@jupyter-widgets/controls",
     "model_module_version": "1.5.0",
     "model_name": "IntSliderModel",
     "state": {
      "_dom_classes": [],
      "_model_module": "@jupyter-widgets/controls",
      "_model_module_version": "1.5.0",
      "_model_name": "IntSliderModel",
      "_view_count": null,
      "_view_module": "@jupyter-widgets/controls",
      "_view_module_version": "1.5.0",
      "_view_name": "IntSliderView",
      "continuous_update": false,
      "description": "resize",
      "description_tooltip": null,
      "disabled": false,
      "layout": "IPY_MODEL_d83cc6f20a5e49cbad293d89cb47561a",
      "max": 1100,
      "min": 300,
      "orientation": "horizontal",
      "readout": false,
      "readout_format": "d",
      "step": 50,
      "style": "IPY_MODEL_26766669eed443949f2bc8f0fbb87132",
      "value": 600
     }
    },
    "1240a408e8964775b343167da7a0aa6e": {
     "model_module": "@jupyter-widgets/base",
     "model_module_version": "1.2.0",
     "model_name": "LayoutModel",
     "state": {
      "_model_module": "@jupyter-widgets/base",
      "_model_module_version": "1.2.0",
      "_model_name": "LayoutModel",
      "_view_count": null,
      "_view_module": "@jupyter-widgets/base",
      "_view_module_version": "1.2.0",
      "_view_name": "LayoutView",
      "align_content": null,
      "align_items": null,
      "align_self": null,
      "border": null,
      "bottom": null,
      "display": null,
      "flex": null,
      "flex_flow": null,
      "grid_area": null,
      "grid_auto_columns": null,
      "grid_auto_flow": null,
      "grid_auto_rows": null,
      "grid_column": null,
      "grid_gap": null,
      "grid_row": null,
      "grid_template_areas": null,
      "grid_template_columns": null,
      "grid_template_rows": null,
      "height": null,
      "justify_content": null,
      "justify_items": null,
      "left": null,
      "margin": null,
      "max_height": null,
      "max_width": null,
      "min_height": null,
      "min_width": null,
      "object_fit": null,
      "object_position": null,
      "order": null,
      "overflow": null,
      "overflow_x": null,
      "overflow_y": null,
      "padding": null,
      "right": null,
      "top": null,
      "visibility": null,
      "width": null
     }
    },
    "13d5768bad4440bcb6138d1c24347561": {
     "model_module": "@jupyter-widgets/controls",
     "model_module_version": "1.5.0",
     "model_name": "IntSliderModel",
     "state": {
      "_dom_classes": [],
      "_model_module": "@jupyter-widgets/controls",
      "_model_module_version": "1.5.0",
      "_model_name": "IntSliderModel",
      "_view_count": null,
      "_view_module": "@jupyter-widgets/controls",
      "_view_module_version": "1.5.0",
      "_view_name": "IntSliderView",
      "continuous_update": false,
      "description": "resize",
      "description_tooltip": null,
      "disabled": false,
      "layout": "IPY_MODEL_b8e47a8355bd4275a93de6020464c551",
      "max": 1100,
      "min": 300,
      "orientation": "horizontal",
      "readout": false,
      "readout_format": "d",
      "step": 50,
      "style": "IPY_MODEL_f4c74b0ee432424f9207497a3867cd5c",
      "value": 600
     }
    },
    "144aab92db8b46e28029aa4e83e3415b": {
     "model_module": "@jupyter-widgets/base",
     "model_module_version": "1.2.0",
     "model_name": "LayoutModel",
     "state": {
      "_model_module": "@jupyter-widgets/base",
      "_model_module_version": "1.2.0",
      "_model_name": "LayoutModel",
      "_view_count": null,
      "_view_module": "@jupyter-widgets/base",
      "_view_module_version": "1.2.0",
      "_view_name": "LayoutView",
      "align_content": null,
      "align_items": null,
      "align_self": null,
      "border": null,
      "bottom": null,
      "display": null,
      "flex": null,
      "flex_flow": null,
      "grid_area": null,
      "grid_auto_columns": null,
      "grid_auto_flow": null,
      "grid_auto_rows": null,
      "grid_column": null,
      "grid_gap": null,
      "grid_row": null,
      "grid_template_areas": null,
      "grid_template_columns": null,
      "grid_template_rows": null,
      "height": null,
      "justify_content": null,
      "justify_items": null,
      "left": null,
      "margin": null,
      "max_height": null,
      "max_width": null,
      "min_height": null,
      "min_width": null,
      "object_fit": null,
      "object_position": null,
      "order": null,
      "overflow": null,
      "overflow_x": null,
      "overflow_y": null,
      "padding": null,
      "right": null,
      "top": null,
      "visibility": null,
      "width": null
     }
    },
    "16546a87991c4ece90ca3506e7b9f886": {
     "model_module": "@jupyter-widgets/base",
     "model_module_version": "1.2.0",
     "model_name": "LayoutModel",
     "state": {
      "_model_module": "@jupyter-widgets/base",
      "_model_module_version": "1.2.0",
      "_model_name": "LayoutModel",
      "_view_count": null,
      "_view_module": "@jupyter-widgets/base",
      "_view_module_version": "1.2.0",
      "_view_name": "LayoutView",
      "align_content": null,
      "align_items": null,
      "align_self": null,
      "border": null,
      "bottom": null,
      "display": null,
      "flex": null,
      "flex_flow": null,
      "grid_area": null,
      "grid_auto_columns": null,
      "grid_auto_flow": null,
      "grid_auto_rows": null,
      "grid_column": null,
      "grid_gap": null,
      "grid_row": null,
      "grid_template_areas": null,
      "grid_template_columns": null,
      "grid_template_rows": null,
      "height": null,
      "justify_content": null,
      "justify_items": null,
      "left": null,
      "margin": null,
      "max_height": null,
      "max_width": null,
      "min_height": null,
      "min_width": null,
      "object_fit": null,
      "object_position": null,
      "order": null,
      "overflow": null,
      "overflow_x": null,
      "overflow_y": null,
      "padding": null,
      "right": null,
      "top": null,
      "visibility": null,
      "width": null
     }
    },
    "1e3d8229bae3427eb514ada5d3e69679": {
     "model_module": "@jupyter-widgets/controls",
     "model_module_version": "1.5.0",
     "model_name": "IntSliderModel",
     "state": {
      "_dom_classes": [],
      "_model_module": "@jupyter-widgets/controls",
      "_model_module_version": "1.5.0",
      "_model_name": "IntSliderModel",
      "_view_count": null,
      "_view_module": "@jupyter-widgets/controls",
      "_view_module_version": "1.5.0",
      "_view_name": "IntSliderView",
      "continuous_update": false,
      "description": "resize",
      "description_tooltip": null,
      "disabled": false,
      "layout": "IPY_MODEL_f3439eb799d248ad82ce6b70796878c6",
      "max": 1100,
      "min": 300,
      "orientation": "horizontal",
      "readout": false,
      "readout_format": "d",
      "step": 50,
      "style": "IPY_MODEL_e37827762da3439a94cdbc20e478e986",
      "value": 600
     }
    },
    "21bcc1da92b54f628bfe2b1dd18a3277": {
     "model_module": "@jupyter-widgets/base",
     "model_module_version": "1.2.0",
     "model_name": "LayoutModel",
     "state": {
      "_model_module": "@jupyter-widgets/base",
      "_model_module_version": "1.2.0",
      "_model_name": "LayoutModel",
      "_view_count": null,
      "_view_module": "@jupyter-widgets/base",
      "_view_module_version": "1.2.0",
      "_view_name": "LayoutView",
      "align_content": null,
      "align_items": null,
      "align_self": null,
      "border": null,
      "bottom": null,
      "display": null,
      "flex": null,
      "flex_flow": null,
      "grid_area": null,
      "grid_auto_columns": null,
      "grid_auto_flow": null,
      "grid_auto_rows": null,
      "grid_column": null,
      "grid_gap": null,
      "grid_row": null,
      "grid_template_areas": null,
      "grid_template_columns": null,
      "grid_template_rows": null,
      "height": null,
      "justify_content": null,
      "justify_items": null,
      "left": null,
      "margin": null,
      "max_height": null,
      "max_width": null,
      "min_height": null,
      "min_width": null,
      "object_fit": null,
      "object_position": null,
      "order": null,
      "overflow": null,
      "overflow_x": null,
      "overflow_y": null,
      "padding": null,
      "right": null,
      "top": null,
      "visibility": null,
      "width": null
     }
    },
    "24ed497964f84d3c9d353e80cca16c5d": {
     "model_module": "@jupyter-widgets/base",
     "model_module_version": "1.2.0",
     "model_name": "LayoutModel",
     "state": {
      "_model_module": "@jupyter-widgets/base",
      "_model_module_version": "1.2.0",
      "_model_name": "LayoutModel",
      "_view_count": null,
      "_view_module": "@jupyter-widgets/base",
      "_view_module_version": "1.2.0",
      "_view_name": "LayoutView",
      "align_content": null,
      "align_items": null,
      "align_self": null,
      "border": null,
      "bottom": null,
      "display": null,
      "flex": null,
      "flex_flow": null,
      "grid_area": null,
      "grid_auto_columns": null,
      "grid_auto_flow": null,
      "grid_auto_rows": null,
      "grid_column": null,
      "grid_gap": null,
      "grid_row": null,
      "grid_template_areas": null,
      "grid_template_columns": null,
      "grid_template_rows": null,
      "height": null,
      "justify_content": null,
      "justify_items": null,
      "left": null,
      "margin": null,
      "max_height": null,
      "max_width": null,
      "min_height": null,
      "min_width": null,
      "object_fit": null,
      "object_position": null,
      "order": null,
      "overflow": null,
      "overflow_x": null,
      "overflow_y": null,
      "padding": null,
      "right": null,
      "top": null,
      "visibility": null,
      "width": null
     }
    },
    "26766669eed443949f2bc8f0fbb87132": {
     "model_module": "@jupyter-widgets/controls",
     "model_module_version": "1.5.0",
     "model_name": "SliderStyleModel",
     "state": {
      "_model_module": "@jupyter-widgets/controls",
      "_model_module_version": "1.5.0",
      "_model_name": "SliderStyleModel",
      "_view_count": null,
      "_view_module": "@jupyter-widgets/base",
      "_view_module_version": "1.2.0",
      "_view_name": "StyleView",
      "description_width": "",
      "handle_color": null
     }
    },
    "29785a4cb33f48759b4c4e6c81b1b2cc": {
     "model_module": "@jupyter-widgets/output",
     "model_module_version": "1.0.0",
     "model_name": "OutputModel",
     "state": {
      "_dom_classes": [],
      "_model_module": "@jupyter-widgets/output",
      "_model_module_version": "1.0.0",
      "_model_name": "OutputModel",
      "_view_count": null,
      "_view_module": "@jupyter-widgets/output",
      "_view_module_version": "1.0.0",
      "_view_name": "OutputView",
      "layout": "IPY_MODEL_1240a408e8964775b343167da7a0aa6e",
      "msg_id": "",
      "outputs": [
       {
        "data": {
         "image/jpeg": "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\n",
         "text/html": "\n        <iframe\n            width=\"600\"\n            height=\"229\"\n            src=\"https://www.youtube.com/embed/4trr-wfLDMo?rel=0&loop=1\"\n            frameborder=\"0\"\n            allowfullscreen\n            \n        ></iframe>\n        ",
         "text/plain": "<IPython.lib.display.YouTubeVideo at 0x7c272035c190>"
        },
        "metadata": {},
        "output_type": "display_data"
       }
      ]
     }
    },
    "30f33fb35ee34252873db0e591442a24": {
     "model_module": "@jupyter-widgets/base",
     "model_module_version": "1.2.0",
     "model_name": "LayoutModel",
     "state": {
      "_model_module": "@jupyter-widgets/base",
      "_model_module_version": "1.2.0",
      "_model_name": "LayoutModel",
      "_view_count": null,
      "_view_module": "@jupyter-widgets/base",
      "_view_module_version": "1.2.0",
      "_view_name": "LayoutView",
      "align_content": null,
      "align_items": null,
      "align_self": null,
      "border": null,
      "bottom": null,
      "display": null,
      "flex": null,
      "flex_flow": null,
      "grid_area": null,
      "grid_auto_columns": null,
      "grid_auto_flow": null,
      "grid_auto_rows": null,
      "grid_column": null,
      "grid_gap": null,
      "grid_row": null,
      "grid_template_areas": null,
      "grid_template_columns": null,
      "grid_template_rows": null,
      "height": null,
      "justify_content": null,
      "justify_items": null,
      "left": null,
      "margin": null,
      "max_height": null,
      "max_width": null,
      "min_height": null,
      "min_width": null,
      "object_fit": null,
      "object_position": null,
      "order": null,
      "overflow": null,
      "overflow_x": null,
      "overflow_y": null,
      "padding": null,
      "right": null,
      "top": null,
      "visibility": null,
      "width": null
     }
    },
    "39108b9f09734260a950c5bb043aa8c1": {
     "model_module": "@jupyter-widgets/controls",
     "model_module_version": "1.5.0",
     "model_name": "IntSliderModel",
     "state": {
      "_dom_classes": [],
      "_model_module": "@jupyter-widgets/controls",
      "_model_module_version": "1.5.0",
      "_model_name": "IntSliderModel",
      "_view_count": null,
      "_view_module": "@jupyter-widgets/controls",
      "_view_module_version": "1.5.0",
      "_view_name": "IntSliderView",
      "continuous_update": false,
      "description": "resize",
      "description_tooltip": null,
      "disabled": false,
      "layout": "IPY_MODEL_976bf39aeeda408ab7e72c8937153bfb",
      "max": 1100,
      "min": 300,
      "orientation": "horizontal",
      "readout": false,
      "readout_format": "d",
      "step": 50,
      "style": "IPY_MODEL_5b1e842231a8429b81ff1957ffe66c1d",
      "value": 600
     }
    },
    "3fc678819bd0473ebc128fab2b38d3fb": {
     "model_module": "@jupyter-widgets/controls",
     "model_module_version": "1.5.0",
     "model_name": "IntSliderModel",
     "state": {
      "_dom_classes": [],
      "_model_module": "@jupyter-widgets/controls",
      "_model_module_version": "1.5.0",
      "_model_name": "IntSliderModel",
      "_view_count": null,
      "_view_module": "@jupyter-widgets/controls",
      "_view_module_version": "1.5.0",
      "_view_name": "IntSliderView",
      "continuous_update": false,
      "description": "resize",
      "description_tooltip": null,
      "disabled": false,
      "layout": "IPY_MODEL_16546a87991c4ece90ca3506e7b9f886",
      "max": 1100,
      "min": 300,
      "orientation": "horizontal",
      "readout": false,
      "readout_format": "d",
      "step": 50,
      "style": "IPY_MODEL_99025b772de44e6f8da0869e3b5bcc36",
      "value": 600
     }
    },
    "423ae2394c7c4e43a81e1716de6d9037": {
     "model_module": "@jupyter-widgets/base",
     "model_module_version": "1.2.0",
     "model_name": "LayoutModel",
     "state": {
      "_model_module": "@jupyter-widgets/base",
      "_model_module_version": "1.2.0",
      "_model_name": "LayoutModel",
      "_view_count": null,
      "_view_module": "@jupyter-widgets/base",
      "_view_module_version": "1.2.0",
      "_view_name": "LayoutView",
      "align_content": null,
      "align_items": null,
      "align_self": null,
      "border": null,
      "bottom": null,
      "display": null,
      "flex": null,
      "flex_flow": null,
      "grid_area": null,
      "grid_auto_columns": null,
      "grid_auto_flow": null,
      "grid_auto_rows": null,
      "grid_column": null,
      "grid_gap": null,
      "grid_row": null,
      "grid_template_areas": null,
      "grid_template_columns": null,
      "grid_template_rows": null,
      "height": null,
      "justify_content": null,
      "justify_items": null,
      "left": null,
      "margin": null,
      "max_height": null,
      "max_width": null,
      "min_height": null,
      "min_width": null,
      "object_fit": null,
      "object_position": null,
      "order": null,
      "overflow": null,
      "overflow_x": null,
      "overflow_y": null,
      "padding": null,
      "right": null,
      "top": null,
      "visibility": null,
      "width": null
     }
    },
    "498a750b5c89462fb63f0f198e2f1a5f": {
     "model_module": "@jupyter-widgets/controls",
     "model_module_version": "1.5.0",
     "model_name": "VBoxModel",
     "state": {
      "_dom_classes": [
       "widget-interact"
      ],
      "_model_module": "@jupyter-widgets/controls",
      "_model_module_version": "1.5.0",
      "_model_name": "VBoxModel",
      "_view_count": null,
      "_view_module": "@jupyter-widgets/controls",
      "_view_module_version": "1.5.0",
      "_view_name": "VBoxView",
      "box_style": "",
      "children": [
       "IPY_MODEL_39108b9f09734260a950c5bb043aa8c1",
       "IPY_MODEL_f62cb64802fd45ca99068b7344fbf8e2"
      ],
      "layout": "IPY_MODEL_4e06f7addbe747c29db6439a05e72f4f"
     }
    },
    "4e06f7addbe747c29db6439a05e72f4f": {
     "model_module": "@jupyter-widgets/base",
     "model_module_version": "1.2.0",
     "model_name": "LayoutModel",
     "state": {
      "_model_module": "@jupyter-widgets/base",
      "_model_module_version": "1.2.0",
      "_model_name": "LayoutModel",
      "_view_count": null,
      "_view_module": "@jupyter-widgets/base",
      "_view_module_version": "1.2.0",
      "_view_name": "LayoutView",
      "align_content": null,
      "align_items": null,
      "align_self": null,
      "border": null,
      "bottom": null,
      "display": null,
      "flex": null,
      "flex_flow": null,
      "grid_area": null,
      "grid_auto_columns": null,
      "grid_auto_flow": null,
      "grid_auto_rows": null,
      "grid_column": null,
      "grid_gap": null,
      "grid_row": null,
      "grid_template_areas": null,
      "grid_template_columns": null,
      "grid_template_rows": null,
      "height": null,
      "justify_content": null,
      "justify_items": null,
      "left": null,
      "margin": null,
      "max_height": null,
      "max_width": null,
      "min_height": null,
      "min_width": null,
      "object_fit": null,
      "object_position": null,
      "order": null,
      "overflow": null,
      "overflow_x": null,
      "overflow_y": null,
      "padding": null,
      "right": null,
      "top": null,
      "visibility": null,
      "width": null
     }
    },
    "569cf981410944afb3946d58171a357b": {
     "model_module": "@jupyter-widgets/base",
     "model_module_version": "1.2.0",
     "model_name": "LayoutModel",
     "state": {
      "_model_module": "@jupyter-widgets/base",
      "_model_module_version": "1.2.0",
      "_model_name": "LayoutModel",
      "_view_count": null,
      "_view_module": "@jupyter-widgets/base",
      "_view_module_version": "1.2.0",
      "_view_name": "LayoutView",
      "align_content": null,
      "align_items": null,
      "align_self": null,
      "border": null,
      "bottom": null,
      "display": null,
      "flex": null,
      "flex_flow": null,
      "grid_area": null,
      "grid_auto_columns": null,
      "grid_auto_flow": null,
      "grid_auto_rows": null,
      "grid_column": null,
      "grid_gap": null,
      "grid_row": null,
      "grid_template_areas": null,
      "grid_template_columns": null,
      "grid_template_rows": null,
      "height": null,
      "justify_content": null,
      "justify_items": null,
      "left": null,
      "margin": null,
      "max_height": null,
      "max_width": null,
      "min_height": null,
      "min_width": null,
      "object_fit": null,
      "object_position": null,
      "order": null,
      "overflow": null,
      "overflow_x": null,
      "overflow_y": null,
      "padding": null,
      "right": null,
      "top": null,
      "visibility": null,
      "width": null
     }
    },
    "57e3332d54b9410483f5182bfe9aafbd": {
     "model_module": "@jupyter-widgets/base",
     "model_module_version": "1.2.0",
     "model_name": "LayoutModel",
     "state": {
      "_model_module": "@jupyter-widgets/base",
      "_model_module_version": "1.2.0",
      "_model_name": "LayoutModel",
      "_view_count": null,
      "_view_module": "@jupyter-widgets/base",
      "_view_module_version": "1.2.0",
      "_view_name": "LayoutView",
      "align_content": null,
      "align_items": null,
      "align_self": null,
      "border": null,
      "bottom": null,
      "display": null,
      "flex": null,
      "flex_flow": null,
      "grid_area": null,
      "grid_auto_columns": null,
      "grid_auto_flow": null,
      "grid_auto_rows": null,
      "grid_column": null,
      "grid_gap": null,
      "grid_row": null,
      "grid_template_areas": null,
      "grid_template_columns": null,
      "grid_template_rows": null,
      "height": null,
      "justify_content": null,
      "justify_items": null,
      "left": null,
      "margin": null,
      "max_height": null,
      "max_width": null,
      "min_height": null,
      "min_width": null,
      "object_fit": null,
      "object_position": null,
      "order": null,
      "overflow": null,
      "overflow_x": null,
      "overflow_y": null,
      "padding": null,
      "right": null,
      "top": null,
      "visibility": null,
      "width": null
     }
    },
    "5b1e842231a8429b81ff1957ffe66c1d": {
     "model_module": "@jupyter-widgets/controls",
     "model_module_version": "1.5.0",
     "model_name": "SliderStyleModel",
     "state": {
      "_model_module": "@jupyter-widgets/controls",
      "_model_module_version": "1.5.0",
      "_model_name": "SliderStyleModel",
      "_view_count": null,
      "_view_module": "@jupyter-widgets/base",
      "_view_module_version": "1.2.0",
      "_view_name": "StyleView",
      "description_width": "",
      "handle_color": null
     }
    },
    "5cda256d243b4f75998b22aead05b271": {
     "model_module": "@jupyter-widgets/controls",
     "model_module_version": "1.5.0",
     "model_name": "VBoxModel",
     "state": {
      "_dom_classes": [
       "widget-interact"
      ],
      "_model_module": "@jupyter-widgets/controls",
      "_model_module_version": "1.5.0",
      "_model_name": "VBoxModel",
      "_view_count": null,
      "_view_module": "@jupyter-widgets/controls",
      "_view_module_version": "1.5.0",
      "_view_name": "VBoxView",
      "box_style": "",
      "children": [
       "IPY_MODEL_105fc0cd5c2448ca8e346f92388fa89d",
       "IPY_MODEL_affa3a69966f427dab5c8b708282da95"
      ],
      "layout": "IPY_MODEL_6e207b6e11d24280a06e79f3e964e674"
     }
    },
    "6afd30737b47420b839cc7e22b38d2ef": {
     "model_module": "@jupyter-widgets/output",
     "model_module_version": "1.0.0",
     "model_name": "OutputModel",
     "state": {
      "_dom_classes": [],
      "_model_module": "@jupyter-widgets/output",
      "_model_module_version": "1.0.0",
      "_model_name": "OutputModel",
      "_view_count": null,
      "_view_module": "@jupyter-widgets/output",
      "_view_module_version": "1.0.0",
      "_view_name": "OutputView",
      "layout": "IPY_MODEL_0aa1479dcafc4406a94b01e74c7c2d7c",
      "msg_id": "",
      "outputs": [
       {
        "data": {
         "image/jpeg": "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\n",
         "text/html": "\n        <iframe\n            width=\"600\"\n            height=\"280\"\n            src=\"https://www.youtube.com/embed/AQj3VxvcBh8?rel=0&loop=1\"\n            frameborder=\"0\"\n            allowfullscreen\n            \n        ></iframe>\n        ",
         "text/plain": "<IPython.lib.display.YouTubeVideo at 0x7c2721dbad40>"
        },
        "metadata": {},
        "output_type": "display_data"
       }
      ]
     }
    },
    "6b6f9511c6044950b7c23048de107dcc": {
     "model_module": "@jupyter-widgets/base",
     "model_module_version": "1.2.0",
     "model_name": "LayoutModel",
     "state": {
      "_model_module": "@jupyter-widgets/base",
      "_model_module_version": "1.2.0",
      "_model_name": "LayoutModel",
      "_view_count": null,
      "_view_module": "@jupyter-widgets/base",
      "_view_module_version": "1.2.0",
      "_view_name": "LayoutView",
      "align_content": null,
      "align_items": null,
      "align_self": null,
      "border": null,
      "bottom": null,
      "display": null,
      "flex": null,
      "flex_flow": null,
      "grid_area": null,
      "grid_auto_columns": null,
      "grid_auto_flow": null,
      "grid_auto_rows": null,
      "grid_column": null,
      "grid_gap": null,
      "grid_row": null,
      "grid_template_areas": null,
      "grid_template_columns": null,
      "grid_template_rows": null,
      "height": null,
      "justify_content": null,
      "justify_items": null,
      "left": null,
      "margin": null,
      "max_height": null,
      "max_width": null,
      "min_height": null,
      "min_width": null,
      "object_fit": null,
      "object_position": null,
      "order": null,
      "overflow": null,
      "overflow_x": null,
      "overflow_y": null,
      "padding": null,
      "right": null,
      "top": null,
      "visibility": null,
      "width": null
     }
    },
    "6e207b6e11d24280a06e79f3e964e674": {
     "model_module": "@jupyter-widgets/base",
     "model_module_version": "1.2.0",
     "model_name": "LayoutModel",
     "state": {
      "_model_module": "@jupyter-widgets/base",
      "_model_module_version": "1.2.0",
      "_model_name": "LayoutModel",
      "_view_count": null,
      "_view_module": "@jupyter-widgets/base",
      "_view_module_version": "1.2.0",
      "_view_name": "LayoutView",
      "align_content": null,
      "align_items": null,
      "align_self": null,
      "border": null,
      "bottom": null,
      "display": null,
      "flex": null,
      "flex_flow": null,
      "grid_area": null,
      "grid_auto_columns": null,
      "grid_auto_flow": null,
      "grid_auto_rows": null,
      "grid_column": null,
      "grid_gap": null,
      "grid_row": null,
      "grid_template_areas": null,
      "grid_template_columns": null,
      "grid_template_rows": null,
      "height": null,
      "justify_content": null,
      "justify_items": null,
      "left": null,
      "margin": null,
      "max_height": null,
      "max_width": null,
      "min_height": null,
      "min_width": null,
      "object_fit": null,
      "object_position": null,
      "order": null,
      "overflow": null,
      "overflow_x": null,
      "overflow_y": null,
      "padding": null,
      "right": null,
      "top": null,
      "visibility": null,
      "width": null
     }
    },
    "7e525b63da1948bca14166d50657bd8f": {
     "model_module": "@jupyter-widgets/controls",
     "model_module_version": "1.5.0",
     "model_name": "IntSliderModel",
     "state": {
      "_dom_classes": [],
      "_model_module": "@jupyter-widgets/controls",
      "_model_module_version": "1.5.0",
      "_model_name": "IntSliderModel",
      "_view_count": null,
      "_view_module": "@jupyter-widgets/controls",
      "_view_module_version": "1.5.0",
      "_view_name": "IntSliderView",
      "continuous_update": false,
      "description": "resize",
      "description_tooltip": null,
      "disabled": false,
      "layout": "IPY_MODEL_89188fe16cd945dda8e0ca30c0ec9421",
      "max": 1100,
      "min": 300,
      "orientation": "horizontal",
      "readout": false,
      "readout_format": "d",
      "step": 50,
      "style": "IPY_MODEL_7f49f4719dc643cfb4d6d40efcaacbfe",
      "value": 600
     }
    },
    "7f49f4719dc643cfb4d6d40efcaacbfe": {
     "model_module": "@jupyter-widgets/controls",
     "model_module_version": "1.5.0",
     "model_name": "SliderStyleModel",
     "state": {
      "_model_module": "@jupyter-widgets/controls",
      "_model_module_version": "1.5.0",
      "_model_name": "SliderStyleModel",
      "_view_count": null,
      "_view_module": "@jupyter-widgets/base",
      "_view_module_version": "1.2.0",
      "_view_name": "StyleView",
      "description_width": "",
      "handle_color": null
     }
    },
    "8567898f16f04bca8b2e4181ceb1edd8": {
     "model_module": "@jupyter-widgets/controls",
     "model_module_version": "1.5.0",
     "model_name": "VBoxModel",
     "state": {
      "_dom_classes": [
       "widget-interact"
      ],
      "_model_module": "@jupyter-widgets/controls",
      "_model_module_version": "1.5.0",
      "_model_name": "VBoxModel",
      "_view_count": null,
      "_view_module": "@jupyter-widgets/controls",
      "_view_module_version": "1.5.0",
      "_view_name": "VBoxView",
      "box_style": "",
      "children": [
       "IPY_MODEL_e535257b740a45f0af85b52b2a77e928",
       "IPY_MODEL_b2039a9ab5384831a9652e983a68a638"
      ],
      "layout": "IPY_MODEL_423ae2394c7c4e43a81e1716de6d9037"
     }
    },
    "887a22d90d3145f4815da5b693cde686": {
     "model_module": "@jupyter-widgets/controls",
     "model_module_version": "1.5.0",
     "model_name": "VBoxModel",
     "state": {
      "_dom_classes": [
       "widget-interact"
      ],
      "_model_module": "@jupyter-widgets/controls",
      "_model_module_version": "1.5.0",
      "_model_name": "VBoxModel",
      "_view_count": null,
      "_view_module": "@jupyter-widgets/controls",
      "_view_module_version": "1.5.0",
      "_view_name": "VBoxView",
      "box_style": "",
      "children": [
       "IPY_MODEL_7e525b63da1948bca14166d50657bd8f",
       "IPY_MODEL_29785a4cb33f48759b4c4e6c81b1b2cc"
      ],
      "layout": "IPY_MODEL_24ed497964f84d3c9d353e80cca16c5d"
     }
    },
    "89188fe16cd945dda8e0ca30c0ec9421": {
     "model_module": "@jupyter-widgets/base",
     "model_module_version": "1.2.0",
     "model_name": "LayoutModel",
     "state": {
      "_model_module": "@jupyter-widgets/base",
      "_model_module_version": "1.2.0",
      "_model_name": "LayoutModel",
      "_view_count": null,
      "_view_module": "@jupyter-widgets/base",
      "_view_module_version": "1.2.0",
      "_view_name": "LayoutView",
      "align_content": null,
      "align_items": null,
      "align_self": null,
      "border": null,
      "bottom": null,
      "display": null,
      "flex": null,
      "flex_flow": null,
      "grid_area": null,
      "grid_auto_columns": null,
      "grid_auto_flow": null,
      "grid_auto_rows": null,
      "grid_column": null,
      "grid_gap": null,
      "grid_row": null,
      "grid_template_areas": null,
      "grid_template_columns": null,
      "grid_template_rows": null,
      "height": null,
      "justify_content": null,
      "justify_items": null,
      "left": null,
      "margin": null,
      "max_height": null,
      "max_width": null,
      "min_height": null,
      "min_width": null,
      "object_fit": null,
      "object_position": null,
      "order": null,
      "overflow": null,
      "overflow_x": null,
      "overflow_y": null,
      "padding": null,
      "right": null,
      "top": null,
      "visibility": null,
      "width": null
     }
    },
    "8fda2fdf8a0d4f2a96169626aa25d22d": {
     "model_module": "@jupyter-widgets/controls",
     "model_module_version": "1.5.0",
     "model_name": "SliderStyleModel",
     "state": {
      "_model_module": "@jupyter-widgets/controls",
      "_model_module_version": "1.5.0",
      "_model_name": "SliderStyleModel",
      "_view_count": null,
      "_view_module": "@jupyter-widgets/base",
      "_view_module_version": "1.2.0",
      "_view_name": "StyleView",
      "description_width": "",
      "handle_color": null
     }
    },
    "90ea597754054870ab1136e5e04085f0": {
     "model_module": "@jupyter-widgets/output",
     "model_module_version": "1.0.0",
     "model_name": "OutputModel",
     "state": {
      "_dom_classes": [],
      "_model_module": "@jupyter-widgets/output",
      "_model_module_version": "1.0.0",
      "_model_name": "OutputModel",
      "_view_count": null,
      "_view_module": "@jupyter-widgets/output",
      "_view_module_version": "1.0.0",
      "_view_name": "OutputView",
      "layout": "IPY_MODEL_569cf981410944afb3946d58171a357b",
      "msg_id": "",
      "outputs": [
       {
        "data": {
         "image/jpeg": "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\n",
         "text/html": "\n        <iframe\n            width=\"600\"\n            height=\"272\"\n            src=\"https://www.youtube.com/embed/QEPD6bdGNEE?rel=0&loop=1\"\n            frameborder=\"0\"\n            allowfullscreen\n            \n        ></iframe>\n        ",
         "text/plain": "<IPython.lib.display.YouTubeVideo at 0x7ff69a5aa9e0>"
        },
        "metadata": {},
        "output_type": "display_data"
       }
      ]
     }
    },
    "976bf39aeeda408ab7e72c8937153bfb": {
     "model_module": "@jupyter-widgets/base",
     "model_module_version": "1.2.0",
     "model_name": "LayoutModel",
     "state": {
      "_model_module": "@jupyter-widgets/base",
      "_model_module_version": "1.2.0",
      "_model_name": "LayoutModel",
      "_view_count": null,
      "_view_module": "@jupyter-widgets/base",
      "_view_module_version": "1.2.0",
      "_view_name": "LayoutView",
      "align_content": null,
      "align_items": null,
      "align_self": null,
      "border": null,
      "bottom": null,
      "display": null,
      "flex": null,
      "flex_flow": null,
      "grid_area": null,
      "grid_auto_columns": null,
      "grid_auto_flow": null,
      "grid_auto_rows": null,
      "grid_column": null,
      "grid_gap": null,
      "grid_row": null,
      "grid_template_areas": null,
      "grid_template_columns": null,
      "grid_template_rows": null,
      "height": null,
      "justify_content": null,
      "justify_items": null,
      "left": null,
      "margin": null,
      "max_height": null,
      "max_width": null,
      "min_height": null,
      "min_width": null,
      "object_fit": null,
      "object_position": null,
      "order": null,
      "overflow": null,
      "overflow_x": null,
      "overflow_y": null,
      "padding": null,
      "right": null,
      "top": null,
      "visibility": null,
      "width": null
     }
    },
    "97bec9a76873474eaed10f3f1f63247b": {
     "model_module": "@jupyter-widgets/controls",
     "model_module_version": "1.5.0",
     "model_name": "VBoxModel",
     "state": {
      "_dom_classes": [
       "widget-interact"
      ],
      "_model_module": "@jupyter-widgets/controls",
      "_model_module_version": "1.5.0",
      "_model_name": "VBoxModel",
      "_view_count": null,
      "_view_module": "@jupyter-widgets/controls",
      "_view_module_version": "1.5.0",
      "_view_name": "VBoxView",
      "box_style": "",
      "children": [
       "IPY_MODEL_f6d46d0870914787a1b13b630bae1e9d",
       "IPY_MODEL_eac8d24c11a14d088e5d9fe62bbf1807"
      ],
      "layout": "IPY_MODEL_f1bbb5a7c86d460b97036acdc2b68dfa"
     }
    },
    "99025b772de44e6f8da0869e3b5bcc36": {
     "model_module": "@jupyter-widgets/controls",
     "model_module_version": "1.5.0",
     "model_name": "SliderStyleModel",
     "state": {
      "_model_module": "@jupyter-widgets/controls",
      "_model_module_version": "1.5.0",
      "_model_name": "SliderStyleModel",
      "_view_count": null,
      "_view_module": "@jupyter-widgets/base",
      "_view_module_version": "1.2.0",
      "_view_name": "StyleView",
      "description_width": "",
      "handle_color": null
     }
    },
    "affa3a69966f427dab5c8b708282da95": {
     "model_module": "@jupyter-widgets/output",
     "model_module_version": "1.0.0",
     "model_name": "OutputModel",
     "state": {
      "_dom_classes": [],
      "_model_module": "@jupyter-widgets/output",
      "_model_module_version": "1.0.0",
      "_model_name": "OutputModel",
      "_view_count": null,
      "_view_module": "@jupyter-widgets/output",
      "_view_module_version": "1.0.0",
      "_view_name": "OutputView",
      "layout": "IPY_MODEL_6b6f9511c6044950b7c23048de107dcc",
      "msg_id": "",
      "outputs": [
       {
        "data": {
         "image/jpeg": "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\n",
         "text/html": "\n        <iframe\n            width=\"600\"\n            height=\"196\"\n            src=\"https://www.youtube.com/embed/E-cfVOzkVIY?rel=0&loop=1\"\n            frameborder=\"0\"\n            allowfullscreen\n            \n        ></iframe>\n        ",
         "text/plain": "<IPython.lib.display.YouTubeVideo at 0x7c272035e320>"
        },
        "metadata": {},
        "output_type": "display_data"
       }
      ]
     }
    },
    "b2039a9ab5384831a9652e983a68a638": {
     "model_module": "@jupyter-widgets/output",
     "model_module_version": "1.0.0",
     "model_name": "OutputModel",
     "state": {
      "_dom_classes": [],
      "_model_module": "@jupyter-widgets/output",
      "_model_module_version": "1.0.0",
      "_model_name": "OutputModel",
      "_view_count": null,
      "_view_module": "@jupyter-widgets/output",
      "_view_module_version": "1.0.0",
      "_view_name": "OutputView",
      "layout": "IPY_MODEL_57e3332d54b9410483f5182bfe9aafbd",
      "msg_id": "",
      "outputs": [
       {
        "data": {
         "image/jpeg": "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\n",
         "text/html": "\n        <iframe\n            width=\"600\"\n            height=\"354\"\n            src=\"https://www.youtube.com/embed/KLwFNUxQmU0?rel=0&loop=1\"\n            frameborder=\"0\"\n            allowfullscreen\n            \n        ></iframe>\n        ",
         "text/plain": "<IPython.lib.display.YouTubeVideo at 0x7c272035d000>"
        },
        "metadata": {},
        "output_type": "display_data"
       }
      ]
     }
    },
    "b8c5c5c6db674a968869b9630d4ceae0": {
     "model_module": "@jupyter-widgets/base",
     "model_module_version": "1.2.0",
     "model_name": "LayoutModel",
     "state": {
      "_model_module": "@jupyter-widgets/base",
      "_model_module_version": "1.2.0",
      "_model_name": "LayoutModel",
      "_view_count": null,
      "_view_module": "@jupyter-widgets/base",
      "_view_module_version": "1.2.0",
      "_view_name": "LayoutView",
      "align_content": null,
      "align_items": null,
      "align_self": null,
      "border": null,
      "bottom": null,
      "display": null,
      "flex": null,
      "flex_flow": null,
      "grid_area": null,
      "grid_auto_columns": null,
      "grid_auto_flow": null,
      "grid_auto_rows": null,
      "grid_column": null,
      "grid_gap": null,
      "grid_row": null,
      "grid_template_areas": null,
      "grid_template_columns": null,
      "grid_template_rows": null,
      "height": null,
      "justify_content": null,
      "justify_items": null,
      "left": null,
      "margin": null,
      "max_height": null,
      "max_width": null,
      "min_height": null,
      "min_width": null,
      "object_fit": null,
      "object_position": null,
      "order": null,
      "overflow": null,
      "overflow_x": null,
      "overflow_y": null,
      "padding": null,
      "right": null,
      "top": null,
      "visibility": null,
      "width": null
     }
    },
    "b8e47a8355bd4275a93de6020464c551": {
     "model_module": "@jupyter-widgets/base",
     "model_module_version": "1.2.0",
     "model_name": "LayoutModel",
     "state": {
      "_model_module": "@jupyter-widgets/base",
      "_model_module_version": "1.2.0",
      "_model_name": "LayoutModel",
      "_view_count": null,
      "_view_module": "@jupyter-widgets/base",
      "_view_module_version": "1.2.0",
      "_view_name": "LayoutView",
      "align_content": null,
      "align_items": null,
      "align_self": null,
      "border": null,
      "bottom": null,
      "display": null,
      "flex": null,
      "flex_flow": null,
      "grid_area": null,
      "grid_auto_columns": null,
      "grid_auto_flow": null,
      "grid_auto_rows": null,
      "grid_column": null,
      "grid_gap": null,
      "grid_row": null,
      "grid_template_areas": null,
      "grid_template_columns": null,
      "grid_template_rows": null,
      "height": null,
      "justify_content": null,
      "justify_items": null,
      "left": null,
      "margin": null,
      "max_height": null,
      "max_width": null,
      "min_height": null,
      "min_width": null,
      "object_fit": null,
      "object_position": null,
      "order": null,
      "overflow": null,
      "overflow_x": null,
      "overflow_y": null,
      "padding": null,
      "right": null,
      "top": null,
      "visibility": null,
      "width": null
     }
    },
    "c1bec3afe7b941c597a1cd322e359af2": {
     "model_module": "@jupyter-widgets/controls",
     "model_module_version": "1.5.0",
     "model_name": "VBoxModel",
     "state": {
      "_dom_classes": [
       "widget-interact"
      ],
      "_model_module": "@jupyter-widgets/controls",
      "_model_module_version": "1.5.0",
      "_model_name": "VBoxModel",
      "_view_count": null,
      "_view_module": "@jupyter-widgets/controls",
      "_view_module_version": "1.5.0",
      "_view_name": "VBoxView",
      "box_style": "",
      "children": [
       "IPY_MODEL_3fc678819bd0473ebc128fab2b38d3fb",
       "IPY_MODEL_90ea597754054870ab1136e5e04085f0"
      ],
      "layout": "IPY_MODEL_21bcc1da92b54f628bfe2b1dd18a3277"
     }
    },
    "ce51c21c1ed241cc801ef2a159ad382b": {
     "model_module": "@jupyter-widgets/controls",
     "model_module_version": "1.5.0",
     "model_name": "VBoxModel",
     "state": {
      "_dom_classes": [
       "widget-interact"
      ],
      "_model_module": "@jupyter-widgets/controls",
      "_model_module_version": "1.5.0",
      "_model_name": "VBoxModel",
      "_view_count": null,
      "_view_module": "@jupyter-widgets/controls",
      "_view_module_version": "1.5.0",
      "_view_name": "VBoxView",
      "box_style": "",
      "children": [
       "IPY_MODEL_13d5768bad4440bcb6138d1c24347561",
       "IPY_MODEL_059b1561dbf84041801141f461e7a019"
      ],
      "layout": "IPY_MODEL_f6e01bb4cdef44bca74c471de31c2612"
     }
    },
    "cee8374cde974268ba7e6be7d6c7abcd": {
     "model_module": "@jupyter-widgets/controls",
     "model_module_version": "1.5.0",
     "model_name": "SliderStyleModel",
     "state": {
      "_model_module": "@jupyter-widgets/controls",
      "_model_module_version": "1.5.0",
      "_model_name": "SliderStyleModel",
      "_view_count": null,
      "_view_module": "@jupyter-widgets/base",
      "_view_module_version": "1.2.0",
      "_view_name": "StyleView",
      "description_width": "",
      "handle_color": null
     }
    },
    "d83cc6f20a5e49cbad293d89cb47561a": {
     "model_module": "@jupyter-widgets/base",
     "model_module_version": "1.2.0",
     "model_name": "LayoutModel",
     "state": {
      "_model_module": "@jupyter-widgets/base",
      "_model_module_version": "1.2.0",
      "_model_name": "LayoutModel",
      "_view_count": null,
      "_view_module": "@jupyter-widgets/base",
      "_view_module_version": "1.2.0",
      "_view_name": "LayoutView",
      "align_content": null,
      "align_items": null,
      "align_self": null,
      "border": null,
      "bottom": null,
      "display": null,
      "flex": null,
      "flex_flow": null,
      "grid_area": null,
      "grid_auto_columns": null,
      "grid_auto_flow": null,
      "grid_auto_rows": null,
      "grid_column": null,
      "grid_gap": null,
      "grid_row": null,
      "grid_template_areas": null,
      "grid_template_columns": null,
      "grid_template_rows": null,
      "height": null,
      "justify_content": null,
      "justify_items": null,
      "left": null,
      "margin": null,
      "max_height": null,
      "max_width": null,
      "min_height": null,
      "min_width": null,
      "object_fit": null,
      "object_position": null,
      "order": null,
      "overflow": null,
      "overflow_x": null,
      "overflow_y": null,
      "padding": null,
      "right": null,
      "top": null,
      "visibility": null,
      "width": null
     }
    },
    "d87e834ca68147b7b3f88b59af2c3ad1": {
     "model_module": "@jupyter-widgets/base",
     "model_module_version": "1.2.0",
     "model_name": "LayoutModel",
     "state": {
      "_model_module": "@jupyter-widgets/base",
      "_model_module_version": "1.2.0",
      "_model_name": "LayoutModel",
      "_view_count": null,
      "_view_module": "@jupyter-widgets/base",
      "_view_module_version": "1.2.0",
      "_view_name": "LayoutView",
      "align_content": null,
      "align_items": null,
      "align_self": null,
      "border": null,
      "bottom": null,
      "display": null,
      "flex": null,
      "flex_flow": null,
      "grid_area": null,
      "grid_auto_columns": null,
      "grid_auto_flow": null,
      "grid_auto_rows": null,
      "grid_column": null,
      "grid_gap": null,
      "grid_row": null,
      "grid_template_areas": null,
      "grid_template_columns": null,
      "grid_template_rows": null,
      "height": null,
      "justify_content": null,
      "justify_items": null,
      "left": null,
      "margin": null,
      "max_height": null,
      "max_width": null,
      "min_height": null,
      "min_width": null,
      "object_fit": null,
      "object_position": null,
      "order": null,
      "overflow": null,
      "overflow_x": null,
      "overflow_y": null,
      "padding": null,
      "right": null,
      "top": null,
      "visibility": null,
      "width": null
     }
    },
    "d944a4d0295941dbaa19fd19956024c3": {
     "model_module": "@jupyter-widgets/base",
     "model_module_version": "1.2.0",
     "model_name": "LayoutModel",
     "state": {
      "_model_module": "@jupyter-widgets/base",
      "_model_module_version": "1.2.0",
      "_model_name": "LayoutModel",
      "_view_count": null,
      "_view_module": "@jupyter-widgets/base",
      "_view_module_version": "1.2.0",
      "_view_name": "LayoutView",
      "align_content": null,
      "align_items": null,
      "align_self": null,
      "border": null,
      "bottom": null,
      "display": null,
      "flex": null,
      "flex_flow": null,
      "grid_area": null,
      "grid_auto_columns": null,
      "grid_auto_flow": null,
      "grid_auto_rows": null,
      "grid_column": null,
      "grid_gap": null,
      "grid_row": null,
      "grid_template_areas": null,
      "grid_template_columns": null,
      "grid_template_rows": null,
      "height": null,
      "justify_content": null,
      "justify_items": null,
      "left": null,
      "margin": null,
      "max_height": null,
      "max_width": null,
      "min_height": null,
      "min_width": null,
      "object_fit": null,
      "object_position": null,
      "order": null,
      "overflow": null,
      "overflow_x": null,
      "overflow_y": null,
      "padding": null,
      "right": null,
      "top": null,
      "visibility": null,
      "width": null
     }
    },
    "e37827762da3439a94cdbc20e478e986": {
     "model_module": "@jupyter-widgets/controls",
     "model_module_version": "1.5.0",
     "model_name": "SliderStyleModel",
     "state": {
      "_model_module": "@jupyter-widgets/controls",
      "_model_module_version": "1.5.0",
      "_model_name": "SliderStyleModel",
      "_view_count": null,
      "_view_module": "@jupyter-widgets/base",
      "_view_module_version": "1.2.0",
      "_view_name": "StyleView",
      "description_width": "",
      "handle_color": null
     }
    },
    "e535257b740a45f0af85b52b2a77e928": {
     "model_module": "@jupyter-widgets/controls",
     "model_module_version": "1.5.0",
     "model_name": "IntSliderModel",
     "state": {
      "_dom_classes": [],
      "_model_module": "@jupyter-widgets/controls",
      "_model_module_version": "1.5.0",
      "_model_name": "IntSliderModel",
      "_view_count": null,
      "_view_module": "@jupyter-widgets/controls",
      "_view_module_version": "1.5.0",
      "_view_name": "IntSliderView",
      "continuous_update": false,
      "description": "resize",
      "description_tooltip": null,
      "disabled": false,
      "layout": "IPY_MODEL_d944a4d0295941dbaa19fd19956024c3",
      "max": 1100,
      "min": 300,
      "orientation": "horizontal",
      "readout": false,
      "readout_format": "d",
      "step": 50,
      "style": "IPY_MODEL_cee8374cde974268ba7e6be7d6c7abcd",
      "value": 600
     }
    },
    "eac8d24c11a14d088e5d9fe62bbf1807": {
     "model_module": "@jupyter-widgets/output",
     "model_module_version": "1.0.0",
     "model_name": "OutputModel",
     "state": {
      "_dom_classes": [],
      "_model_module": "@jupyter-widgets/output",
      "_model_module_version": "1.0.0",
      "_model_name": "OutputModel",
      "_view_count": null,
      "_view_module": "@jupyter-widgets/output",
      "_view_module_version": "1.0.0",
      "_view_name": "OutputView",
      "layout": "IPY_MODEL_b8c5c5c6db674a968869b9630d4ceae0",
      "msg_id": "",
      "outputs": [
       {
        "data": {
         "image/jpeg": "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\n",
         "text/html": "\n        <iframe\n            width=\"600\"\n            height=\"327\"\n            src=\"https://www.youtube.com/embed/BhlpH_M3HrU?rel=0&loop=1\"\n            frameborder=\"0\"\n            allowfullscreen\n            \n        ></iframe>\n        ",
         "text/plain": "<IPython.lib.display.YouTubeVideo at 0x7ff69a5abaf0>"
        },
        "metadata": {},
        "output_type": "display_data"
       }
      ]
     }
    },
    "f0a6c34e5cf9476ca720a07c9ccbb6d8": {
     "model_module": "@jupyter-widgets/base",
     "model_module_version": "1.2.0",
     "model_name": "LayoutModel",
     "state": {
      "_model_module": "@jupyter-widgets/base",
      "_model_module_version": "1.2.0",
      "_model_name": "LayoutModel",
      "_view_count": null,
      "_view_module": "@jupyter-widgets/base",
      "_view_module_version": "1.2.0",
      "_view_name": "LayoutView",
      "align_content": null,
      "align_items": null,
      "align_self": null,
      "border": null,
      "bottom": null,
      "display": null,
      "flex": null,
      "flex_flow": null,
      "grid_area": null,
      "grid_auto_columns": null,
      "grid_auto_flow": null,
      "grid_auto_rows": null,
      "grid_column": null,
      "grid_gap": null,
      "grid_row": null,
      "grid_template_areas": null,
      "grid_template_columns": null,
      "grid_template_rows": null,
      "height": null,
      "justify_content": null,
      "justify_items": null,
      "left": null,
      "margin": null,
      "max_height": null,
      "max_width": null,
      "min_height": null,
      "min_width": null,
      "object_fit": null,
      "object_position": null,
      "order": null,
      "overflow": null,
      "overflow_x": null,
      "overflow_y": null,
      "padding": null,
      "right": null,
      "top": null,
      "visibility": null,
      "width": null
     }
    },
    "f1bbb5a7c86d460b97036acdc2b68dfa": {
     "model_module": "@jupyter-widgets/base",
     "model_module_version": "1.2.0",
     "model_name": "LayoutModel",
     "state": {
      "_model_module": "@jupyter-widgets/base",
      "_model_module_version": "1.2.0",
      "_model_name": "LayoutModel",
      "_view_count": null,
      "_view_module": "@jupyter-widgets/base",
      "_view_module_version": "1.2.0",
      "_view_name": "LayoutView",
      "align_content": null,
      "align_items": null,
      "align_self": null,
      "border": null,
      "bottom": null,
      "display": null,
      "flex": null,
      "flex_flow": null,
      "grid_area": null,
      "grid_auto_columns": null,
      "grid_auto_flow": null,
      "grid_auto_rows": null,
      "grid_column": null,
      "grid_gap": null,
      "grid_row": null,
      "grid_template_areas": null,
      "grid_template_columns": null,
      "grid_template_rows": null,
      "height": null,
      "justify_content": null,
      "justify_items": null,
      "left": null,
      "margin": null,
      "max_height": null,
      "max_width": null,
      "min_height": null,
      "min_width": null,
      "object_fit": null,
      "object_position": null,
      "order": null,
      "overflow": null,
      "overflow_x": null,
      "overflow_y": null,
      "padding": null,
      "right": null,
      "top": null,
      "visibility": null,
      "width": null
     }
    },
    "f3439eb799d248ad82ce6b70796878c6": {
     "model_module": "@jupyter-widgets/base",
     "model_module_version": "1.2.0",
     "model_name": "LayoutModel",
     "state": {
      "_model_module": "@jupyter-widgets/base",
      "_model_module_version": "1.2.0",
      "_model_name": "LayoutModel",
      "_view_count": null,
      "_view_module": "@jupyter-widgets/base",
      "_view_module_version": "1.2.0",
      "_view_name": "LayoutView",
      "align_content": null,
      "align_items": null,
      "align_self": null,
      "border": null,
      "bottom": null,
      "display": null,
      "flex": null,
      "flex_flow": null,
      "grid_area": null,
      "grid_auto_columns": null,
      "grid_auto_flow": null,
      "grid_auto_rows": null,
      "grid_column": null,
      "grid_gap": null,
      "grid_row": null,
      "grid_template_areas": null,
      "grid_template_columns": null,
      "grid_template_rows": null,
      "height": null,
      "justify_content": null,
      "justify_items": null,
      "left": null,
      "margin": null,
      "max_height": null,
      "max_width": null,
      "min_height": null,
      "min_width": null,
      "object_fit": null,
      "object_position": null,
      "order": null,
      "overflow": null,
      "overflow_x": null,
      "overflow_y": null,
      "padding": null,
      "right": null,
      "top": null,
      "visibility": null,
      "width": null
     }
    },
    "f4c74b0ee432424f9207497a3867cd5c": {
     "model_module": "@jupyter-widgets/controls",
     "model_module_version": "1.5.0",
     "model_name": "SliderStyleModel",
     "state": {
      "_model_module": "@jupyter-widgets/controls",
      "_model_module_version": "1.5.0",
      "_model_name": "SliderStyleModel",
      "_view_count": null,
      "_view_module": "@jupyter-widgets/base",
      "_view_module_version": "1.2.0",
      "_view_name": "StyleView",
      "description_width": "",
      "handle_color": null
     }
    },
    "f62cb64802fd45ca99068b7344fbf8e2": {
     "model_module": "@jupyter-widgets/output",
     "model_module_version": "1.0.0",
     "model_name": "OutputModel",
     "state": {
      "_dom_classes": [],
      "_model_module": "@jupyter-widgets/output",
      "_model_module_version": "1.0.0",
      "_model_name": "OutputModel",
      "_view_count": null,
      "_view_module": "@jupyter-widgets/output",
      "_view_module_version": "1.0.0",
      "_view_name": "OutputView",
      "layout": "IPY_MODEL_30f33fb35ee34252873db0e591442a24",
      "msg_id": "",
      "outputs": [
       {
        "data": {
         "image/jpeg": "/9j/4AAQSkZJRgABAQAAAQABAAD/2wCEAAUDBAgICAgICAgICAgICAgICAgICAgICAgICAgICAgICAgIChALCAgOCggIDRUODhESExMTCAsWGBYSGBASExIBBQUFBwcIDgkJDxcTEhIYFhUSEhUXFxUVFRcSFRYVEhUVFxITEhIVEhUTEhUXFRUVFRUSEhISEhUSEhIVFhUVEv/AABEIAWgB4AMBIgACEQEDEQH/xAAdAAEAAgMBAQEBAAAAAAAAAAAABggEBQcDAQIJ/8QAWxAAAQQBAgMDBwcIBQYLBQkAAQACAwQFBhESEyEHMZQUGCJBUVXVCBUyUlRhkRcjQnGBodHSM1OSsdMkYnKytOEWJTU2Q3N0dZPB1DRjgrXDRGWDhJWio8LF/8QAHAEBAAIDAQEBAAAAAAAAAAAAAAQFAgMGAQcI/8QAOBEBAAECAgYIAwgCAwEAAAAAAAECAwQRBRIhMVGRExVBUmFxofAigdEGFDJCkrHB4RZTIzPxQ//aAAwDAQACEQMRAD8ApkiIgIiICIiAiIgIiICIiAiIgIiICIiAiIgIiICIiAiIgIiICIiAiIgIiICIiAiIgIiICIiAiIgIiICIiAiIgIiICIiAiIgIiICIiAiIgIiICIiAiIgIiICIiAiIgIiICIiAiIgIiICIiAiIgIiICIiAiIgIiICIiAiIgIiICIiAiIgIiICIiAiIgIiICIiAiIgIiICIiAisz5lWqvt+n/FZH4cnmVaq+36f8VkfhyCsyKzPmVaq+36f8VkfhyeZVqr7fp/xWR+HIKzIrM+ZVqr7fp/xWR+HJ5lWqvt+n/FZH4cgrMisz5lWqvt+n/FZH4cnmVaq+36f8VkfhyCsyKzPmVaq+36f8VkfhyeZVqr7fp/xWR+HIKzIrM+ZVqr7fp/xWR+HJ5lWqvt+n/FZH4cgrMisz5lWqvt+n/FZH4cnmVaq+36f8VkfhyCsyKzPmVaq+36f8VkfhyeZVqr7fp/xWR+HIKzIrM+ZVqr7fp/xWR+HJ5lWqvt+n/FZH4cgrMisz5lWqvt+n/FZH4cnmVaq+36f8VkfhyCsyKzPmVaq+36f8VkfhyeZVqr7fp/xWR+HIKzIrM+ZVqr7fp/xWR+HJ5lWqvt+n/FZH4cgrMisz5lWqvt+n/FZH4cnmVaq+36f8VkfhyCsyKzPmVaq+36f8VkfhyeZVqr7fp/xWR+HIKzIrM+ZVqr7fp/xWR+HJ5lWqvt+n/FZH4cgrMisz5lWqvt+n/FZH4cnmVaq+36f8VkfhyCsyKzPmVaq+36f8VkfhyeZVqr7fp/xWR+HIKzIrM+ZVqr7fp/xWR+HJ5lWqvt+n/FZH4cgrMisz5lWqvt+n/FZH4cnmVaq+36f8VkfhyCsyKzPmVaq+36f8VkfhyeZVqr7fp/xWR+HIKzIrM+ZVqr7fp/xWR+HJ5lWqvt+n/FZH4cgrMisz5lWqvt+n/FZH4cnmVaq+36f8VkfhyCsyKzPmVaq+36f8VkfhyeZVqr7fp/xWR+HIKzIrM+ZVqr7fp/xWR+HJ5lWqvt+n/FZH4cgrMisz5lWqvt+n/FZH4cnmVaq+36f8VkfhyCsyKzPmVaq+36f8VkfhyeZVqr7fp/xWR+HIKzIrM+ZVqr7fp/xWR+HJ5lWqvt+n/FZH4cgrMisz5lWqvt+n/FZH4cnmVaq+36f8VkfhyCsyKzPmVaq+36f8VkfhyeZVqr7fp/xWR+HIKzIrM+ZVqr7fp/xWR+HJ5lWqvt+n/FZH4cgv+iIgIiICIiAiIgIiICIiAiIgIiICIiAiIgIiICIiAiIgIiICIiAiIgIiICIiAiIgIiICIiAiIgIiICIiAiIgIiICIiAiIgIiICIiAiIgIiICIiAiIgIiICIiAiIgIiICIiAiIgIiICIiAiIgIiICIiAiIgIiICIiAiIgIiICIiAiIgIiICIiAiIgIiICIiAiIgIiICIiAiIgIiICIiAiIgIiICIiAiIgIiivanr2hpzHSZHIOfwNc2KGCJvHYt2JN+VWrx7+lK7Y9+wAa4kgAoJUvzI8NBc4hrWgkkkAADqSSe4KoZ+UNrCWXnx08FVgdIHNoTtuzTNh3G7JrscgbztuL0mx7d3T1KPdq+t8pqjlw5Ex08dGQ84ujPM+K1KDuJLtl7GOna09WxhjQCATxEAqZRgL9Ux8OXmh146xTE/Fn5LtVbUUrBJFJHJG76Mkb2vYfV0c07FQuHte0y/JDEMzdB2QdMK7YGzbh1gu4BXbMByXWC/0OWHcXF6O2/RU40661jIblbF5C5jamQ4fLKtR8TY5S0FvFHJJG6WpI5p4XOgcwkBo36DbCjwlRsLa7YGNiYQ5gbu1zHt7pGytIe2UHrxg8X3qTTom7OecxHDx9+4R6tLWoyyiZ4+Hv3K82uu0HC4IRHL5KrRM2/JZNJ+dlDSA50cTAXuaC4AkDYbhbjEZqpbqR3qtmGenLHzo7McjXQui67v5gOwA2O+/dwnfbZUJlpRyTOsTcdmy4BrrNuWW5Zc0DYNNi098haB6t9lgNvwY6avXc21axU0zpchp6tcuxQWouHrbZSrythL43Ma4seBHLw8J68JWnE6Ou2bU3PxTH5Y3z4RnlGc/JssaRt3bkUZTGfbP85LoVO3HSEszq7NRYrmNJaS+0yKEkHb0LEu0Lx7C1xB9S1OtvlD6XxcghFuTKSiPnTNw0YyLa1cDd09iaJ3JjjA6kcRcBsdtiFr8BjcNboVX06mPmx8kLH1QypAYOU4bt4YyzZhHUEEbggg9d1uaFCCuzl14IYI+v5uGKOKPr3+hGAOq+bXPttTTnHQznE9tWX8Z5ump0VM7db0/tONNapx+SpV8jStwzU7UYkgnDw1rgeha4P2dHI127XMcA5rmkEAghbgOB2IIIPUbesfcq6ZHsQ0pYlkmlw0BfK90j+XNcgZxO+kWxQTtjj327mtAXyDs2u16rsXR1PmqOEduBj4jWfPBGT1r1cpLGbVet024ATsN+vU7z7P2x0fX+LWp84z+XwzP8NNWjL0bsp9+KxjXA9xB2JHQ79R0I/WvqrPovS1jRmWluYWrcv4K/V5V3DwWY32YcgxzTDkYTkJmtka5ocx45gI5pOzg1oZ1bsr7WKWfs3qLaeRxuQx3LdZpZOCOGXlSkhk0RikeySIkbb7jvBG4IJvMDpLDYyiKrVUT4fmjzjsRbtiu1OVUfPsdCREU9pEREBFrNTYWrfgMNuFs8TXc0McXAB7WuDXbsIO4Dj+K5n2AX5qdLEUbUj5Ycri62Sxs0ri5wsPrRzZLHFx6kte42Y9+pZLMO6FB19FzDUGj8a3UGI4arR5SzLWpwHy7STwmlLFI4ce27XyPI9XpFT3Umdq46A2bcnLjDmxtAa+SWWWQ7RwwQxgyTzuPQMYCT7EGyRQp2vpIxzbOCzlWoOrrckFKZsbB3yS1qdyW3HHt1P5rcD6QbsVKY8lFJWFuA+VQuh8oiNYtl8ojLOYzkEHhkLxtw9djuEGYi5VhNZvGay7zi809r6uJDYBVYXwlvzhxOfGZ9mNfxDYjv5bvYp5pzPG4ZAaOQp8sNO92BsIk4uLpHwyO4iOHr3d4QblFh5vKV6VeW1alZBXhbxSSvPotG4AGw6ucXENDQCSXAAEkBRb/h5ORzG6ez7qveLHk9Frizv4xSfdF3h2/R5PH/moJpI8NBc4gNaCSSQAAOpJJ7hstVpvUuOybHyY69UvMjLQ99SxFYYwuBLQ50TiASASvfT+ZrZCvHaqStmgk4uF4DmkOY4sex7HAOjla5rmuY4BzS0ggEKEw52vjsvnDKJHvmdioq1atEZrNmXyOVxZBCzq4hoLi47NaAS4tA3QdFRQyPX7InxtyWMyeIjmeyKK1ebSfUMkh4Y45Z6FuZtVznEAGbgaS4AEk7KZOcACT0A6knoAPafuQfUUKHaCJ9343E5bK1gSBdqMoxVZeEkE1n5C3A60zcHZ8Qcw7dHFb3S2pKuRZIYDIyWB/KtVbEboLVWXhDhHPA/0mEtIcHdWuBBaXDqg3CLT6p1JVxzI3WDI6SeTlVq0Ebp7VqbhLuXXgjBdI4NBcT9FoBLi0AlaF3aDyPzmRxGWxdXcb3bbKMtaIEgB1l2PtzPqs6jd8jWsb+k4IJhftxV4pJ55I4YYY3yzTSvbHFFFG0ufJI9xDWMa0EknoACsPT2fo5GJ01C5WuwskMTpas8diNsoax5jc+JxAeGyMdt37Pb7VsGkOAI2LSNwR1BB7j7CNlB+zd/BY1U4NJDNQPdwMA4jtg8KeFo6AuP/AJoJ0iieiddwZc71qeRZCTKBanrNjqudC7ge1kokIkPFuAW7glruvRSxARQvHdp+InzD8HHNIbzHyxbGJwhfNAx0k0LJfXIxscm/QD824AkhTRAREQEREBERAREQEREBERAREQEREBERBA/lA6znwGnMllKsQltQMijrMc0uYJ7M8VaOR7R9JrDLx7evg29ap9et5C6+OfLZK3lLMZc9jrLwIIHyDaR1WrGBDASOnEG8W3TcDoumfKe7Q7d/MW9LwtZBjcYcdYyT3AOnvWZI4shUgjO/5qowmB7jtxOfBtvwk78yc7YEnfoCTsNz069AO8q70Xhoym5VHl8t8qTSeJnOLdM+fz3QOcANyQAO8k7AftWNcyVeF8ccs0Ub5TtG172tLz3dAfv6frIC6z2AdjDsyamfzfkk+IlrifG4cEWW2DM1pjtZMg8ouY0u/wAn2dwuPpEFhDuz6e7DdK0G5BlbEQhmTiNe02WSew3yclx5MAsSO8lj4nF20XD1DPqN2yu6XiJmKIz8XlrRMzETXOXgqUvim3aN2JZLTNWe9BeGVw1YF8gsN5eUo1gQOMuYOVeijbu5x/NuDQSGnbhUKVjhsVRfpzp+cK/E4auxVlV8pfF+Jw7hcY+DmcJDC8Et368Idw9eHf2L9rytw8xjmcb4+Lb04nBr27EH0XEHbu27u4lb53I8b3Sfks37Ebsti55GSMidWyUHLY6NkflzrEdmJkb3uLWc2sH9/fM89N13FV6+TVLVp2M9bt5CKNjTQosdetV45ByY5rMzjx8G0W9uIA+stf16LtmE1ZirzzFSyeOuSAbmOpeq2ZAPaWQyOIC/Ov2uw+Wk7826Z1c4znLZnlGe3dv3+L6loi5nhbetO3L/AMblEUY7RNcUsJAyWyXSTzlzKdKHZ1m3K0AubE0nZrGggukds1gIJPUA83YsXL9cW7cTNU7IiN8rGuumimaqpyiN7dZ3L1aFeW3cnjrVoG8cs0ruFjG9w+9zidgGgEkkAAkrgOL7YWYjUN/UdbEzuxd+rWr5MTGGLISCpxshvUouPaNvAYw6KYhzgxp9AjpFM/qK/nbbpss0sbVlElKgzd2PrhwPLma/uuWwOJpkeAWnfhawEb635ki8mkqhz+S53FG1/DI2HZzXsjY17S18LXsB4HhwIJad29B9l+y/2MrwdE378/8AJMTGrE7KfCeM5x5R6uL0np+m5XFu3+GJjOePlt4c39BsRfjtV4LUJJiswxTxFwLSY5mNkYS09WnhcOiylzb5NWq8jmtO1L+TEZsvksxNnii5DLcNed8EVoQjpGXhh6N2adtwACAOkq0bRERB+LH0Hf6Lv7iua6KwJyGj8DFHJyLUWKxVqjZ23Na7BVifBLsOro992Pb+lHJI3ucugZyrNNA+KvZNSV3DwziKOcsAcC4cuUcLt27jr3brSdn2l7GKrxVH5F9yrWrQ1asL60EJhjgaGMJkiHFKeBrR6Xs3QRvGZ4ZHKaendHybDK+er3axO7qt2AY+OzAT+k0PBLXdzmOY4dHBbfMNa/U2MbP1ZFislYptcPQNzn0YZpW7/wDTsrylrfXw2Jvv2zHaKgGaZmo5ZI5ORJFNWaByJpXtjjFp3rbPyoooyR9JsUYP0Qs/VunIcjFG2R8sE9eUT1LlZwjs1Jw1zObC8gtO7XOa5jg5j2uc1wIKDdKF9lLWsbmIYf8A2SDOXo6gH0GNLYJbUcfqDGXpLrdh0aWkepfH6dz0o5M+oIm1z6Ln0sS2rkHMPeBbktywxPI3BeyAHru3hICk+BxNejWhqVYxFBAzgjYCXHbclznOcS58jnFznOcSXOc4kkklBHdO/wDOHO/9iwf/APqKYKLag0zadcOQxl9tC3JBHWsNnq+W07UUL5HwGWuJopGzRmaYB7JG9JCCHbDb5isBlDNFNkM06cROLxVoUo8fVkOxA5/HJPYlaN9+EStaSBuD3INP2uCw63p5sIrFpycrmi4ZRVNyOjZfS5piBdxBzZXM/wDeMj9YC2YOpvq4L+3kP5FvdSYSvka0lS0wvik4T6LnRyRyRuEkU0MrCHwzxva17XtILXNBHco63A6gj2jiz9Z8A2DX3MMJ73CPrWILsMD37fpGH1dQUHtoPB3qtnJ2LhpNF+WvYENHn8tthkJgsTu5zRs+RkdbfbvMRJ6nrrdLV6x1VqCU7G2yniI277cTK8kc7n8s+x8kbOLb+qj39W8l03gpKjZjJfuXbFgh0li09hDS1pDG160TWwV4xxE8LGAnf0i49VG4OzqUTz335Wc5WQxcrIR1q0Lo44o+W6tJA1vLs1ZAGF0bh3sa4FrmtcAmOoataepZhuBjqkkEzLIk24OQ6Nwl49+gbw79VzPIWrL9DUH23PEk9HBMyL3Etk8isWKEWTkkPQtPkclguPq9I+pSGxo7I3wIczlorVHcGSlQx5x0dwA78q7JJbnklrnpxRsMYdts7iaS0zO1VilifBJGx8MkbopIntDo3xvaWOjcw9CwtJG3sKD9wRNY1rGNaxjGhrGMAa1rWgBrWtHQNAAAAUOyrWM1NjXQ9Jp8Tkm3Gt/Tq156Lqsku3rZNNK1hP2iYD1rzr6Uy9Nor4zNRx02DhhhyeOdkpq0f6MUNqO5A98TR0bzhI4AAFx2W40npdlF89mWea7ft8As3rHAJHsj35UEMcYEdaqzieWxsAG73OJc5xcQ1WNax+p75m6zV8PjhSa7uZXsWb5uSRb/AKT5YK7XkeqGHf1bzOaNr2uY9ocxwLXNcA5rmuGxa5p6EEEjYrQ6s0uy86CxHPNSv1OPyW9X4DJG2TbmwSxyAx2Kr+FnFG8Ebsa4cLmtcNPY0rmLjTXyWbjfTeOGaLGY52NnsRn6UUtt9yd8cbh0dyRG7YnZw3QevYo8nC12gl0MVjIwU3E78WPr5K3DjiCfpM8kjg4T628J9agNrHZCxa1EY2eVYmHUIkyWNrufHfyTDhsSJYo5OjTBGwQvMAINj85GXNGzZOy+QCOr5NVLajWQcmuY42FtcNZwRFkRHAWs2bs09PR2Wp0Ppp+ObeMtt92e/eN6eZ8McH5w1alQNbHF6IaGVGH9big2Omr9S1Urz0XxvqPjbyDE3gY1jRwCMR7AxFnDwlhALS0ggEbLYqEY3RFqtkbV2tl5YYblltixQZTq+TvIfu7bpuyZ7NmOlbs5/C0u3IBU3QR+ppLEx5GTJR06zck8EvsBo53pt4HP4d9mvc3oXgAkEgk7lSBcvw3ZE2tqabUfzjM/mPsSCoYtncViF0Jjls8082swO3bHwDbgi6+h16ggIiICIiAiIgIiICIiAiIgIiICIiAiIgpT245mrkNXZWel6cVSvUxdmYAcEt+o+w6w1h73coSsiJ7t2HboNzFpX8LXO2J4QXbNG7jsN9mj1notrr7G1qeo9R1aUhkrNyZsddvzVq5BFau1muH0mxzSO29nFw/o7nWLqsBGVinL3tcvj5/56s/exYr5EdB8OmeY67WssvX7F+GtVnE7MXFZbEfIHn/o5mvbI9zNhs6V3r3J7mqL9lmonabzXztBXlsQWa0tXJUq8kcTrG+0layxsz2wunjlYAS4g8E0mx33DunWPlQ2ZK19jNOXKl3kSjFvdYrXaz7JaWxG7wujNeMOIcdi4ENI3B23oL+DvUVzGUz4xC9sYu1XRE5xHhMtx8s7VtyvWxuCrRAQ591uO/acC7l06QglmrR7dGyTtk4eM9zQ4Abu3bwVel/NZfIuhsZvJSZK1DG6OImKCvBXbK5r5WwwVo2M43FrQZHDicI2DoBsvJXmjsNVZt/Fvn3Cl0hiabtfw7o9yIiKer2tzeDr22Stkih5kkT4mzmGN8sfE0tDmucN9xvv3hfMtjY3QksrRvnjAdAWbQSMmG3BJHO3Z8LmnZ3E07jbpuVs0WuqzRVnnG/ZLbTerpyyncmWju2DK0a3k2TpOzEsbAK96rNBWfMQ0AMvRTkcDgd/zsfFxDqW8W+8EztvJ5C+MpcmhdYeBA+qAfJqtPjLmw038PMa8b8Ti7cSO3326EZKKkwP2Z0dg79WIs0ZVT47uOXDNYYjTOKv24t1zs/fzERFfqp2P5IWub/l1jS04FijSxzb2NsBu0lKuLDYDQsPHSVu8gMZPpBsbgS4bBtmlUz5JeVsw6nv0Y4Wy1L2JitWphGOZVmpzuhq7z7j8zI2eccsgnibxN2Ak3tmuRxVEUXaqY4uuwtc1WqZngIiKO3iIiAiIgItdYz1GOw2pJdqMtP4Qys+xC2w8v8AoBsLncbt/VsOq2KAiIgIiICIiAiIgIiICIiAiIgIiICIiAiIgIiICIiAiIgIiICIiAiIgIiICIiCjna1gY8VqzOVIHmSG4+LNniHpQWMk6R1mFz9/wA40yRl7e7Zr+HrtudKukdvfZ5qeXVWRyVLEPydG9Xx0VWStaqRGI1oOXLFYZYla5h5pldxbcPC9nXffbDb2F6xMLJeRg2vdsXVHZK0Z499vRdIykYXO79+FxHd1PqvsHjrNuzTTXO358VFjMFduXZqpjZ8uCBouq6V+TvnrAmfk8jQxvouFaClE/IvL9vRfZmmMTeWD+hG3cj9Jq0f5Bdac10IOn+AOO1x9m62N7N+h8mZCZGyEbdN9t9xvt1UjrTD5755NHVl/Ls5oMimtnsT1nC50fkOKtkbcNmvkjDA7f1uiswiVhA7x1+4nvXvY7ANZxhr2y6ds8Q9KJk9+ExOPdwySVyJWD1nZp+5e9Z4fj6e/wCWMaNv8PVA0XS8j8nPVDa1Z9bKYSW49rvLa9mK5DUgdt6HkliFj5ZwO48xjd+8bdyg/aroXL6UnqG892SxluKFsuThrtijp5CSR0bqro2dRAfzZY5/pHjd1JaQPKdJ2Kqoja9q0ZfpiZ2NYi+r4rBXiIiAi/Ie3iLdxxABxbuOINJIBI79twev3FeTLbDM+Dc8xkbJSCOhZI6RjSD6/Sjdv+xeZw9iJelPL5TH5DHWcHJO3Ky3a1WGrE53JyTHyEvp3Yh6MlYMdK/icPzZ3cC0+kP6ABUT7Psy/G6n05bjhbYdLf8Amp0JJD+VlQyvJYhOx2khDQ8+ot4gS3fiF7AuZ0n/AN87ODpdG/8ARG3iIiKAnob2v6Vs5fHiCrk58XJFMLDpYOZ+eZHFK0wSCKWN3AS9rvpbbxtOx26Vx7JtJZLPUbd92pbeOhpylkpnmtSsDGwMndK+U3I2xsa1/Xf6pO6t1f8A6KX/AKt/+qVSjs7wGft4HKS420xmNiDxfoh8vPtFtaN7xFEyu8SExcI242k8O36w3nalpLIYbF18pDqizk61qcQRyVp7TItnRTyCVs7bkjXjeEt2HrPf02VqX5SGjjm27sohhgqxPnlk4jwAMaCXAAuLtztsASSVDPk349zdLY2KzCQeK5KI5o+vC/IWZYX8Dx03aWOB9hBXQspQgtQyV7MUc8EzSyWKVofHIw97XNd0IQcOs5nRWT1BSyoy1t2SE9SKtCyvZZXfK1/Kga4SUtxxOkAJLwOvqXelWXtp0rjsVqHSjMfUiqNmvV3SiIEB7mZGkGF25PcHO/FWaQRjWuvsRhnRMyVxtd84c6JnKnme5rCA53DBG4tbudtztv19i18vaxp9tEZE5FgqvkkhjJinbNLJFw8xsVZ0Ymk4eNu5DdhxDchO2TTOPu4u9Yt1IZ56ePvSVpns/OQuFd7wWPHUDiY07d27QuI/Js7J6OVg+dsiTYijnfBBS9JsRdFwudJYcDvI3d/SMbN6Hi4t+EB3jQfaNiM2ZGY+0JJom8b4JI5IJwzcN5gjlaC+PdzQXN3ALgDsSFk6311isK1jsjcjgdICY4gHyzyAdC5kETXSFgPQu22G46rH092c4bH335KlSjrWXwmA8lz2QNY4tL+XXDuVG53AzctaPo/e7fjHbzonKN1AM3HjPnyg5kG9ThklEfJh5RglghPNMXHvMC0ObxPdxDbcODoVbt80y9rz5ZMwsY54bJTtAycI34YyIy0vPqBIJUwyetMZWx0OWntNioWI4JIZ3MlPMbZaHwhsTWGQuc078PDuNjvtsVWDU+ptP24m1clpebT85LTHbx8UbJmcJG5dWmhg58WxIc08RAO7fS2VlMBp/E3MHj6IbHksY2nUZXdO0P50cMTGwzOGw4JfRBOwaQSRsO5Bw7sq7U6NXP6ht5DJTCjdmkdSL2W5mOa21LyOCFkbnQ7QOaAC1vQAerZdt0j2m4PLWPJKF5s1jgdIIjBZhc5jNuItM8TQ4jcHYHfbr6lw/sZ0Zi7updS07VKGatTnstrQvDuCFrL8sTQzY79GNDevqC73prQWGxsxsUcdWrTlhj5rGfnAxxBc1rnEloOw3279kElREQEREBERAREQEREBERAREQEREBEXlbsMijfLI4MjjY6SR7js1jGAuc5x9QABP7EHqiqpqz5SGUksSfNkFWvTDiITYifNZkYDsJJDzGsjLhseANPDvtxO71pT8oTUn9bSH6qY/wDN6C4qKnB+UDqX+vqeDZ/MvnnAal+0VfBxfxQXIUK7Se1LCaedXjydsxz2+I160EE9qzI1n05BBXY5zYx19JwAOx232O1az2/6m+01h94pxbj7xv0UTo69ycd+zlHSx2Mlaa2OS7ZgilmZAwDhrV9gG1a244uXEGgk7nc9VqvTciiZtxEz2RM5Rzyn9mVOWe1Y/OdusdiHlabxeSy+QlAEQsUbeMx9fi23luXL0cYEbQSeFm5eQGgjfiGtwnaPrOiXtzOAp5VrwHwT6esiEQu23dBYgyMvG/qekjenTrvvuONntizv9dX8NGn5Yc5/XV/CxqmuV6amuJoptRHCZqnP5xEJMU4XLKZqz45R/buA7TtXSl0kOkakEQPoRXc/A21K3YHfatXkjiJO42c71LE1BqfWuV5bKNelpSNgJmnty1s1cnk3HDHBFADXir7cW7nnjJLdg3Y78a/LDnP66v4WNPyw5z+ur+FjUev/ACCqJiOijxjW2c845xLOPucd70Z/bTqvWInrYO1nIRDJWbdtWsXVfi7c0XOkhbAJ2yvPV8e7hHwDYgHiB2Wk01r7V+NiFetqSSaszpCzI0a9+eNvU8JtSkSyd+3pHYAAAALTar1Vcyk8Fm26N01aKaCN0cbYxyp3xPe14b9P0omEb93X2rW+XSe0f2Qur0XVRThqacZGdz8007vDLd2eCmxlF+bszYnKnsif/JSOxrPV8k7bbtVXhZjcHRsir14qAbv9CTHsAinG3T09/V3raau7TNXZNjYZM42hAWlsoxNIUp5en0vKnzySwu/6stHU9FCPLpPaP7ITy6T2j+yFY9LgO7Pv5ovR4/vR7+TYYq5m6LxNjtSZuvL3nn3HXq8jj3vlq2d45HH2kfgsq9qXVdiWO1NqzKeVwua6EwCKrSBad/z2PgAgsAjoQ8bHfY7jotL5dJ7R/ZCeXSe0f2QvZvYCZz1J9/N5FnHRGWtHv5JjqztC1Zk5I3y5+WgyFjOCHD1/IGOlb3zTudLJJPxethdwexrfXE9QPzeWuU7Obzc2Ujo7mvXfBHBEx4a4NkEUBEXOBIJk4S88DQT0G3l5dJ7R/ZCeXSe0f2QlN7ARMTFM7PfEqs46YmJqjb74Nsi1Pl0ntH9kJ5dJ7R/ZCmdbWPH380Pqq94e/k2y8L9tsLWucHvc+SOGKKJjpJZppXBkUMUbRu+RziAAFgeXSe0f2QvTG5SWvbrXWcBnpukfX5jA+NkkjDGZDGfRdIGk8JPVvEdlqv6Xpi3V0UZ1ZfDE7Iz7M9+xstaJr14152duW/8AZIcZ2caiu2G2IcYMf+ZMLpctZiiYWuka8f5LUMs73tLXbb8A9N3t6TLG9gcsjxNkM1K2Tl8ssxVWOsAzi4+HnWzM53pevhb3qO/lgzn9dX8LGvv5YM5/XV/Cxr5/jb32mxGeVyiiOFOf7zTMumsYbRtr8sz57f5TrsW0tisPrqTHubZt2Tg4shi7d6c2ZKzudbq5FsRIDYpJWGHq1o2bC8dA7Y2jVEMb2iZOvlX5tjq5yL6baHOfXY9sdVshl5cTO5hc87kjqVKPOB1L/X1PBx/xVzg6b1NmiL861cRGtO/OWq5qa06kZR2QuOiqbpr5R2YhnYb8NW3VJAlbFEYLAbv1dC8PLC4Dc8Lm7Hbbdu+4tTir0VqCGzA8SQWIo54ZB3PilYJI3j7i1wP7VJYIv2uvzooD/g/FBNbdM1szJjED5KY5Q8w86RkXN4+V9M7cPH69lwbs/wBNdoGChkr47GMjimlErxLPiJTxhjI9w51zcDhY3orVIg12mHXDSqnINibeMERttg35IscA5oj3J9Hi39Z/WVH+1qbPspRu09FBNb8obzmTGIO8n5cnEYefIyLmczlfSPdxbdVMSiCqeq9Ma/ylqjdt4tjp8dI2Wq5k+Ija17ZYpgXtFzZ444mdD7D7V03sxua6fkYm5upVhx3DJznl1Hmb8t3K5Pkdh7uPmcG/ENuEu9ey680gjcdQeoI7ivqDkPbhHrCaWSrhatexjLNJ0E2z6jJ+OYSRztebc7OEcDm8JYD691zvRGG7Q8NV8joYyNkHMfLtJNh5XccnDxHidc329EdFaJEGg7P35R2OruzLIY8iQ/yhlcgxj86/lA8LnN5nK5fFwkt4uLbouJal0prHH6hyuaw8DZ2WpWjYzVnts1uBhYySvNK135osDRsWuH6O4c5WMRBWjVMWvdSQfNtvFU6lZ8kb5ZeBldrTG8PY5z5rU0oAcB/Qt4iNx1BIPduzfTfzPiqWO5nONWItfLtwh8j3vllLW7+izjkdsD3DZSFEFds9pPVGAzuRyuCqwZGvk3yyPbIGv4DNLz3Ryw86KXibIX8Lo3EcJ67HosiuO0bLzRCXkYKu17XPljbCwEA7n80ZZrEhH1CWsdvsT7LAogN7kREBERAREQEREBERAREQEREBERAWt1TjfLaN2nxcHldSxWD+/gM8L4uLYd+3Fv8AsWyRB/PDUOIs46zLTuxOr2YTwvjf036kB8ZPSSJ2xLXjo4dQsDjHtH4hf0WuUYZgBNDFKB3CWNkgG/ftxg7LDOnMf9gpeFg/kQfz14x7R+IX3iHtCvpqyLCYqjZyN6rRgqU4nTTymnE7hY31BrYy57ySAGjqS4Ad64/2fY2HIXMrnpMScfXy/kDaWPuRwGVlWnXLG2312AsqSzmXcxgkgQtJJ4lW6V0nbwFibte3sinPKZ8vLe34exVer1Y5q1cQ9oTiHtCuT8yUvsdTw0P8ifMlL7HU8ND/ACLlv85t/wCmf1f0sOqau96KbcQ9oTiHtCuT8yUvsdTw0P8AInzJS+x1PDQ/yJ/nNv8A0z+r+jqmrveim3EPaE4h7Qrk/MlL7HU8ND/InzJS+x1PDQ/yJ/nNv/TP6v6Oqau96Kbgj2orPdrGGqOwmZigr1W2nYq+6BscUDJ+YyrK5pj2AcCCB1Hcqz4zFtc2Kbyu3M1zY5Wh74msILQ4AthiZxNO/cV1v2cxvXFFdVFOrqzEZTOe/t7FPpKYwUxFU555+jxRb7lt+q38AnLb9Vv4BdP1PV3vRUdb0931aFFvuW36rfwCctv1W/gE6nq73odb0931aFFvuW36rfwCctv1W/gE6nq73odb0931aFFvuW36rfwCwL9sQ2K8b2xthmZODI8bbTRiN8bA4nYbs556/wBX+PlWiZpjOa/Ti9p0rFU5RT68PkwEJC2mncDczVthwsbpGcDoLN2RhGKhG4c2UzO2E9iMl2zIQ4u4tncIG4s1o/Q+PxtKCkyCOfkt9OxZjjlnnlcS+WaV7wTxOeXHYdGjYDYALjtPacwujKotxPSVdtNM7o4zO3b4L3AYe7iqdaY1Y8fcKocQ9oTiHtCuL8yUvsdTw0P8ifMlL7HU8ND/ACLnv84t/wCmf1f0seqau96Kdgr5xj2j8Qu4ds+nnZi/jdOYWnHDlOOHLS5JkbIIMXQimdCZ5CwDypz5AWiHruWA7dxFmW6bx/2Cl4WD+RdXo3HTjLFN7UmnPdE7dnH5q6/a6Ouac88lAcPj57k8dWpE+xYmcGxwxDie4n19PotHeXHYAAkkAK++gMK7HYrH0XuD5KlOvBI9v0XSRxtbIW79eDi4tvu2WzpUIINxDDFCD3iKNke/6+ADdZKntIuXay7d8BjJpK5ksXZonFkraMUcjY3tOzmGaaSOJzgQQQ1x2II7xsunTt3a4blu7SOJp2LdwRuD6iFUzTOlNQaamldXwWPz9WQtEdwV23uOOPiAdWdFIZa3F+k1zHDdvedtyHZdN9u2Cv2KVSDy1s92bkNZJXDRC8j82ZniQt4Xu9Acsv69+w6ry+UNr/H0KF7FSTStv3sdNyGRxSEBswkhYXygcLA5zJB379D9y5hprUGDuaixsmUwtnT2Rhnj5Ta/DDTsWHP2rG9WlrMliPM2DXs7yQHktHTsnb5hac+CylmapWmsVqFh1eeWCKSaAhpIMMrml0Z36+iQg5l2I9seGxODqUL0tkWIHWeIMrySsayS1NLE1r29Ngx7enq7l2zQOtMfnK8lnHyPkjimMEgkifE9koYyThLXjr6MjDuNx1/WuafJx0biLmnadi3i8danfLdD5rFKvNK4MuzsYHSSMLiA1rQNz0AC7BhsTVpRcmnWgqwhxdyq0McEfEdt3cEbQNzsOv3BBg6y1Zj8PX8pyNlleMnhYCHOklftvwQxMBfK7brs0dB1Ow6rm1P5SGnnzcpzMjCzfbyiStE6Lb28MM75tv8A4Fy3tryUlrWcsNihYy0GPEEUGMrmVr5YzSitv/oY3v4TLKXuLW9WMaCdhut/ktYixXNWXs3scgt4Q2OpZiLBttvE+PGB0Tx6nNIIQd/fqegMe/KizHJj4677LrMW8rOTG1znkBgLnOHC4cIHFuNtt+ig9Dt601KZB5XNEI4nSl01aVgcGua3gjGxdJKS8bMaCSA49wKhHyUqeQhflsfdoXoMdPGyeKLIVJmRcTnOhmj3niayVz4nRBwA2PJB2G5UcxuksXZ1/cx08EMdGJzpIaUbWw15ZY6laRtflsAHB6UspaPpcs77gkEOkY/5RunpZuU8ZCBm+wsTVmGE/wCdwwTPmDf1sC61jrsNmKOevIyaGVjZIpYnB8cjHDdrmOadiCo5qTQODtVJK9jH0o4RG7aSOCGu+uA0/nYpmNBhLR13B26ddxuFzH5G1+V1HJ1S8yVq1uN1Z5323nY8ytYD9FpMbJOH2zOPrQS/XXbbgsRPJWkknt2YncM0NKNkpieOhY+WWRkQeD0LQ7cEbEArAwvygMDbkqwsF5k1u1DVbHJWYDE6d3AyWV7JXR8rjLWngc5wLweHbcjlNbR2dwGRt26eIo6iqzyycq0+Jl88PNkcTG2OUS17W7tnnhc0kdN9t19bqTDXMzjXZzA2dPW69qGVstUCvDO9srHQ/OFaasyTycSMH5xhJAJ3PDuQFrkREBERAREQEREBERAREQEREBERAREQcC+Uv2lZXD5CnUxtptcPpmxMDBXmLi+Z8cfWeN3CAIX923euU/l01T7yb4Kh/gLa/K5l4tRgf1eNqMH/AItqT/6hXIEHScj2pXMri89S1DkGvoSYS6Y2CtUje/INfB83NiEUbXSS+UGPZm+x6k7AEjGb2xZk06VflSULtWPk25nirbivhscLIrMbzFtHKXxzufGGjh5jO8EBvO72INmtbmE0MJxkAyg554Y5zVsV2Crxk7MfIZg1p67u4R+luNlk3hzYngEBzS4A9CA4NIBHqPVY3dF4XF25uXqdabc50xO74tk5x2/XJrnF3bVymijZFWec9uzbCVflYz/21vhKf+Cn5WM/9tb4Sn/gqDooPVGA/wBNH6Y+iV95vd6eacflYz/21vhKf+CtlpbtPzc96lBLca6Ka3Wikb5NVbxRyTMY9vE2IFu7Seo6rmq/cTpWuaYJXQTAgwzNALoZQd45Wg/pNds4fqWFehsFXTNNNqiJnZHwxvnd2PYxVynbNU81je2TtDgxsLqlW4xuXeY3xwsY2w+GISNdJJYaWuZXY6MODTJtxFw4d1xbUGv8zei5E+QsMjP0vJSKT3fc6WmGSFv3cWx3O+6idWk0cZmqcu1E4vdba50jbRmO0kpsOPMle4jdzZdyDwnrsCvVYYP7M4bR1FNFURXV+KappjPPdlGcZxEZfyxnSVeJzqjOI3ZZ/TzYbsXBxcYZy5d3HnxPfFZPHG6KQOsxuEr2uY97SC4ghx33WyisvY1rGkNa1oa1oa0BrWjYADboAAvFFdUXa6NtM5eSNVaoq/FET5sny2X637m/wW0Y48APr4Af28O60a3Uf9GP+rH+qrfRl2uua9aZnZxVOkrVFEUasRG1rPLZfrfub/BffLZfrfub/BYyKr+9Xu9PNZ/dbPdjkyfLZfrfub/BPLZPrfub/BYyJ96vd6eZ92s92OTb0rG7QXuG5J23IG+3sC0sNSKOZ0r4orT+Nzv8tjbdi33OxFe1xxNAB2ADdgO5etuOqYo3WanlWz3tYBUNpzN9iegYSwHhHXoOgX4YGAARxmJm3oRlnLMbfUwx/obD1epTcdVNdiiKtu7Pbt3dqFg6Ipv15R6bN/Ym0PannGNaxluNjGgNaxlOm1rQO4Na2HZo+4L9/lXz321vhan+EoOi5udE4Gf/AJUfpj6Lr7zd70803/KvnvtrfC1P8JdJ7CtX5DKS3m3pxMIY67owIYYuEyOmDj+aY3ffgb3+xV/XU+wLNVcezM3Ls8darBBTdLNKdmtBkna0e1z3OIaGjckuAAJKp9PaLw1OBuTatUxVsyypjPbVEbMozSsHiLk3Y1qpy2758Gv1tr+1Bqi5fx3FStY6J+CErgyUzQse21M50ErSxrHSyDh3BJbExwPpbD3/AC6ap95N8FQ/wFDNa5Hy7JXck2lapV8jLHYqC3E6GW1Xjrw1G3RG7q2OR9aTb/R/WtQrvR1nosLboyyypjOOE5bfVEvVa1dU+MrLfJw7UMxlsvLTyVps8XkE00TRXrQlssc1du/FDG0n0JH9CrDqmnyWZ+DU1Rv9bXuR/hA6X/6SuWprU1Wr8a+5j79SJ4jktU7NeN7t+Fj54Hxtc7h68ILgeir5pXRuv9PwiDHGpPXeTIazZ68sUUjvpcPlgicwk9SIzwkknv3VmEQV4xXZjqbN5OnkNTTwww0pI3sgjMDpXNjlbMIWNrDlxxuc0cT3Pc7boB3Edy1fhWZGhcoSPMbLlaauZGjd0fNYWh4afpFpIO3r2W1RBW3T+nO0DBQnHY5lSzTY+R0MjX03NbzHF7izyl7JGbuJcWuBALjsSpv2U6S1RHkTlM9l3PaYXxDHRSl8Di/bhdJFG1laFzCNwY2ucem7gNwetog5H20dlM+StQ5jD2RSy9cNHEXOjZOI9+W4SsBMUzQS3cghzSGnYDdRjndp/DyeVW3HTyn/AIp4j/nf0nD/APs/YrBog5z2O6e1HUdZnz+UbcM7YxFVYeY2BzXOLpOYI2NY4ggcDG8PTfc7BcYzmjznNc5umy1JSmjj8rr2YwXGOeCHHNYSGua7b847q1wIIaQemxs7qSrYnp2oaljyW1LXljr2eAP5Ez2FscvAfpcLiD+xV7r9h+qo7cl+PO1mXZmlstts9xs8jSGAtfIIdyNo4+n+Y32IMy72R6xvN8kv6jjdQOzX7T25nSM/97ByoxP6jwvkI3Heuu6M0NVw+KfjKRcONkpksP25stiWPgdPJw7dejQAO4MaB3LaaLoW6tCrXv2vLbcUfDPa4eHmv3J327zsCG7nqeHc9StugrFpHQWvNOxGPGOpywyuL5Ksc8EsQkADOZw3GR8Di1jesbuoDd+7pny9meqtR3KsupZoK1Os4kRRmu6Xge5hlZAyru0OkEbQXyPJbsCAdtlY5EABERAREQEREBERAREQEREBERAREQEREHBu2zsXyecyz79WzRjidXgiDLD7DZA6IO4jtHC5ux4vaoR5tOb+2Yr/AMW3/wClXTe2vtjs6eyMVKPHxWmS047IlfYfEeJ808To+BsbhsOS077/AKf3KDec9b9z1vGS/wCAg5T219ldnBx45t67jpZbmQriClXfPJPPHBI2SzIWSQtaK8cfVzidtywetau/XMnDsQNt+/f17ewfctn2o6zkz2Yhy8sDa7oMa3HR1myuljG1maw+wHOaNpHc1rCNu6MdT3DSfOJ+qPx/3KzwlzDxaqouTv8A4VmLt4iq7TXbjd/L8/Nz/a38T/BPm5/tb+J/gvSG+XOaOEdSB3+3osq3LwNLtt+o6frKlUYbBV0zXGeUb96NXicZRVFE5ZzuYDse/Y9Wn7tz1+7qF+WY+VzQeLlOLe8cLnxkjvHRzHOaf1jcetevzkfqD8f9yfOR+oPx/wBy0xGj4nPOfX6N0zj5jLKPT6sy3EXsLR3nbv8AuIPqWD83P9rfxP8ABfr5yP1B+P8AuT5yP1B+P+5br97BXqtaqZ9WmxZxtmnVoiPT6vz83P8Aa38T/BPm5/tb+J/gtiX+jxf5vFt+zdYHzkfqD8f9yXsNgrWWvnt3byzicZdz1ctm/c/Pzc/2t/E/wWwazZgb6w0D7u7Zam1dmeyRrHtic4EMkDOIx7/pbOds9wHt6b+r1LEuskDiKlq1BCYms5dmSK/I2QN2fK2w+Jj93H0uE7gEn1bba7WKwliZ1Imc9/uWdzDYu9Ea8xs3e4bH5uf7W/if4J83P9rfxP8ABYORZ0iFGW1T2riKxzrJyHlE477g8oYDXmduSWxkM6DZreu9guzjsWwmodOU7MQv4q+DNEb8GRs2pppIJHROltMsuMM4kczjLQxobuWtLQok14TuzzS9TF96OThfzc/2t/f/AAT5uf7W/v8A4LY18fVxGRyFbLwO1I6pZnqReU2ZcfTHIe+F03kNTcPkdtv6b3cPTbqOJRl8VjZzI7liOIGQwtHJkljDnbxMknmjc6djB06hpdt1IXsXMHntpq5vJoxeWyqnk3bubDD+bi58nF0YJGxj0j3l7+5o7zsCfYCtxoDQ93NttyRSVYH1LDYJ2TSSn85JBFZDonRxHjj4ZgNyGndp6KH1pLrGkG2JemwdJWj4h945ZaCf1g963Wi9UZXDi4KVxn+XOikmfZqxTyNmjhZDxxcBYxo4W9Gua4AcI67EmLpq/cu4WKMHOVcZZa27Lt4znkz0fh5t3prv5TE555b8/wBsk8/IflPtOP8A/Es/+nX38h+U+04//wASz/6dZ3ZHHrDURvMq6lirNreTcx9vFUrErW2ROOODkRRt4mmBx2eNvTHXp103blishgr8dOtqPUctt1SGzLclyX+TvdM6aORjMYyIQwsHK3bwu3bxesjdctRY07Oetdtxwypmf4hdTXhOymrm1OrNDMxQPzhm8JVeGF4hktyCw9oG/wCbr8nmPJ6bbD1hTjsE7HL2QOCz9izFXxfOhy7aJa6S1ZfAJPm8zAjlRR7yulBDnnZzegPVsY7P+0DG4eqIGaaoXZ3njtZHITi1fuzEkulsTy1i49SSGj0W7nYdSTPW/KctgADDVQANgBckAAHQAAQdArvDWrtNP/LXrT5REfKESuqmZ+GMvVL+3nsgyOfyUN2pYpRRR0YqxbZfO2QvZPZlLgIoXjg2mb699wei595tOb+2Yr/xbf8A6VbTznrfuet4yX/ATznrfuet4yX/AAFJYNx2Q9h+Vw+Zp5GzZx8kNfyjjZBJYdK7nVZoG8Ikga3o6RpO5HQFWEXFexvtps5/J+QPx0NZgrTWHSssvlcBE6NgHA6No6ulb13XakBERAREQEREBERAREQEREBERAREQEREBERAREQEREBERAREQEREBERBWD5aNbhu4ibYfnatuMH1nkTQOIP6vKB/aK4Cre/Kn0hcyuPpOoVn2rNa71jj4ePkTxPY9w4iOgkbX39g3J6AkV5/JJqX3Pa/tV/8VBCEUl1NoLM4ys63fx81Wsx8UbppHQlofPKyGJuzJC4l0j2N6D1+zcrQ+SSfUP7lnTbrq/DEz5MKrlFP4piPN+av9Iz/AEm/3rZZP+jP6x/esKvWkD2EtIAcCe72rPyDC5hAG53HT9qt8JbrjD3ImJ9wqcXconEW5iY9y0yL38lk+of3J5LJ9Q/uVV0F3uzyladPa70c4eCL38lk+of3L55LJ9Q/uToLvdnlJ09rvRzhtj/Rn/q//wCq0a3haeDb18G2338K1Pksn1D+5Wuk7ddWpqxM7OCr0Zcop185iNrxRe/ksn1D+5PJZPqH9yqugu92eUrTp7XejnDwXUOzXtlzWFo/N9XHYy1WYZnV5Z7VmvMyWV7pHusNZE9ssYe/o1nAdh379VzbyWT6h/ctlQYWsAI2O56ftUvB4ObleVyJiMvJExmMi3RnbmJnPzYGXv2Ldie1b5XlVmaSezyA5sPPmeZJeSH+kIuNztt+u226xVlWK0he4hpILiR3e1fjyWT6h/co1eHuRVMRTPKUmjEW5piZqjnDwRe/ksn1D+5PJZPqH9yx6C73Z5Sy6e13o5wm/Y/2m29Nm66ri4smLgriRr7/AJCYTXM/AWk15RIHc9+49HbgHfv01nanraxn74v2aLMdIK0VYV2W/LAWRPleJDNyY9iTK4cPD04Ad+vTT4uJzePiBG/Dt+zf+K88jA9z92tJHCB0/aptWByw8VxE63Dn2ZIdONzvzRMxq8eXawEXv5LJ9Q/uTyWT6h/coXQXe7PKUzp7XejnDwRSHSeistlq/leNoy3K4lkhMkTodmzRHhkie17w9jwdujgOhB7iCtt+STUvue1/ar/4q1NroPyMqHHk8lZ26QUY4d/YbU4eOvt2qOVpVx75LOjbmJoXnZCs+rZs3GgRyFhca8EDOW/0HEDeSWwNvu+9dhQEXxxA6kgD2novzzmfXb/aCD9ovwJWnoHNJ9m4X7QEREBFoodX41944xtphvAvBr8MgdvGzmP2cW8J2b16Fb1AREQEREBEWizWr8bSsw07VpkNmwYRDE5shMhnl5EIDmtLQXSeiNz3oN6iIgItFjtX42xdkx8Npj7sQlMkHDI1zRA9scp3c0NcGue0HYn6QW9QEREBEWu1DnKuPh8ouTCCHjbHxlr3Djdvwt2jaT12Pq9SDYosTDZOC5XitVZGzV52B8Urd+F7D3OHEAduiy0BERAREQEREBERB8edgTsTsCdhtudvUN/WuLv+UlggSDVywIJBBr1QQR0II8q6EFdpVJPlDaZ+bNQXWtbwwXHeX1+/bhslxmb7Bw2BONh3N4Pag6trzWuH1tjb2Irm9Rs16z8vXt2YoGwQTYxzJmOl4J3cUZJ4SCPoucehAVeKOSD69adzS02IIpuFvUNMkbHlu523249v2Lo3yV6kVjOzQTMEkM+Jvwyxu+jJFI6uyRjvuLXEftXL8lRZSt5PHRSOlr4vMZLG1Xv35nk9SVrI45CQOJ7OsfFsAeX06bFTcJiarNNerwj9/pKFisNTdqoz4z+39M35xZ7HfgP4p84s9jvwH8Vq0WzrTEeHJh1ZY8ebafOLPY78B/Ffpl9hIGzupA7h6zt7VqV6V/ps/wBJv94WVGk781RGzkxr0bYimZ2825nlDGlx32G3d39Tssb5xZ7HfgP4r0yf9G79Y/1gtOpmPxt2zcimnhmiYDB2r1uaquLafOLPY78B/FPnFnsd+A/itWig9aYjw5JvVljx5tp84s9jvwH8VkRTNewPb1aQSP2dCOv3ghaNdl012K0vII7du9ftNfUNyOo18dSsx80RscLzVa2edrXPI2dJsfWComL+1NvARFWJz+LZTERvkjQfTbLWzLfnPY5cMiz2O/d/FfiPJDd3EwgB2zCDxFzeEHicCBwu4i4bDfoAd+uw1rD0H6gvql9aYjjHI6sw/CebYvyQ4m7MJad+Mk7Ob09HhaAQ/c+0jb71+/nFnsd+A/itWidaYjjHI6sw/CebewTB7eIbgb7dfu/UvCS8xpLSHbg7er+KYv8Ao/2u/vWut/0j/wDSP96sMRjLlFiiuN87+SBh8Jbrv10TujdzZ/ziz2O/AfxT5xZ7HfgP4rVoq/rTEeHJP6ssePNtPnFnsd+A/ivHJZZsVeeZrdzEziAeQ1pcTwt4nA+izcjc+obrBWRhsRZyt2rg6ZgZYzDpqzZ7XFyIIoq8s9h7mtBMknKY/gb63bdVlRpS9n8U7NvZ4bPVhXoy1EfDHDt8dvoshojUGP7P6ceJyTrN6/kC/N256EUT6YluuMIhrOmmY90MbKrGBzhu4N4vR4uBu6d8pbAgEmtldgNz+Yq+r/8ANLkPylMK3G3cNjmyPmbQ05jaTZpNhJK2rJbgEjwOnG4R7n7yVoOxDTPztnaNZzeKGOTyy0O8eT1S17g4fVfIYov/AMZVszMznKyiMoyheOnNzI45Cx8Zexr+XIAHs4mh3A8NJAeN9jsT1BXqiLx6w83iq16B9W5XhtV5OHmQTxtlifwOD28THgg7Oa0j72hcr7L+zvT89K1LZw+MldHls3EHy04HFsNfK24ombub0jZGxrQPUGhdgXI9BaOju1MhMbuUhfJmM+zl1sncrVgRlbrARBC8MG+wJ6dSST3oM2Ts/wAQ92CyWBxuNja2/VvOt1IYIS/HvqWCHska0GRjjLAeEd/Q+pSXWmvKeHlgZejtRwzkMbdbCH1Gylk0ggc8P4zMWwPIY1pJ3aBuTsvmnC3BYPFQZGSNrqlXE42Z8AlliNqTybHsEX5sPdE6xI0Bxa3YHchvXbC7VWNdY00HAOH/AAjgds4AjdmMyrmnY+sOaCPYQEH4/KdWhP8AxlRyOJbJE6Wo69DETc4C0ciCOrLK8XTxs2rvDZHcXRpIIGw0/rVti0ylZx9/GTzxST1G3mVwLcUXDzeU+tNI1kzA9jnRPLXgO326HbD7R2NdkdLBwDh89znYgEbtwWYe07H1hzWkewtB9S9Naf8ALOmf+2ZL/wCUW0GP2g3oa2XwFixIyGCAZiWaWRwZHHGyhu573Ho1oC9Dr6Zw50WAzs1PbiFlterG9zO/mMoz2W3XN267GIOO/RpWH2l0a9jN6VjshrmC3kJWsdtwvmgpGaEEHv2exrwPbGF0NBrtN5yrkazLdOUTQScQDgHNc17HFskUkbwHxSscC1zHAOaQQQFrdT6wr0Zo6jYrN6/Kzmx0KMQmscnct58pc5sVaDiHCHyvYCQQNyNlqNLRiHUmegh6QS0sPemY3YMZfndka8rwB0EkkFSq53t4Gn1kmO6MmzYt56alRxVl8matxTzXMnarWQ2sI4qcLoosfK1kLavJc0B/XnF2wLigkzO0JsL425TGZHDsle2OO1cbVlpcx5DWMmtUbErKpc4hoMvA0kgb7kKbKA5M6ktQy17GH0/LBPG+KaN+avFr45Glr2uHzR1BBKzcfDkcdpoxzObNkqOJlaHxvdMJJ61Z4gPMexrpHHgj3JaCTug/WS12wWJquPoX8vNWfy7RotrtrV5R1MMlu5NFC6wNxvGxznN39INUZ7QNUw3acFd0NmldizWnJJaN2NsVgRHO0AJoixzorMHF6PMie9oPQkHopl2ZUq9fDYyOtsYTSryh4O5mdNG2aSd7v05JHvdI53rLyVHe3alA+DETyAc+vqHCeTO7nbzZGuyaMHvLTHxPLe7eFp/RCDoNiZkbHySPbHHG1z3ve4NYxjQXOe9zujWgAkk92yhcHaE6wObQwuYv0/0bsUVSCKZv9ZWivWopp4j3hwZs4dW7ggr72yNElOlWlO1W5mcVVuDua+tLaZvA8/1csjYoXD1iYj1qbMAAAA2A6ADuAHcB9yDnNfO1shqHDzVnOIbi89FLFJG+GevOyxhC+CzBKBJBM0OaS1wB2c0jcEEzTU2eq42u6zcl5UQc1jdmukklleeGOCCGMGSed56NYwFx9QUOyVKBms8fOwAT2MFkm2NunE2C1jhA9wH6W0kreLvIjaO5o2xtfuvO1HiG1a9O0+HG5GzVhv25qcIn51OCexG6GrMZLMcMrWgFo2bZlIPVBtna9stHNfpzPNrbb84Q0ZJA3v4jSiuOtf8AwiMu/wA3fopTgMxWv147dOZk9eUEskZvseElrmuaQHMe1wc0tcAWlpBAIUY8v1V7rwP/AOt3/hCdnOGyVa1lZ7sFGrHfmr2o69G3PbY2zyjDcmcZqsPLMgjrO2aDu4PJ6k7htdV6trY98MDmWLVyyHGtQpRc+3M1mwfJwbhkMDS4AyyOawEgb7kBYFHXIEsUWRxuQxBsSMigluNqyVZJpCGxwmzSnljgme4hrWylnE4hrSSQFj9n8bZMpqOzJsbTcjDRBP0oqMGPpzVom/VjL7NiX73SuKlecowWa09ey1r680T45mu2DTG5pDiSfo7Drv6tt0EW7Cv+bmI/7I3/AFnKaqDdgR30zhSTuTRjO5GxPV3Uj1FTlAREQEREBERAREQFxv5V2kDfxLb8LOKxi3OlIA3c+nKGtstG31S2KX9UT/auyIgqH8kqJw1ESWuA+brfUtIH9JW9oXp8qfQFTFX4slSbLGM1NbmuxcXFXbeaYXuniaescs4lkc8bkEwbgDrvZjUutcTjJGw379epK9nMYyZ/C50fEW8TenUbtI/YoN2hal0RnqfkOVv0bVcSsnYOdNHLFPFvy5oJoeGSGQAuG7SNw9wO4cQUCnmybLe5A1oLuQrVZ3z0oLj48fYleXvnqFrHxl0hAMha5z2cTupEYJ3JJP2SQNG7jsPvVta0dbuUa8V+ezd57VVd0hXbr1Jo8tu/y2NDsv3XHps/0m/3hbbyuP64/enlcf1x+9ZU4CzExPSx6fVjVj7sxMdHPr9H5yX9G79bf9YLUbLc+Vx/XH708rj+uP3qRi8Pav163SRGzLs+qPhcRdsUavRzO3Pt+jTbL4Tt39FIOLpvv0233+72rUZ+8DFJCxsjnTQzNZKxrXMikLC1heOLjHUjq1p7vUo1zRtFuM5uen9pNvSVdycqbfr/AE8eU4jcNcQRuCGkgj7jt1VtMOP+JK4/+6Yf9iaoz2fdoeGjxOMifajpvhoVIXVJC4vruhgZEYiWt2PDwbAjvGy3f5R8H7yr/wD8n8i+O6exuMxs00fd6o1Kp25TOfZ3fDxdnhLVq1Ezrxtj32qqxwv2HoP7h+i7+C/XJf8AUf8A2XfwVqfyk4T3nB+Mn8q32Gy8FyFtirM2eFxc1sjCeElji1wG4B6EEKyu/a7E2o1rmGqpjjMzEetDRTo63VOUVxPvzU45L/qP/su/gvw8FvRwLf8AS6f3q2V3tAw8MkkMuRhZLE90cjCZN2PYS1zTs3vBBH7Fx/5QdvD5LyPIVLkNq5A+OnPW4TJHZx88pMnG2RuzXwPPNDh6jI3rxDay0Zp+9ib9Fu7Yqopq/PlMxGe78sbPHPYj4nCU27c1U1RMx2e5nagWL/o/2la+2Pzj/wDSP962UdiFoDWua1rQGtaBs1rQNgAANgAPUv15XH9cfvX0i7YtXLVNvpI+Ht2fVyNq9dt3arnRz8XZt+jTbJst5FM12/C7fbv2+9fJrLGb8TtthvsA4nb7g0bn9ijzou3Ea3SbOOX9pHWdeer0c58PcNJsu3fI/wBN1bWUs5GeIvnxkDPIZN3CON9znwWJAB6L5OXGWAnfhEsnrO4inYxpzS2QFu9qu51NrlY/Fy2rNeGOpA1o59iKsW8x8spceF7iOFjd+h2FmsV2l6UqwxVq2TxtevCxscMEO0UMUbRs1kcbGhrGAeoBVNcUxVMUzn4rWiapiJqjLwcN+WFG456sWtcR801xuGk//a73sC6D8kfSBqY6bKTMLZ8i7ghDhs5lOBzmtOx6t5kvG772siK6dpzXOIyUxgoZCtamDDIY4X8TxG0ta55G3RoL2jf2uHtUiWDMREQYOdbbNeQUX1o7Xo8p9uKWauDxN4uZHDLG9w4eIDZw6kd/coDpzTWqaEUkMF/T5ZJauW3c3G5Fzubdsy25g0tyLQIw+ZwaNtw0Dck7k9MRBzbOaa1LkI4q929gvJhboWpPJcdkIpz5Ddr3WtjklvyMbxOrtad2no493etj2jady9+xQko2sbBFj7DbsbLdS1PI642G1W9N8NqNprcq0fQADuJoPFt0U4RBEddafyFwYuanYpw3cbbNvitV55qsjn0LdKRvJimZIB/lbnD0+nCN9/X+tcYG/alxlqhYpw2cfPNKfK4Jp4JBPVkqvHLhmjeDwyuI9PvA71n5nVNepkMZjZGzGxlTbFZzGsMTfIoPKJec4vDm7s7tg7c9+3et6g55q3Q9/K5CCW3cqx0aT55aPkcE8OSgmkha2Kc2ZJ3wvljla142jDTts4OBIOaY9VNaYWvwUp+i2/I29E/buEkmOYC10m3Uhs7Wk7/RHRTZY2VvMrQS2JBIY4WOkeIYZbEpa0bnlwQMdJK7/Na0k+xBqtGabbjopeKaS3btTGzeuyhrZbNhzWs4uBnoxQsYxjGRt6Maxo6ncnXZ7TFplyTJ4izFVtzMjZcr2onTUMg2IcMT5mxObJBaYz0GzMJ9HYOa8Nbw7fSepamUilmqOlLYZ3VpWz1rFSWOZjI5HMfDajZI08MrD1H6S3CCFSR6pnHLL8Jjmno6eHyzJTAeswxTMgjY/wBhfxgetpUqw9N0FeGB881p8cbWPsWOWZp3AbOkl5bGs43HcnhaB16ALLRBAqWnMviS6LDy0bGNc974aGRdYgfQ43F7oqlyuyTiqcRJbE+PdgOwdwgNGv1RoTK5Rkdi5dpNvVLVO1joIoZ3Y2k+tahsPfIDI2a7YkbEYjITGGskcGtYXOc7pqINBNhJL+MfRzBrzyTxuZYfSZNWi34y6KSu2WWSSGVm0bg7jJD2cQ26AaarW1RWb5OybEZGNvoxXbht1LfAO42q9eN8ViUetzHRB3sapwiDmVjQWWjv18vWyNGXK+T2a12e9TsPrPimfWfFBTrV7TDWrw8iTha6R5JsSOcXOcSpfq/TbchHARNJVuVJBYpXYA0yVp+EsceB+7ZYHsc5j4ndHtcR0OxG+RBCmHVbRyy3T8pHTysyZCEO/wA80RG/hPr4RPt94W50pi70AlffyBvTzOYSI4GValdrGkcurAHPka0kkl0kj3HYdRtst4iCI6k0zbFw5TEWIq118TILcFqN0lHIQxEmEWBERJDYj43hkzCSA8hzXjYDGmw+ayQ5GTkx9Sg7pZr459mxYus/SrvtTsiFas8bh4Yxz3NJAezckzdEEN7K9PZPF1WUblihPVrRMiqeS1rEE4ALy82Hy2Hsk6Fu3Axm2xUyREBERAREQEREBERAREQc87eez8Z7GlsQaMhU4pqLzsOJxA5lZzvUyVrQOvQObG79Eg0omjcxzmPa5j2Ocx7Hgtex7HFr2PaerXBwIIPcQV/RpV2+VB2WGTmZ3HRbva3iyddg6vYwf+2xtH6bWjaQesAO72u4g4X2b04bGZxVexFHPBPkacU0MzGyRSxSTsa+OSN4LXsc0kEEbEEqW9q/YzktPi3ZhnqWNPtnaaokln+cqjbEgbFUc1zCyeKN7g0PL+LhA37tlGeyf/l7C/8AelD/AGmNWi+VX/zZtf8AaKP+1xLKmuqnPKd+yWNVFNWWcbtsKbIiLFkIi+Sdx/Uf7kGfRy9WxHIIZ43mJpbI0O2cw7lnpNdsQOIbb+vp7QsFXF1n2Y4DI4iK9cxVSa5SxXNr2AwxStfHU44+N0JbzmtcOINk4gDv06qnLe4fqUrE4qq9q5xuRsNhabOtlO99REUVJF2Dsy7WMFhsXDTyVx9WdjrEvC+pccySN87iDDKyEsn+kAQwkghwP0Ttx9XI+SuwHTNPcA7WbxG4B2PlcvUb9xVdpPRtrH2uiuzMRnns37M47Yni3WL9VmrWp9VS9W3GWMhesR8fLnt2Jo+ZG+J/BJK57eOKUB8btiN2uAI9YWrUl7VP+Xc1/wB63/8AapVGlOt0RRTFMdkRHJqqnOcxERZvEr7M9B5fP2n18Y+rWhhYJLt6018jYA7ibXjigY4GaaQiU9SGgQu3IJaHO1PRVnAXmUbV2K/K6rFZE8NZ1RoZJJNGIzE6WTdwMLjxAgHjA2G3XsHyKPp53/Rxn9+QUX+V/wD84Yv+6an+1X1nN2uadTPZwa4tURVrZbeLji+tBJAAJJIAABJJPQAAdSSfUvisP8l7stL3RZ7IRkMYePGQPH03eq89p/QH/R7959P1MJwbHSPk8dnnzHjuZYYBkrwZLa32JgYATDUBHT0A4l23e9zupDWrpyIgIiINdqG/NWgMsFKxfkDmtFas+rHK4OOxcHXJo4+Fo6n0t/YCtH2fayfmGc5uLvU6zmvMdmzJQLJHxymGSHlV7L5o5Wva8EPY3bgcD12Blqgunf8Ai3OXcefRq5Zr8vQ+q200siy1Zvs3ca9kD1mzOfUUHpqrXdihbjq/MeSs+UTCvTmgmxYZbl8ndYeImS3Wysa1kcu7pGsA5R69W7yyvZe6u2Z1eWOR0QkNVzoTMx5ZxGBzmSGEyA+juHlu/wClt1USwQ+cc5cvn0q2IY/E0vY65IY5stOPUeHhq1gfUYbI9ZU3QQCHVfNyOLiv6duUp7EtiChctuxE/IlFKxZmax9W3LLDxw1pGktGx6A9FP1Ce0D/AJW0r/3td/8AkGXU2QaTV+pq+MjjdK2WaaeTk1KlZnNt25y0v5VeLcAkNa5xc4ta0NJc4DqtI7WORgbzr2At16g6yTV7VS9NXZsSZJ6td3MLB6+TzSPYQCV8a1r9Vv52xdDgYnUQfUJr8zci+MfW/N45riOuxZ7es3QQbslsxzOzs0L2SxS52aSKSNweySN+PxrmPY5vRzSCCCPatlqTWDK1kUKlWxk8iY2yuq1eU0V4XEhk1yzO9sVaNxa4NBJe7hPC0gEjR9iENeNufZV4RA3UuSDAz6LXcqpzWNA6BrZeYAB0AA2Wo0SzNeVZ91J2IDznLYs+WMuOteiyEUxIYnhvL8i8l4Bt9E/rQSKbXVmmWvzGIsY6q5zWuvx2K96nXLiGtNt0JEtaMuIHMLCwbjic0dVOAdxuOoPUbKEW6uppo5Ipf+D0kUrHRyMdFkS17HtLXscDJ1aQSNvvWy0ti7ePwkFN8jZ7dOjyGSM4y174YyyDbmekTs2MbnqSCgxMhrV77M1TFY6xlZazzHamZLBVo1phsXV3253fnLADhuyJr+Hudwnov1idaHyqKjkqNjFWrHEKhmkhsVLjmtL3RVrcDi3nhrXO5cgY4hpLQ4A7OxhkI0/iDBsWvoV5ZHfpPsTMEtt8h7zK6w6Yu368Rdusftzaz5hvSHpNCIJqTh9NuQjsROoGI94lNnlNG3fx7etBNkXxu+w379uv6/WvqAiIgIiICIiAiIgIiICIiAiIgIiICIiAhCIgjNXs+wUMzLEWIxsU8cjZY5Y6cDHxytdxNkYWsHC4OG4IW4zeIq3oXV7leG1A4tc6GeNssTnMcHMJY8EEhwBH3hZyIIl+TLTvuPF+Br/yJ+TLTvuPF+Br/wAilqIIl+TLTvuPF+Br/wAi+Hsx077jxfga/wDIpciDwfUiMRgMbDCYzEYi0csxFvAY+Hu4OHpt7FGfyZad9x4vwNf+RS1EES/Jlp33Hi/A1/5E/Jlp33Hi/A1/5FLUQRL8mWnfceL8DX/kUgwmIq0YW16deGrA0uc2GCNsUbS9xc8hjAACXEk/eVmogi93s8wM8sk02Hxss0r3SSyyU4HPkke4ue97nN3c4kkkn2ry/Jlp33Hi/A1/5FLUQRL8mWnfceL8DX/kT8mWnfceL8DX/kUtRBqNO6Xx2OMhoUatLncHN8mgjh5nL4+Xx8sDi4eN+2/dxH2rwz+jMTkJRPextK3MGNiEtitFLII2uc5rA57SeEF7zt/nH2rfIgiJ7MdO+48X4Kv/ACKWsaGgNaAAAAABsAB0AAHcF9RAREQEREBRzXmm5MhHWdWstpXqNplqlcdB5SIX8L4Z2Pg5kfNikglmjLeMfTB68OykaINRo3BMxtGvSY8ymFn52ZzQ19ixI50tmy8AnaSWZ8kh6nq8rJz8FqWvIylYjqWXcPLsTVjbjj2c0u4q4lj5m7Q4fTG24PXbZZyIOaZTRGobM9KxLqGhzMfPJYrcOn3Bollqz03l4+dPTbyrMvTp1IPqUo0tjcxDK92RylW/EWbRx18WaDmScQPG6Q3ZuNvDuOHhHfvv02UjRBHtZaYbkORLHYkpXqb3SUr0Ia6SF0jeGWOSN/oWKsgDQ+J3R3C09HNa4ao4fUVhogtZahBAfRmmxuPnhvSs7iIZbNuSOm4j9MNeR+jwnZwmyIIPojRFnEWrHkt2u3EzzvsDGjHubNG91eGBoF82zxAchrjvFu4l253O6ztR6UlfaORxlz5uyDo2RTudCLNO7FHvymXanGwyPZu4NlY9j2hxG5b6KlSIIVLitS2Pzc2Wx1KIjZ78djZXWnA/1Ut61JFAfvMT/wDzUqw9EVq8NcSzzCGNsfNsyvnsScI245pn+lJIe8n7/UstEEIfpK/Rnmlwd2CtBYlfPPjb1Z9mk2eUl0s1N0M0ctNz3kvczd7C5ziGtJJP7p6SuWbMFvNXYrfkkonp0KdZ1WhDO0bMszNlmkluWGbksL3BrCdwziAcpoiAiIgIiICIiAiIgIiICIiAiIgIiICIiAiIgIiICIiAiIgIiICIiAiIgIiICIiAiIgIiICIiAiIgIiICIiAiIgIiICIiAiIgIiICIiAiIgIiICIiAiIgIiICIiAiIgIqAeerqr3fp/wuR+Ip56uqvd+n/C5H4igv+ioB56uqvd+n/C5H4innq6q936f8LkfiKC/6KgHnq6q936f8LkfiKeerqr3fp/wuR+IoL/oqAeerqr3fp/wuR+Ip56uqvd+n/C5H4igv+ioB56uqvd+n/C5H4innq6q936f8LkfiKC/6KgHnq6q936f8LkfiKeerqr3fp/wuR+IoL/oqAeerqr3fp/wuR+Ip56uqvd+n/C5H4igv+ioB56uqvd+n/C5H4innq6q936f8LkfiKC/6KgHnq6q936f8LkfiKeerqr3fp/wuR+IoL/oqAeerqr3fp/wuR+Ip56uqvd+n/C5H4igv+ioB56uqvd+n/C5H4innq6q936f8LkfiKC/6KgHnq6q936f8LkfiKeerqr3fp/wuR+IoL/oqAeerqr3fp/wuR+Ip56uqvd+n/C5H4igv+ioB56uqvd+n/C5H4innq6q936f8LkfiKC/6KgHnq6q936f8LkfiKeerqr3fp/wuR+IoL/oqAeerqr3fp/wuR+Ip56uqvd+n/C5H4igv+ioB56uqvd+n/C5H4innq6q936f8LkfiKC/6KgHnq6q936f8LkfiKeerqr3fp/wuR+IoL/oqAeerqr3fp/wuR+Ip56uqvd+n/C5H4igv+ioB56uqvd+n/C5H4innq6q936f8LkfiKC/6KgHnq6q936f8LkfiKeerqr3fp/wuR+IoL/oqAeerqr3fp/wuR+Ip56uqvd+n/C5H4igv+ioB56uqvd+n/C5H4innq6q936f8LkfiKC/6KgHnq6q936f8LkfiKeerqr3fp/wuR+IoL/oqAeerqr3fp/wuR+Ip56uqvd+n/C5H4igv+ioB56uqvd+n/C5H4innq6q936f8LkfiKC/6KgHnq6q936f8LkfiKeerqr3fp/wuR+IoL/oqAeerqr3fp/wuR+Ip56uqvd+n/C5H4igv+ioB56uqvd+n/C5H4innq6q936f8LkfiKC/6KgHnq6q936f8LkfiKeerqr3fp/wuR+IoKzIiICIiAiIgIiICIiAiIgIiICIiAiIgIiICIiAiIgIiICIiAiIgIiICIiAiIgIiICIiAiIgIiICIiAiIgIiICIiAiIgIiICIiAiIgIiICIiAiIgIiICIiAiIgIiICIiAiIgIiICIiAiIgIiICIiAiIgIiICIiAiIgIiICIiAiIgIiICIiAiIgIiICIiAiIgIiICIiAiIgIiICIiAiIgIiICIiAiIgIiICIiAiIgIiICIiAiIgIiICIiAiIgIiICIiAiIgIiICIiAiIgIiICIiAiIgIiICIiAiIgIiICIiAiIg//9k=\n",
         "text/html": "\n        <iframe\n            width=\"600\"\n            height=\"159\"\n            src=\"https://www.youtube.com/embed/LhAIzP5wWqY?rel=0&loop=1\"\n            frameborder=\"0\"\n            allowfullscreen\n            \n        ></iframe>\n        ",
         "text/plain": "<IPython.lib.display.YouTubeVideo at 0x7c272035e290>"
        },
        "metadata": {},
        "output_type": "display_data"
       }
      ]
     }
    },
    "f6d46d0870914787a1b13b630bae1e9d": {
     "model_module": "@jupyter-widgets/controls",
     "model_module_version": "1.5.0",
     "model_name": "IntSliderModel",
     "state": {
      "_dom_classes": [],
      "_model_module": "@jupyter-widgets/controls",
      "_model_module_version": "1.5.0",
      "_model_name": "IntSliderModel",
      "_view_count": null,
      "_view_module": "@jupyter-widgets/controls",
      "_view_module_version": "1.5.0",
      "_view_name": "IntSliderView",
      "continuous_update": false,
      "description": "resize",
      "description_tooltip": null,
      "disabled": false,
      "layout": "IPY_MODEL_f0a6c34e5cf9476ca720a07c9ccbb6d8",
      "max": 1100,
      "min": 300,
      "orientation": "horizontal",
      "readout": false,
      "readout_format": "d",
      "step": 50,
      "style": "IPY_MODEL_8fda2fdf8a0d4f2a96169626aa25d22d",
      "value": 600
     }
    },
    "f6e01bb4cdef44bca74c471de31c2612": {
     "model_module": "@jupyter-widgets/base",
     "model_module_version": "1.2.0",
     "model_name": "LayoutModel",
     "state": {
      "_model_module": "@jupyter-widgets/base",
      "_model_module_version": "1.2.0",
      "_model_name": "LayoutModel",
      "_view_count": null,
      "_view_module": "@jupyter-widgets/base",
      "_view_module_version": "1.2.0",
      "_view_name": "LayoutView",
      "align_content": null,
      "align_items": null,
      "align_self": null,
      "border": null,
      "bottom": null,
      "display": null,
      "flex": null,
      "flex_flow": null,
      "grid_area": null,
      "grid_auto_columns": null,
      "grid_auto_flow": null,
      "grid_auto_rows": null,
      "grid_column": null,
      "grid_gap": null,
      "grid_row": null,
      "grid_template_areas": null,
      "grid_template_columns": null,
      "grid_template_rows": null,
      "height": null,
      "justify_content": null,
      "justify_items": null,
      "left": null,
      "margin": null,
      "max_height": null,
      "max_width": null,
      "min_height": null,
      "min_width": null,
      "object_fit": null,
      "object_position": null,
      "order": null,
      "overflow": null,
      "overflow_x": null,
      "overflow_y": null,
      "padding": null,
      "right": null,
      "top": null,
      "visibility": null,
      "width": null
     }
    },
    "f85dc929b2434a0c925b3a19dd1bc8ec": {
     "model_module": "@jupyter-widgets/controls",
     "model_module_version": "1.5.0",
     "model_name": "VBoxModel",
     "state": {
      "_dom_classes": [
       "widget-interact"
      ],
      "_model_module": "@jupyter-widgets/controls",
      "_model_module_version": "1.5.0",
      "_model_name": "VBoxModel",
      "_view_count": null,
      "_view_module": "@jupyter-widgets/controls",
      "_view_module_version": "1.5.0",
      "_view_name": "VBoxView",
      "box_style": "",
      "children": [
       "IPY_MODEL_1e3d8229bae3427eb514ada5d3e69679",
       "IPY_MODEL_6afd30737b47420b839cc7e22b38d2ef"
      ],
      "layout": "IPY_MODEL_144aab92db8b46e28029aa4e83e3415b"
     }
    }
   }
  }
 },
 "nbformat": 4,
 "nbformat_minor": 1
}
